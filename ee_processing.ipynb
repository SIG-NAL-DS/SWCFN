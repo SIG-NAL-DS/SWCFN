{
 "cells": [
  {
   "cell_type": "code",
   "execution_count": 1,
   "metadata": {},
   "outputs": [],
   "source": [
    "import rasterio\n",
    "import numpy as np\n"
   ]
  },
  {
   "cell_type": "code",
   "execution_count": 2,
   "metadata": {},
   "outputs": [],
   "source": [
    "def replace_value_with_nodata(input_tif, output_tif, nodata_value=-9999, replace_value=np.nan):\n",
    "    \"\"\"\n",
    "    Replace a specified value (NaN or a specific number) in a TIFF file with a NoData value and save the modified file.\n",
    "\n",
    "    Parameters:\n",
    "    input_tif (str): Path to the input TIFF file.\n",
    "    output_tif (str): Path to the output TIFF file.\n",
    "    nodata_value (float): The value to replace specified values with. Default is -9999.\n",
    "    replace_value (float): The value to be replaced. Default is NaN.\n",
    "    \"\"\"\n",
    "    # Open the input TIFF file\n",
    "    with rasterio.open(input_tif) as src:\n",
    "        # Read the data into a numpy array\n",
    "        data = src.read(1)\n",
    "        \n",
    "        if np.isnan(replace_value):\n",
    "            # Replace NaN values with the specified NoData value\n",
    "            data = np.nan_to_num(data, nan=nodata_value)\n",
    "        else:\n",
    "            # Replace specific values with the specified NoData value\n",
    "            data[data == replace_value] = nodata_value\n",
    "        \n",
    "        # Get the metadata of the source TIFF file\n",
    "        profile = src.profile\n",
    "        \n",
    "        # Update the profile to include the new NoData value\n",
    "        profile.update(nodata=nodata_value)\n",
    "\n",
    "        # Write the modified data to the output TIFF file\n",
    "        with rasterio.open(output_tif, 'w', **profile) as dst:\n",
    "            dst.write(data, 1)\n",
    "    \n",
    "    print(f\"Modified TIFF file saved as {output_tif}\")"
   ]
  },
  {
   "cell_type": "code",
   "execution_count": 3,
   "metadata": {},
   "outputs": [
    {
     "name": "stdout",
     "output_type": "stream",
     "text": [
      "Modified TIFF file saved as C:\\Users\\bsf31\\Documents\\post-meds\\data\\signal\\climate\\NM\\meta\\mod_nodata\\canopy_height_bayard_2023.tif\n"
     ]
    }
   ],
   "source": [
    "\n",
    "\n",
    "\n",
    "input_tif = r\"C:\\Users\\bsf31\\Documents\\post-meds\\data\\signal\\climate\\NM\\meta\\canopy_height_bayard_2023.tif\"\n",
    "output_tif = r\"C:\\Users\\bsf31\\Documents\\post-meds\\data\\signal\\climate\\NM\\meta\\mod_nodata\\canopy_height_bayard_2023.tif\"\n",
    "nodata_value = 0\n",
    "\n",
    "# Replace NaN values with nodata_value\n",
    "replace_value_with_nodata(input_tif, output_tif, nodata_value, replace_value=np.nan)\n",
    "\n",
    "\n"
   ]
  },
  {
   "cell_type": "code",
   "execution_count": 5,
   "metadata": {},
   "outputs": [
    {
     "name": "stdout",
     "output_type": "stream",
     "text": [
      "Modified TIFF file saved as C:\\Users\\bsf31\\Documents\\post-meds\\data\\signal\\climate\\NM\\meta\\mod_nodata\\canopy_height_deming_2023.tif\n"
     ]
    }
   ],
   "source": [
    "input_tif = r\"C:\\Users\\bsf31\\Documents\\post-meds\\data\\signal\\climate\\NM\\meta\\canopy_height_deming_2023.tif\"\n",
    "output_tif = r\"C:\\Users\\bsf31\\Documents\\post-meds\\data\\signal\\climate\\NM\\meta\\mod_nodata\\canopy_height_deming_2023.tif\"\n",
    "nodata_value = 0\n",
    "\n",
    "# Replace NaN values with nodata_value\n",
    "replace_value_with_nodata(input_tif, output_tif, nodata_value, replace_value=np.nan)"
   ]
  },
  {
   "cell_type": "code",
   "execution_count": 4,
   "metadata": {},
   "outputs": [
    {
     "name": "stdout",
     "output_type": "stream",
     "text": [
      "Modified TIFF file saved as C:\\Users\\bsf31\\Documents\\post-meds\\data\\signal\\climate\\NM\\meta\\mod_nodata\\canopy_height_hurley_2023.tif\n"
     ]
    }
   ],
   "source": [
    "input_tif = r\"C:\\Users\\bsf31\\Documents\\post-meds\\data\\signal\\climate\\NM\\meta\\canopy_height_hurley_2023.tif\"\n",
    "output_tif = r\"C:\\Users\\bsf31\\Documents\\post-meds\\data\\signal\\climate\\NM\\meta\\mod_nodata\\canopy_height_hurley_2023.tif\"\n",
    "nodata_value = 0\n",
    "\n",
    "# Replace NaN values with nodata_value\n",
    "replace_value_with_nodata(input_tif, output_tif, nodata_value, replace_value=np.nan)"
   ]
  },
  {
   "cell_type": "code",
   "execution_count": 7,
   "metadata": {},
   "outputs": [
    {
     "name": "stdout",
     "output_type": "stream",
     "text": [
      "Modified TIFF file saved as C:\\Users\\bsf31\\Documents\\post-meds\\data\\signal\\climate\\NM\\meta\\mod_nodata\\canopy_height_lordsburg_2023.tif\n"
     ]
    }
   ],
   "source": [
    "input_tif = r\"C:\\Users\\bsf31\\Documents\\post-meds\\data\\signal\\climate\\NM\\meta\\canopy_height_lordsburg_2023.tif\"\n",
    "output_tif = r\"C:\\Users\\bsf31\\Documents\\post-meds\\data\\signal\\climate\\NM\\meta\\mod_nodata\\canopy_height_lordsburg_2023.tif\"\n",
    "nodata_value = 0\n",
    "\n",
    "# Replace NaN values with nodata_value\n",
    "replace_value_with_nodata(input_tif, output_tif, nodata_value, replace_value=np.nan)"
   ]
  },
  {
   "cell_type": "code",
   "execution_count": 3,
   "metadata": {},
   "outputs": [
    {
     "name": "stdout",
     "output_type": "stream",
     "text": [
      "Modified TIFF file saved as C:\\Users\\bsf31\\Documents\\data\\NM\\meta\\mod_nodata\\canopy_height_santa_clara_2023.tif\n"
     ]
    }
   ],
   "source": [
    "input_tif = r\"C:\\Users\\bsf31\\Documents\\data\\NM\\meta\\canopy_height_santa_clara_2023.tif\"\n",
    "output_tif = r\"C:\\Users\\bsf31\\Documents\\data\\NM\\meta\\mod_nodata\\canopy_height_santa_clara_2023.tif\"\n",
    "nodata_value = 0\n",
    "\n",
    "# Replace NaN values with nodata_value\n",
    "replace_value_with_nodata(input_tif, output_tif, nodata_value, replace_value=np.nan)"
   ]
  },
  {
   "cell_type": "code",
   "execution_count": 3,
   "metadata": {},
   "outputs": [
    {
     "name": "stdout",
     "output_type": "stream",
     "text": [
      "Modified TIFF file saved as C:\\Users\\bsf31\\Documents\\data\\NM\\meta\\mod_nodata\\canopy_height_silver_city_2023.tif\n"
     ]
    }
   ],
   "source": [
    "input_tif = r\"C:\\Users\\bsf31\\Documents\\data\\NM\\meta\\canopy_height_silver_city_2023.tif\"\n",
    "output_tif = r\"C:\\Users\\bsf31\\Documents\\data\\NM\\meta\\mod_nodata\\canopy_height_silver_city_2023.tif\"\n",
    "nodata_value = 0\n",
    "\n",
    "# Replace NaN values with nodata_value\n",
    "replace_value_with_nodata(input_tif, output_tif, nodata_value, replace_value=np.nan)"
   ]
  },
  {
   "cell_type": "code",
   "execution_count": 3,
   "metadata": {},
   "outputs": [
    {
     "name": "stdout",
     "output_type": "stream",
     "text": [
      "Modified TIFF file saved as C:\\Users\\bsf31\\Documents\\post-meds\\data\\signal\\climate\\NM\\LST\\nodata\\Hurley_LST_Mean_Image.tif\n"
     ]
    }
   ],
   "source": [
    "input_tif = r\"C:\\Users\\bsf31\\Documents\\post-meds\\data\\signal\\climate\\NM\\LST\\Hurley_LST_Mean_Image.tif\"\n",
    "output_tif = r\"C:\\Users\\bsf31\\Documents\\post-meds\\data\\signal\\climate\\NM\\LST\\nodata\\Hurley_LST_Mean_Image.tif\"\n",
    "nodata_value = 0\n",
    "\n",
    "# Replace NaN values with nodata_value\n",
    "replace_value_with_nodata(input_tif, output_tif, nodata_value, replace_value=np.nan)"
   ]
  },
  {
   "cell_type": "code",
   "execution_count": 3,
   "metadata": {},
   "outputs": [
    {
     "name": "stdout",
     "output_type": "stream",
     "text": [
      "Modified TIFF file saved as C:\\Users\\bsf31\\Documents\\post-meds\\data\\signal\\climate\\NM\\LST\\nodata\\Hurley_LST_Mean_Image2.tif\n"
     ]
    }
   ],
   "source": [
    "input_tif = r\"C:\\Users\\bsf31\\Documents\\post-meds\\data\\signal\\climate\\NM\\LST\\Hurley_LST_Mean_Image2.tif\"\n",
    "output_tif = r\"C:\\Users\\bsf31\\Documents\\post-meds\\data\\signal\\climate\\NM\\LST\\nodata\\Hurley_LST_Mean_Image2.tif\"\n",
    "nodata_value = 0\n",
    "\n",
    "# Replace NaN values with nodata_value\n",
    "replace_value_with_nodata(input_tif, output_tif, nodata_value, replace_value=np.nan)"
   ]
  },
  {
   "cell_type": "code",
   "execution_count": 4,
   "metadata": {},
   "outputs": [
    {
     "name": "stdout",
     "output_type": "stream",
     "text": [
      "Modified TIFF file saved as C:\\Users\\bsf31\\Documents\\post-meds\\data\\signal\\climate\\NM\\LST\\nodata\\North_Hurley_LST_Mean_Image.tif\n"
     ]
    }
   ],
   "source": [
    "input_tif = r\"C:\\Users\\bsf31\\Documents\\post-meds\\data\\signal\\climate\\NM\\LST\\North_Hurley_LST_Mean_Image.tif\"\n",
    "output_tif = r\"C:\\Users\\bsf31\\Documents\\post-meds\\data\\signal\\climate\\NM\\LST\\nodata\\North_Hurley_LST_Mean_Image.tif\"\n",
    "nodata_value = 0\n",
    "\n",
    "# Replace NaN values with nodata_value\n",
    "replace_value_with_nodata(input_tif, output_tif, nodata_value, replace_value=np.nan)"
   ]
  },
  {
   "cell_type": "code",
   "execution_count": 5,
   "metadata": {},
   "outputs": [
    {
     "name": "stdout",
     "output_type": "stream",
     "text": [
      "Modified TIFF file saved as C:\\Users\\bsf31\\Documents\\post-meds\\data\\signal\\climate\\NM\\LST\\nodata\\Hurley_LST_Anomaly.tif\n"
     ]
    }
   ],
   "source": [
    "input_tif = r\"C:\\Users\\bsf31\\Documents\\post-meds\\data\\signal\\climate\\NM\\LST\\Hurley_LST_Anomaly.tif\"\n",
    "output_tif = r\"C:\\Users\\bsf31\\Documents\\post-meds\\data\\signal\\climate\\NM\\LST\\nodata\\Hurley_LST_Anomaly.tif\"\n",
    "nodata_value = 0\n",
    "\n",
    "# Replace NaN values with nodata_value\n",
    "replace_value_with_nodata(input_tif, output_tif, nodata_value, replace_value=np.nan)"
   ]
  },
  {
   "cell_type": "code",
   "execution_count": 5,
   "metadata": {},
   "outputs": [
    {
     "name": "stdout",
     "output_type": "stream",
     "text": [
      "Modified TIFF file saved as C:\\Users\\bsf31\\Documents\\data\\NM\\LST\\nodata\\Santa_Clara_LST_Mean_Image.tif\n"
     ]
    }
   ],
   "source": [
    "input_tif = r\"C:\\Users\\bsf31\\Documents\\data\\NM\\LST\\Santa_Clara_LST_Mean_Image.tif\"\n",
    "output_tif = r\"C:\\Users\\bsf31\\Documents\\data\\NM\\LST\\nodata\\Santa_Clara_LST_Mean_Image.tif\"\n",
    "nodata_value = 0\n",
    "\n",
    "# Replace NaN values with nodata_value\n",
    "replace_value_with_nodata(input_tif, output_tif, nodata_value, replace_value=np.nan)"
   ]
  },
  {
   "cell_type": "code",
   "execution_count": 4,
   "metadata": {},
   "outputs": [
    {
     "name": "stdout",
     "output_type": "stream",
     "text": [
      "Modified TIFF file saved as C:\\Users\\bsf31\\Documents\\data\\NM\\LST\\nodata\\Silver_City_LST_Mean_Image.tif\n"
     ]
    }
   ],
   "source": [
    "input_tif = r\"C:\\Users\\bsf31\\Documents\\data\\NM\\LST\\Silver_City_LST_Mean_Image.tif\"\n",
    "output_tif = r\"C:\\Users\\bsf31\\Documents\\data\\NM\\LST\\nodata\\Silver_City_LST_Mean_Image.tif\"\n",
    "nodata_value = 0\n",
    "\n",
    "# Replace NaN values with nodata_value\n",
    "replace_value_with_nodata(input_tif, output_tif, nodata_value, replace_value=np.nan)"
   ]
  },
  {
   "cell_type": "code",
   "execution_count": null,
   "metadata": {},
   "outputs": [],
   "source": []
  },
  {
   "cell_type": "code",
   "execution_count": 6,
   "metadata": {},
   "outputs": [
    {
     "name": "stdout",
     "output_type": "stream",
     "text": [
      "Converted file saved as C:\\Users\\bsf31\\Documents\\post-meds\\data\\signal\\climate\\output\\modis_night_f.tif\n"
     ]
    }
   ],
   "source": [
    "input_tif = r\"C:\\Users\\bsf31\\Documents\\post-meds\\data\\signal\\climate\\output\\merged_night.tif\"\n",
    "output_tif = r\"C:\\Users\\bsf31\\Documents\\post-meds\\data\\signal\\climate\\output\\modis_night_f.tif\"\n",
    "\n",
    "# Open the original TIFF file using rasterio\n",
    "with rasterio.open(input_tif) as src:\n",
    "    # Read the data from the file\n",
    "    data = src.read(1)\n",
    "    \n",
    "    # Convert from Kelvin to Fahrenheit\n",
    "    # Formula: F = (K - 273.15) * 9/5 + 32\n",
    "    data_fahrenheit = (data - 273.15) * 9/5 + 32\n",
    "    \n",
    "    # Define metadata for the output file\n",
    "    meta = src.meta.copy()\n",
    "    meta.update(dtype=rasterio.float32)\n",
    "\n",
    "    # Write the converted data to the new file\n",
    "    with rasterio.open(output_tif, 'w', **meta) as dst:\n",
    "        dst.write(data_fahrenheit.astype(rasterio.float32), 1)\n",
    "\n",
    "print(f\"Converted file saved as {output_tif}\")"
   ]
  },
  {
   "cell_type": "code",
   "execution_count": 7,
   "metadata": {},
   "outputs": [
    {
     "name": "stdout",
     "output_type": "stream",
     "text": [
      "Converted file saved as C:\\Users\\bsf31\\Documents\\post-meds\\data\\signal\\climate\\output\\modis_day_f.tif\n"
     ]
    }
   ],
   "source": [
    "input_tif = r\"C:\\Users\\bsf31\\Documents\\post-meds\\data\\signal\\climate\\output\\merged_day.tif\"\n",
    "output_tif = r\"C:\\Users\\bsf31\\Documents\\post-meds\\data\\signal\\climate\\output\\modis_day_f.tif\"\n",
    "\n",
    "# Open the original TIFF file using rasterio\n",
    "with rasterio.open(input_tif) as src:\n",
    "    # Read the data from the file\n",
    "    data = src.read(1)\n",
    "    \n",
    "    # Convert from Kelvin to Fahrenheit\n",
    "    # Formula: F = (K - 273.15) * 9/5 + 32\n",
    "    data_fahrenheit = (data - 273.15) * 9/5 + 32\n",
    "    \n",
    "    # Define metadata for the output file\n",
    "    meta = src.meta.copy()\n",
    "    meta.update(dtype=rasterio.float32)\n",
    "\n",
    "    # Write the converted data to the new file\n",
    "    with rasterio.open(output_tif, 'w', **meta) as dst:\n",
    "        dst.write(data_fahrenheit.astype(rasterio.float32), 1)\n",
    "\n",
    "print(f\"Converted file saved as {output_tif}\")"
   ]
  },
  {
   "cell_type": "code",
   "execution_count": 8,
   "metadata": {},
   "outputs": [
    {
     "name": "stdout",
     "output_type": "stream",
     "text": [
      "Modified TIFF file saved as C:\\Users\\bsf31\\Documents\\post-meds\\data\\signal\\climate\\output\\mean_lst_landsat.tif\n"
     ]
    }
   ],
   "source": [
    "\n",
    "input_tif = r\"C:\\Users\\bsf31\\Documents\\post-meds\\data\\signal\\climate\\ee\\mean_lst_landsat.tif\"\n",
    "output_tif = r\"C:\\Users\\bsf31\\Documents\\post-meds\\data\\signal\\climate\\output\\mean_lst_landsat.tif\"\n",
    "nodata_value = -9999\n",
    "\n",
    "# Replace NaN values with nodata_value\n",
    "replace_value_with_nodata(input_tif, output_tif, nodata_value, replace_value=np.nan)"
   ]
  },
  {
   "cell_type": "code",
   "execution_count": 10,
   "metadata": {},
   "outputs": [
    {
     "name": "stdout",
     "output_type": "stream",
     "text": [
      "Modified TIFF file saved as C:\\Users\\bsf31\\Documents\\post-meds\\data\\signal\\climate\\output\\meta_canopy_height.tif\n"
     ]
    }
   ],
   "source": [
    "input_tif = r\"C:\\Users\\bsf31\\Documents\\post-meds\\data\\signal\\climate\\ee\\meta_canopy_height.tif\"\n",
    "output_tif = r\"C:\\Users\\bsf31\\Documents\\post-meds\\data\\signal\\climate\\output\\meta_canopy_height.tif\"\n",
    "nodata_value = 0\n",
    "\n",
    "# Replace NaN values with nodata_value\n",
    "replace_value_with_nodata(input_tif, output_tif, nodata_value, replace_value=0)"
   ]
  }
 ],
 "metadata": {
  "kernelspec": {
   "display_name": "dev_env",
   "language": "python",
   "name": "python3"
  },
  "language_info": {
   "codemirror_mode": {
    "name": "ipython",
    "version": 3
   },
   "file_extension": ".py",
   "mimetype": "text/x-python",
   "name": "python",
   "nbconvert_exporter": "python",
   "pygments_lexer": "ipython3",
   "version": "3.12.3"
  }
 },
 "nbformat": 4,
 "nbformat_minor": 2
}
