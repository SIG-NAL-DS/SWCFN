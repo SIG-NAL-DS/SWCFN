{
 "cells": [
  {
   "cell_type": "code",
   "execution_count": 1,
   "metadata": {},
   "outputs": [],
   "source": [
    "import ee\n",
    "import geemap\n",
    "import pandas as pd\n",
    "import geopandas as gpd\n",
    "import numpy as np\n"
   ]
  },
  {
   "cell_type": "code",
   "execution_count": null,
   "metadata": {},
   "outputs": [],
   "source": [
    "#ee.Authenticate()"
   ]
  },
  {
   "cell_type": "code",
   "execution_count": 5,
   "metadata": {},
   "outputs": [
    {
     "data": {
      "text/html": [
       "\n",
       "            <style>\n",
       "                .geemap-dark {\n",
       "                    --jp-widgets-color: white;\n",
       "                    --jp-widgets-label-color: white;\n",
       "                    --jp-ui-font-color1: white;\n",
       "                    --jp-layout-color2: #454545;\n",
       "                    background-color: #383838;\n",
       "                }\n",
       "\n",
       "                .geemap-dark .jupyter-button {\n",
       "                    --jp-layout-color3: #383838;\n",
       "                }\n",
       "\n",
       "                .geemap-colab {\n",
       "                    background-color: var(--colab-primary-surface-color, white);\n",
       "                }\n",
       "\n",
       "                .geemap-colab .jupyter-button {\n",
       "                    --jp-layout-color3: var(--colab-primary-surface-color, white);\n",
       "                }\n",
       "            </style>\n",
       "            "
      ],
      "text/plain": [
       "<IPython.core.display.HTML object>"
      ]
     },
     "metadata": {},
     "output_type": "display_data"
    }
   ],
   "source": [
    "# Initialize Earth Engine\n",
    "ee.Initialize()"
   ]
  },
  {
   "cell_type": "code",
   "execution_count": 6,
   "metadata": {},
   "outputs": [
    {
     "data": {
      "text/html": [
       "\n",
       "            <style>\n",
       "                .geemap-dark {\n",
       "                    --jp-widgets-color: white;\n",
       "                    --jp-widgets-label-color: white;\n",
       "                    --jp-ui-font-color1: white;\n",
       "                    --jp-layout-color2: #454545;\n",
       "                    background-color: #383838;\n",
       "                }\n",
       "\n",
       "                .geemap-dark .jupyter-button {\n",
       "                    --jp-layout-color3: #383838;\n",
       "                }\n",
       "\n",
       "                .geemap-colab {\n",
       "                    background-color: var(--colab-primary-surface-color, white);\n",
       "                }\n",
       "\n",
       "                .geemap-colab .jupyter-button {\n",
       "                    --jp-layout-color3: var(--colab-primary-surface-color, white);\n",
       "                }\n",
       "            </style>\n",
       "            "
      ],
      "text/plain": [
       "<IPython.core.display.HTML object>"
      ]
     },
     "metadata": {},
     "output_type": "display_data"
    }
   ],
   "source": [
    "# Load study area and community boundaries\n",
    "nm_path = r\"C:\\Users\\bsf31\\Documents\\post-meds\\data\\signal\\climate\\NM\\nm_vector.gpkg\"\n",
    "study_boundary = gpd.read_file(nm_path, layer='counties_dissolved')\n",
    "lordsburg_gdf = gpd.read_file(nm_path, layer='lordsburg')\n",
    "hurley_gdf = gpd.read_file(nm_path, layer='tes_hurley')\n",
    "bayard_gdf = gpd.read_file(nm_path, layer='nm_bayard')\n",
    "santa_clara_gdf = gpd.read_file(nm_path, layer='tes_santa_clara')\n",
    "silver_city_gdf = gpd.read_file(nm_path, layer='tes_silver_city')\n",
    "deming_gdf = gpd.read_file(nm_path, layer='tes_deming')\n",
    "\n"
   ]
  },
  {
   "cell_type": "code",
   "execution_count": 7,
   "metadata": {},
   "outputs": [
    {
     "data": {
      "text/html": [
       "\n",
       "            <style>\n",
       "                .geemap-dark {\n",
       "                    --jp-widgets-color: white;\n",
       "                    --jp-widgets-label-color: white;\n",
       "                    --jp-ui-font-color1: white;\n",
       "                    --jp-layout-color2: #454545;\n",
       "                    background-color: #383838;\n",
       "                }\n",
       "\n",
       "                .geemap-dark .jupyter-button {\n",
       "                    --jp-layout-color3: #383838;\n",
       "                }\n",
       "\n",
       "                .geemap-colab {\n",
       "                    background-color: var(--colab-primary-surface-color, white);\n",
       "                }\n",
       "\n",
       "                .geemap-colab .jupyter-button {\n",
       "                    --jp-layout-color3: var(--colab-primary-surface-color, white);\n",
       "                }\n",
       "            </style>\n",
       "            "
      ],
      "text/plain": [
       "<IPython.core.display.HTML object>"
      ]
     },
     "metadata": {},
     "output_type": "display_data"
    }
   ],
   "source": [
    "# Convert to Earth Engine geometry\n",
    "ee_boundary = geemap.geopandas_to_ee(study_boundary)\n",
    "\n",
    "ee_lordsburg = geemap.geopandas_to_ee(lordsburg_gdf).geometry()\n",
    "ee_hurley = geemap.geopandas_to_ee(hurley_gdf).geometry()\n",
    "ee_bayard = geemap.geopandas_to_ee(bayard_gdf).geometry()\n",
    "ee_santa_clara = geemap.geopandas_to_ee(santa_clara_gdf).geometry()\n",
    "ee_silver_city = geemap.geopandas_to_ee(silver_city_gdf).geometry()\n",
    "ee_deming = geemap.geopandas_to_ee(deming_gdf).geometry()"
   ]
  },
  {
   "cell_type": "code",
   "execution_count": 8,
   "metadata": {},
   "outputs": [
    {
     "data": {
      "text/html": [
       "\n",
       "            <style>\n",
       "                .geemap-dark {\n",
       "                    --jp-widgets-color: white;\n",
       "                    --jp-widgets-label-color: white;\n",
       "                    --jp-ui-font-color1: white;\n",
       "                    --jp-layout-color2: #454545;\n",
       "                    background-color: #383838;\n",
       "                }\n",
       "\n",
       "                .geemap-dark .jupyter-button {\n",
       "                    --jp-layout-color3: #383838;\n",
       "                }\n",
       "\n",
       "                .geemap-colab {\n",
       "                    background-color: var(--colab-primary-surface-color, white);\n",
       "                }\n",
       "\n",
       "                .geemap-colab .jupyter-button {\n",
       "                    --jp-layout-color3: var(--colab-primary-surface-color, white);\n",
       "                }\n",
       "            </style>\n",
       "            "
      ],
      "text/plain": [
       "<IPython.core.display.HTML object>"
      ]
     },
     "metadata": {},
     "output_type": "display_data"
    }
   ],
   "source": [
    "Map = geemap.Map()\n",
    "vis_params = {'bands': ['cover_code'], 'palette': ['#30123b', ' #321543', ' #33184a', ' #341b51', ' #351e58', ' #36215f', ' #372466', ' #38276d', ' #392a73', ' #3a2d79', ' #3b2f80', ' #3c3286', ' #3d358b', ' #3e3891', ' #3f3b97', ' #3f3e9c', ' #4040a2', ' #4143a7', ' #4146ac', ' #4249b1', ' #424bb5', ' #434eba', ' #4451bf', ' #4454c3', ' #4456c7', ' #4559cb', ' #455ccf', ' #455ed3', ' #4661d6', ' #4664da', ' #4666dd', ' #4669e0', ' #466be3', ' #476ee6', ' #4771e9', ' #4773eb', ' #4776ee', ' #4778f0', ' #477bf2', ' #467df4', ' #4680f6', ' #4682f8', ' #4685fa', ' #4687fb', ' #458afc', ' #458cfd', ' #448ffe', ' #4391fe', ' #4294ff', ' #4196ff', ' #4099ff', ' #3e9bfe', ' #3d9efe', ' #3ba0fd', ' #3aa3fc', ' #38a5fb', ' #37a8fa', ' #35abf8', ' #33adf7', ' #31aff5', ' #2fb2f4', ' #2eb4f2', ' #2cb7f0', ' #2ab9ee', ' #28bceb', ' #27bee9', ' #25c0e7', ' #23c3e4', ' #22c5e2', ' #20c7df', ' #1fc9dd', ' #1ecbda', ' #1ccdd8', ' #1bd0d5', ' #1ad2d2', ' #1ad4d0', ' #19d5cd', ' #18d7ca', ' #18d9c8', ' #18dbc5', ' #18ddc2', ' #18dec0', ' #18e0bd', ' #19e2bb', ' #19e3b9', ' #1ae4b6', ' #1ce6b4', ' #1de7b2', ' #1fe9af', ' #20eaac', ' #22ebaa', ' #25eca7', ' #27eea4', ' #2aefa1', ' #2cf09e', ' #2ff19b', ' #32f298', ' #35f394', ' #38f491', ' #3cf58e', ' #3ff68a', ' #43f787', ' #46f884', ' #4af880', ' #4ef97d', ' #52fa7a', ' #55fa76', ' #59fb73', ' #5dfc6f', ' #61fc6c', ' #65fd69', ' #69fd66', ' #6dfe62', ' #71fe5f', ' #75fe5c', ' #79fe59', ' #7dff56', ' #80ff53', ' #84ff51', ' #88ff4e', ' #8bff4b', ' #8fff49', ' #92ff47', ' #96fe44', ' #99fe42', ' #9cfe40', ' #9ffd3f', ' #a1fd3d', ' #a4fc3c', ' #a7fc3a', ' #a9fb39', ' #acfb38', ' #affa37', ' #b1f936', ' #b4f836', ' #b7f735', ' #b9f635', ' #bcf534', ' #bef434', ' #c1f334', ' #c3f134', ' #c6f034', ' #c8ef34', ' #cbed34', ' #cdec34', ' #d0ea34', ' #d2e935', ' #d4e735', ' #d7e535', ' #d9e436', ' #dbe236', ' #dde037', ' #dfdf37', ' #e1dd37', ' #e3db38', ' #e5d938', ' #e7d739', ' #e9d539', ' #ebd339', ' #ecd13a', ' #eecf3a', ' #efcd3a', ' #f1cb3a', ' #f2c93a', ' #f4c73a', ' #f5c53a', ' #f6c33a', ' #f7c13a', ' #f8be39', ' #f9bc39', ' #faba39', ' #fbb838', ' #fbb637', ' #fcb336', ' #fcb136', ' #fdae35', ' #fdac34', ' #fea933', ' #fea732', ' #fea431', ' #fea130', ' #fe9e2f', ' #fe9b2d', ' #fe992c', ' #fe962b', ' #fe932a', ' #fe9029', ' #fd8d27', ' #fd8a26', ' #fc8725', ' #fc8423', ' #fb8122', ' #fb7e21', ' #fa7b1f', ' #f9781e', ' #f9751d', ' #f8721c', ' #f76f1a', ' #f66c19', ' #f56918', ' #f46617', ' #f36315', ' #f26014', ' #f15d13', ' #f05b12', ' #ef5811', ' #ed5510', ' #ec530f', ' #eb500e', ' #ea4e0d', ' #e84b0c', ' #e7490c', ' #e5470b', ' #e4450a', ' #e2430a', ' #e14109', ' #df3f08', ' #dd3d08', ' #dc3b07', ' #da3907', ' #d83706', ' #d63506', ' #d43305', ' #d23105', ' #d02f05', ' #ce2d04', ' #cc2b04', ' #ca2a04', ' #c82803', ' #c52603', ' #c32503', ' #c12302', ' #be2102', ' #bc2002', ' #b91e02', ' #b71d02', ' #b41b01', ' #b21a01', ' #af1801', ' #ac1701', ' #a91601', ' #a71401', ' #a41301', ' #a11201', ' #9e1001', ' #9b0f01', ' #980e01', ' #950d01', ' #920b01', ' #8e0a01', ' #8b0902', ' #880802', ' #850702', ' #810602', ' #7e0502', ' #7a0403'], 'min': 0.0, 'max': 25.0, 'opacity':.75}\n"
   ]
  },
  {
   "cell_type": "code",
   "execution_count": 9,
   "metadata": {},
   "outputs": [
    {
     "data": {
      "text/html": [
       "\n",
       "            <style>\n",
       "                .geemap-dark {\n",
       "                    --jp-widgets-color: white;\n",
       "                    --jp-widgets-label-color: white;\n",
       "                    --jp-ui-font-color1: white;\n",
       "                    --jp-layout-color2: #454545;\n",
       "                    background-color: #383838;\n",
       "                }\n",
       "\n",
       "                .geemap-dark .jupyter-button {\n",
       "                    --jp-layout-color3: #383838;\n",
       "                }\n",
       "\n",
       "                .geemap-colab {\n",
       "                    background-color: var(--colab-primary-surface-color, white);\n",
       "                }\n",
       "\n",
       "                .geemap-colab .jupyter-button {\n",
       "                    --jp-layout-color3: var(--colab-primary-surface-color, white);\n",
       "                }\n",
       "            </style>\n",
       "            "
      ],
      "text/plain": [
       "<IPython.core.display.HTML object>"
      ]
     },
     "metadata": {},
     "output_type": "display_data"
    }
   ],
   "source": [
    "\n",
    "ee_boundary_geometry = ee_boundary.geometry()\n",
    "\n",
    "communities = {\n",
    "    'lordsburg': lordsburg_gdf,\n",
    "    'hurley': hurley_gdf,\n",
    "    'bayard': bayard_gdf,\n",
    "    'santa_clara': santa_clara_gdf,\n",
    "    'silver_city': silver_city_gdf,\n",
    "    'deming': deming_gdf\n",
    "}\n",
    "\n",
    "# Loop through each community to create individual layers\n",
    "for community, gdf in communities.items():\n",
    "    ee_community = geemap.geopandas_to_ee(gdf)\n",
    "    ee_community_geometry = ee_community.geometry()\n",
    "\n",
    "    # Filter canopy height by year if necessary, e.g., for 2023\n",
    "    canopy_ht = ee.ImageCollection(\"projects/meta-forest-monitoring-okw37/assets/CanopyHeight\") \\\n",
    "                .filterBounds(ee_community_geometry) \\\n",
    "                .mosaic() \\\n",
    "                .clip(ee_community_geometry)\n",
    "\n",
    "\n",
    "    Map.addLayer(canopy_ht, vis_params, f'Canopy Height {community}')\n"
   ]
  },
  {
   "cell_type": "code",
   "execution_count": 11,
   "metadata": {},
   "outputs": [
    {
     "data": {
      "text/html": [
       "\n",
       "            <style>\n",
       "                .geemap-dark {\n",
       "                    --jp-widgets-color: white;\n",
       "                    --jp-widgets-label-color: white;\n",
       "                    --jp-ui-font-color1: white;\n",
       "                    --jp-layout-color2: #454545;\n",
       "                    background-color: #383838;\n",
       "                }\n",
       "\n",
       "                .geemap-dark .jupyter-button {\n",
       "                    --jp-layout-color3: #383838;\n",
       "                }\n",
       "\n",
       "                .geemap-colab {\n",
       "                    background-color: var(--colab-primary-surface-color, white);\n",
       "                }\n",
       "\n",
       "                .geemap-colab .jupyter-button {\n",
       "                    --jp-layout-color3: var(--colab-primary-surface-color, white);\n",
       "                }\n",
       "            </style>\n",
       "            "
      ],
      "text/plain": [
       "<IPython.core.display.HTML object>"
      ]
     },
     "metadata": {},
     "output_type": "display_data"
    },
    {
     "data": {
      "application/vnd.jupyter.widget-view+json": {
       "model_id": "0a1b4a89863b464593ea15d5bbfd4ca9",
       "version_major": 2,
       "version_minor": 0
      },
      "text/plain": [
       "Map(center=[32.30563086003818, -108.31208052726792], controls=(WidgetControl(options=['position', 'transparent…"
      ]
     },
     "execution_count": 11,
     "metadata": {},
     "output_type": "execute_result"
    }
   ],
   "source": [
    "Map.centerObject(ee_boundary_geometry, 10)\n",
    "Map"
   ]
  },
  {
   "cell_type": "code",
   "execution_count": 11,
   "metadata": {},
   "outputs": [
    {
     "data": {
      "text/html": [
       "\n",
       "            <style>\n",
       "                .geemap-dark {\n",
       "                    --jp-widgets-color: white;\n",
       "                    --jp-widgets-label-color: white;\n",
       "                    --jp-ui-font-color1: white;\n",
       "                    --jp-layout-color2: #454545;\n",
       "                    background-color: #383838;\n",
       "                }\n",
       "\n",
       "                .geemap-dark .jupyter-button {\n",
       "                    --jp-layout-color3: #383838;\n",
       "                }\n",
       "\n",
       "                .geemap-colab {\n",
       "                    background-color: var(--colab-primary-surface-color, white);\n",
       "                }\n",
       "\n",
       "                .geemap-colab .jupyter-button {\n",
       "                    --jp-layout-color3: var(--colab-primary-surface-color, white);\n",
       "                }\n",
       "            </style>\n",
       "            "
      ],
      "text/plain": [
       "<IPython.core.display.HTML object>"
      ]
     },
     "metadata": {},
     "output_type": "display_data"
    }
   ],
   "source": [
    "# Set parameters for canopy height\n",
    "canopy_ht = ee.ImageCollection(\"projects/meta-forest-monitoring-okw37/assets/CanopyHeight\") \\\n",
    "            .filterBounds(ee_boundary_geometry) \\\n",
    "            .mosaic()\n",
    "\n",
    "# Define export parameters for each community\n",
    "export_params = {\n",
    "    'scale': 1,  # Adjust as necessary for resolution\n",
    "    'crs': 'EPSG:4326',\n",
    "    'fileFormat': 'GeoTIFF',\n",
    "    'maxPixels': 1e13\n",
    "}"
   ]
  },
  {
   "cell_type": "code",
   "execution_count": 20,
   "metadata": {},
   "outputs": [
    {
     "data": {
      "text/html": [
       "\n",
       "            <style>\n",
       "                .geemap-dark {\n",
       "                    --jp-widgets-color: white;\n",
       "                    --jp-widgets-label-color: white;\n",
       "                    --jp-ui-font-color1: white;\n",
       "                    --jp-layout-color2: #454545;\n",
       "                    background-color: #383838;\n",
       "                }\n",
       "\n",
       "                .geemap-dark .jupyter-button {\n",
       "                    --jp-layout-color3: #383838;\n",
       "                }\n",
       "\n",
       "                .geemap-colab {\n",
       "                    background-color: var(--colab-primary-surface-color, white);\n",
       "                }\n",
       "\n",
       "                .geemap-colab .jupyter-button {\n",
       "                    --jp-layout-color3: var(--colab-primary-surface-color, white);\n",
       "                }\n",
       "            </style>\n",
       "            "
      ],
      "text/plain": [
       "<IPython.core.display.HTML object>"
      ]
     },
     "metadata": {},
     "output_type": "display_data"
    }
   ],
   "source": [
    "# Export for Lordsburg\n",
    "export_task_lordsburg = ee.batch.Export.image.toDrive(\n",
    "    image=canopy_ht.clip(ee_lordsburg),\n",
    "    description='Canopy Height Lordsburg',\n",
    "    folder='lst',\n",
    "    fileNamePrefix='canopy_height_lordsburg_2023',\n",
    "    region=ee_lordsburg,\n",
    "    **export_params\n",
    ")\n",
    "export_task_lordsburg.start()"
   ]
  },
  {
   "cell_type": "code",
   "execution_count": 12,
   "metadata": {},
   "outputs": [
    {
     "data": {
      "text/html": [
       "\n",
       "            <style>\n",
       "                .geemap-dark {\n",
       "                    --jp-widgets-color: white;\n",
       "                    --jp-widgets-label-color: white;\n",
       "                    --jp-ui-font-color1: white;\n",
       "                    --jp-layout-color2: #454545;\n",
       "                    background-color: #383838;\n",
       "                }\n",
       "\n",
       "                .geemap-dark .jupyter-button {\n",
       "                    --jp-layout-color3: #383838;\n",
       "                }\n",
       "\n",
       "                .geemap-colab {\n",
       "                    background-color: var(--colab-primary-surface-color, white);\n",
       "                }\n",
       "\n",
       "                .geemap-colab .jupyter-button {\n",
       "                    --jp-layout-color3: var(--colab-primary-surface-color, white);\n",
       "                }\n",
       "            </style>\n",
       "            "
      ],
      "text/plain": [
       "<IPython.core.display.HTML object>"
      ]
     },
     "metadata": {},
     "output_type": "display_data"
    }
   ],
   "source": [
    "# Export for Hurley\n",
    "export_task_hurley = ee.batch.Export.image.toDrive(\n",
    "    image=canopy_ht.clip(ee_hurley),\n",
    "    description='Canopy Height Hurley',\n",
    "    folder='lst',\n",
    "    fileNamePrefix='canopy_height_hurley_2023',\n",
    "    region=ee_hurley,\n",
    "    **export_params\n",
    ")\n",
    "export_task_hurley.start()"
   ]
  },
  {
   "cell_type": "code",
   "execution_count": 13,
   "metadata": {},
   "outputs": [
    {
     "data": {
      "text/html": [
       "\n",
       "            <style>\n",
       "                .geemap-dark {\n",
       "                    --jp-widgets-color: white;\n",
       "                    --jp-widgets-label-color: white;\n",
       "                    --jp-ui-font-color1: white;\n",
       "                    --jp-layout-color2: #454545;\n",
       "                    background-color: #383838;\n",
       "                }\n",
       "\n",
       "                .geemap-dark .jupyter-button {\n",
       "                    --jp-layout-color3: #383838;\n",
       "                }\n",
       "\n",
       "                .geemap-colab {\n",
       "                    background-color: var(--colab-primary-surface-color, white);\n",
       "                }\n",
       "\n",
       "                .geemap-colab .jupyter-button {\n",
       "                    --jp-layout-color3: var(--colab-primary-surface-color, white);\n",
       "                }\n",
       "            </style>\n",
       "            "
      ],
      "text/plain": [
       "<IPython.core.display.HTML object>"
      ]
     },
     "metadata": {},
     "output_type": "display_data"
    }
   ],
   "source": [
    "# Export for Bayard\n",
    "export_task_bayard = ee.batch.Export.image.toDrive(\n",
    "    image=canopy_ht.clip(ee_bayard),\n",
    "    description='Canopy Height Bayard',\n",
    "    folder='lst',\n",
    "    fileNamePrefix='canopy_height_bayard_2023',\n",
    "    region=ee_bayard,\n",
    "    **export_params\n",
    ")\n",
    "export_task_bayard.start()\n"
   ]
  },
  {
   "cell_type": "code",
   "execution_count": 23,
   "metadata": {},
   "outputs": [
    {
     "data": {
      "text/html": [
       "\n",
       "            <style>\n",
       "                .geemap-dark {\n",
       "                    --jp-widgets-color: white;\n",
       "                    --jp-widgets-label-color: white;\n",
       "                    --jp-ui-font-color1: white;\n",
       "                    --jp-layout-color2: #454545;\n",
       "                    background-color: #383838;\n",
       "                }\n",
       "\n",
       "                .geemap-dark .jupyter-button {\n",
       "                    --jp-layout-color3: #383838;\n",
       "                }\n",
       "\n",
       "                .geemap-colab {\n",
       "                    background-color: var(--colab-primary-surface-color, white);\n",
       "                }\n",
       "\n",
       "                .geemap-colab .jupyter-button {\n",
       "                    --jp-layout-color3: var(--colab-primary-surface-color, white);\n",
       "                }\n",
       "            </style>\n",
       "            "
      ],
      "text/plain": [
       "<IPython.core.display.HTML object>"
      ]
     },
     "metadata": {},
     "output_type": "display_data"
    }
   ],
   "source": [
    "# Export for Santa Clara\n",
    "export_task_santa_clara = ee.batch.Export.image.toDrive(\n",
    "    image=canopy_ht.clip(ee_santa_clara),\n",
    "    description='Canopy Height Santa Clara',\n",
    "    folder='lst',\n",
    "    fileNamePrefix='canopy_height_santa_clara_2023',\n",
    "    region=ee_santa_clara,\n",
    "    **export_params\n",
    ")\n",
    "export_task_santa_clara.start()"
   ]
  },
  {
   "cell_type": "code",
   "execution_count": 24,
   "metadata": {},
   "outputs": [
    {
     "data": {
      "text/html": [
       "\n",
       "            <style>\n",
       "                .geemap-dark {\n",
       "                    --jp-widgets-color: white;\n",
       "                    --jp-widgets-label-color: white;\n",
       "                    --jp-ui-font-color1: white;\n",
       "                    --jp-layout-color2: #454545;\n",
       "                    background-color: #383838;\n",
       "                }\n",
       "\n",
       "                .geemap-dark .jupyter-button {\n",
       "                    --jp-layout-color3: #383838;\n",
       "                }\n",
       "\n",
       "                .geemap-colab {\n",
       "                    background-color: var(--colab-primary-surface-color, white);\n",
       "                }\n",
       "\n",
       "                .geemap-colab .jupyter-button {\n",
       "                    --jp-layout-color3: var(--colab-primary-surface-color, white);\n",
       "                }\n",
       "            </style>\n",
       "            "
      ],
      "text/plain": [
       "<IPython.core.display.HTML object>"
      ]
     },
     "metadata": {},
     "output_type": "display_data"
    }
   ],
   "source": [
    "# Export for Silver City\n",
    "export_task_silver_city = ee.batch.Export.image.toDrive(\n",
    "    image=canopy_ht.clip(ee_silver_city),\n",
    "    description='Canopy Height Silver City',\n",
    "    folder='lst',\n",
    "    fileNamePrefix='canopy_height_silver_city_2023',\n",
    "    region=ee_silver_city,\n",
    "    **export_params\n",
    ")\n",
    "export_task_silver_city.start()"
   ]
  },
  {
   "cell_type": "code",
   "execution_count": 25,
   "metadata": {},
   "outputs": [
    {
     "data": {
      "text/html": [
       "\n",
       "            <style>\n",
       "                .geemap-dark {\n",
       "                    --jp-widgets-color: white;\n",
       "                    --jp-widgets-label-color: white;\n",
       "                    --jp-ui-font-color1: white;\n",
       "                    --jp-layout-color2: #454545;\n",
       "                    background-color: #383838;\n",
       "                }\n",
       "\n",
       "                .geemap-dark .jupyter-button {\n",
       "                    --jp-layout-color3: #383838;\n",
       "                }\n",
       "\n",
       "                .geemap-colab {\n",
       "                    background-color: var(--colab-primary-surface-color, white);\n",
       "                }\n",
       "\n",
       "                .geemap-colab .jupyter-button {\n",
       "                    --jp-layout-color3: var(--colab-primary-surface-color, white);\n",
       "                }\n",
       "            </style>\n",
       "            "
      ],
      "text/plain": [
       "<IPython.core.display.HTML object>"
      ]
     },
     "metadata": {},
     "output_type": "display_data"
    }
   ],
   "source": [
    "# Export for Deming\n",
    "export_task_deming = ee.batch.Export.image.toDrive(\n",
    "    image=canopy_ht.clip(ee_deming),\n",
    "    description='Canopy Height Deming',\n",
    "    folder='lst',\n",
    "    fileNamePrefix='canopy_height_deming_2023',\n",
    "    region=ee_deming,\n",
    "    **export_params\n",
    ")\n",
    "export_task_deming.start()"
   ]
  }
 ],
 "metadata": {
  "kernelspec": {
   "display_name": "solara_dev",
   "language": "python",
   "name": "python3"
  },
  "language_info": {
   "codemirror_mode": {
    "name": "ipython",
    "version": 3
   },
   "file_extension": ".py",
   "mimetype": "text/x-python",
   "name": "python",
   "nbconvert_exporter": "python",
   "pygments_lexer": "ipython3",
   "version": "3.12.7"
  }
 },
 "nbformat": 4,
 "nbformat_minor": 2
}
