{
 "cells": [
  {
   "cell_type": "code",
   "execution_count": 3,
   "metadata": {},
   "outputs": [],
   "source": [
    "import requests\n",
    "import geopandas as gpd\n",
    "import pandas as pd\n",
    "from io import BytesIO\n"
   ]
  },
  {
   "cell_type": "code",
   "execution_count": 2,
   "metadata": {},
   "outputs": [
    {
     "name": "stdout",
     "output_type": "stream",
     "text": [
      "Data saved to Grant_County_Parcel_Map.geojson\n",
      "Data saved to Grant_County_Parcel_Map.shp\n"
     ]
    },
    {
     "name": "stderr",
     "output_type": "stream",
     "text": [
      "C:\\Users\\bsf31\\AppData\\Local\\Temp\\ipykernel_23812\\1712803536.py:21: UserWarning: Column names longer than 10 characters will be truncated when saved to ESRI Shapefile.\n",
      "  gdf.to_file(shapefile_path)\n",
      "c:\\Users\\bsf31\\.conda\\envs\\solara_dev\\Lib\\site-packages\\pyogrio\\raw.py:723: RuntimeWarning: Normalized/laundered field name: 'Shape__Area' to 'Shape__Are'\n",
      "  ogr_write(\n",
      "c:\\Users\\bsf31\\.conda\\envs\\solara_dev\\Lib\\site-packages\\pyogrio\\raw.py:723: RuntimeWarning: Normalized/laundered field name: 'Shape__Length' to 'Shape__Len'\n",
      "  ogr_write(\n"
     ]
    }
   ],
   "source": [
    "# Set the query URL\n",
    "url = \"https://services.arcgis.com/33TOOklri9xpic7U/arcgis/rest/services/Grant_County_Interactive_Parcel_Map/FeatureServer/0/query\"\n",
    "params = {\n",
    "    \"where\": \"1=1\",\n",
    "    \"outFields\": \"*\",\n",
    "    \"f\": \"geojson\"\n",
    "}\n",
    "\n",
    "# Fetch data\n",
    "response = requests.get(url, params=params)\n",
    "if response.status_code == 200:\n",
    "    # Save as GeoJSON\n",
    "    geojson_path = \"Grant_County_Parcel_Map.geojson\"\n",
    "    with open(geojson_path, \"wb\") as f:\n",
    "        f.write(response.content)\n",
    "    print(f\"Data saved to {geojson_path}\")\n",
    "\n",
    "    # Load and save as shapefile or another format\n",
    "    gdf = gpd.read_file(geojson_path)\n",
    "    shapefile_path = \"Grant_County_Parcel_Map.shp\"\n",
    "    gdf.to_file(shapefile_path)\n",
    "    print(f\"Data saved to {shapefile_path}\")\n",
    "else:\n",
    "    print(f\"Failed to fetch data: {response.status_code}\")"
   ]
  },
  {
   "cell_type": "code",
   "execution_count": 4,
   "metadata": {},
   "outputs": [
    {
     "name": "stdout",
     "output_type": "stream",
     "text": [
      "Fetching records starting at offset 0...\n",
      "Fetching records starting at offset 2000...\n",
      "Fetching records starting at offset 4000...\n",
      "Fetching records starting at offset 6000...\n",
      "Fetching records starting at offset 8000...\n",
      "Fetching records starting at offset 10000...\n",
      "Fetching records starting at offset 12000...\n",
      "Fetching records starting at offset 14000...\n",
      "Fetching records starting at offset 16000...\n",
      "Fetching records starting at offset 18000...\n",
      "Fetching records starting at offset 20000...\n",
      "Fetching records starting at offset 22000...\n",
      "Fetching records starting at offset 24000...\n",
      "Fetching records starting at offset 26000...\n",
      "Fetching records starting at offset 28000...\n",
      "Fetching records starting at offset 30000...\n",
      "Fetching records starting at offset 32000...\n",
      "Fetching records starting at offset 34000...\n",
      "Fetching records starting at offset 36000...\n",
      "Fetching records starting at offset 38000...\n",
      "Fetching records starting at offset 40000...\n",
      "Fetching records starting at offset 42000...\n",
      "Fetching records starting at offset 44000...\n",
      "Fetching records starting at offset 46000...\n",
      "Retrieved 45061 records.\n"
     ]
    },
    {
     "name": "stderr",
     "output_type": "stream",
     "text": [
      "c:\\Users\\bsf31\\.conda\\envs\\solara_dev\\Lib\\site-packages\\pyogrio\\geopandas.py:662: UserWarning: 'crs' was not provided.  The output dataset will not have projection information defined and may not be usable in other systems.\n",
      "  write(\n"
     ]
    },
    {
     "name": "stdout",
     "output_type": "stream",
     "text": [
      "Data saved to Grant_County_Parcel_Map.geojson\n"
     ]
    },
    {
     "name": "stderr",
     "output_type": "stream",
     "text": [
      "C:\\Users\\bsf31\\AppData\\Local\\Temp\\ipykernel_23812\\2251925826.py:48: UserWarning: Column names longer than 10 characters will be truncated when saved to ESRI Shapefile.\n",
      "  gdf.to_file(shapefile_path)\n",
      "c:\\Users\\bsf31\\.conda\\envs\\solara_dev\\Lib\\site-packages\\pyogrio\\geopandas.py:662: UserWarning: 'crs' was not provided.  The output dataset will not have projection information defined and may not be usable in other systems.\n",
      "  write(\n",
      "c:\\Users\\bsf31\\.conda\\envs\\solara_dev\\Lib\\site-packages\\pyogrio\\raw.py:723: RuntimeWarning: Normalized/laundered field name: 'Shape__Area' to 'Shape__Are'\n",
      "  ogr_write(\n",
      "c:\\Users\\bsf31\\.conda\\envs\\solara_dev\\Lib\\site-packages\\pyogrio\\raw.py:723: RuntimeWarning: Normalized/laundered field name: 'Shape__Length' to 'Shape__Len'\n",
      "  ogr_write(\n",
      "c:\\Users\\bsf31\\.conda\\envs\\solara_dev\\Lib\\site-packages\\pyogrio\\raw.py:723: RuntimeWarning: Value 1194248908.62866211 of field Shape__Are of feature 29404 not successfully written. Possibly due to too larger number with respect to field width\n",
      "  ogr_write(\n"
     ]
    },
    {
     "name": "stdout",
     "output_type": "stream",
     "text": [
      "Data saved to Grant_County_Parcel_Map.shp\n"
     ]
    }
   ],
   "source": [
    "\n",
    "# Base URL for the Feature Service\n",
    "url = \"https://services.arcgis.com/33TOOklri9xpic7U/arcgis/rest/services/Grant_County_Interactive_Parcel_Map/FeatureServer/0/query\"\n",
    "\n",
    "# Function to fetch data with pagination\n",
    "def fetch_paginated_data(base_url, max_records=2000):\n",
    "    all_features = []\n",
    "    params = {\n",
    "        \"where\": \"1=1\",  # Query all features\n",
    "        \"outFields\": \"*\",  # Get all fields\n",
    "        \"f\": \"geojson\",  # Output format\n",
    "        \"resultOffset\": 0,  # Start at the beginning\n",
    "        \"resultRecordCount\": max_records,  # Number of records per request\n",
    "    }\n",
    "\n",
    "    while True:\n",
    "        print(f\"Fetching records starting at offset {params['resultOffset']}...\")\n",
    "        response = requests.get(base_url, params=params)\n",
    "        \n",
    "        if response.status_code == 200:\n",
    "            data = response.json()\n",
    "            if \"features\" in data and data[\"features\"]:\n",
    "                all_features.extend(data[\"features\"])\n",
    "                params[\"resultOffset\"] += max_records  # Increment offset for next batch\n",
    "            else:\n",
    "                # No more features to fetch\n",
    "                break\n",
    "        else:\n",
    "            print(f\"Failed to fetch data: {response.status_code}\")\n",
    "            break\n",
    "\n",
    "    return all_features\n",
    "\n",
    "# Fetch all records\n",
    "features = fetch_paginated_data(url)\n",
    "\n",
    "# Convert features to GeoDataFrame\n",
    "if features:\n",
    "    print(f\"Retrieved {len(features)} records.\")\n",
    "    # Create GeoDataFrame\n",
    "    gdf = gpd.GeoDataFrame.from_features(features)\n",
    "    \n",
    "    # Save to GeoJSON and Shapefile\n",
    "    geojson_path = \"Grant_County_Parcel_Map.geojson\"\n",
    "    gdf.to_file(geojson_path, driver=\"GeoJSON\")\n",
    "    print(f\"Data saved to {geojson_path}\")\n",
    "    \n",
    "    shapefile_path = \"Grant_County_Parcel_Map.shp\"\n",
    "    gdf.to_file(shapefile_path)\n",
    "    print(f\"Data saved to {shapefile_path}\")\n",
    "else:\n",
    "    print(\"No data retrieved.\")\n"
   ]
  }
 ],
 "metadata": {
  "kernelspec": {
   "display_name": "solara_dev",
   "language": "python",
   "name": "python3"
  },
  "language_info": {
   "codemirror_mode": {
    "name": "ipython",
    "version": 3
   },
   "file_extension": ".py",
   "mimetype": "text/x-python",
   "name": "python",
   "nbconvert_exporter": "python",
   "pygments_lexer": "ipython3",
   "version": "3.12.7"
  }
 },
 "nbformat": 4,
 "nbformat_minor": 2
}
