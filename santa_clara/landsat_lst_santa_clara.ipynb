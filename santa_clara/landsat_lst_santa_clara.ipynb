{
 "cells": [
  {
   "cell_type": "markdown",
   "metadata": {},
   "source": [
    "# Imports"
   ]
  },
  {
   "cell_type": "code",
   "execution_count": 1,
   "metadata": {},
   "outputs": [],
   "source": [
    "import ee\n",
    "import numpy as np\n",
    "import math\n",
    "import geemap\n",
    "import geopandas as gpd\n",
    "import pandas as pd\n",
    "import matplotlib.pyplot as plt\n",
    "import seaborn as sns\n",
    "from scipy import stats"
   ]
  },
  {
   "cell_type": "code",
   "execution_count": 2,
   "metadata": {},
   "outputs": [
    {
     "data": {
      "text/html": [
       "\n",
       "            <style>\n",
       "                .geemap-dark {\n",
       "                    --jp-widgets-color: white;\n",
       "                    --jp-widgets-label-color: white;\n",
       "                    --jp-ui-font-color1: white;\n",
       "                    --jp-layout-color2: #454545;\n",
       "                    background-color: #383838;\n",
       "                }\n",
       "\n",
       "                .geemap-dark .jupyter-button {\n",
       "                    --jp-layout-color3: #383838;\n",
       "                }\n",
       "\n",
       "                .geemap-colab {\n",
       "                    background-color: var(--colab-primary-surface-color, white);\n",
       "                }\n",
       "\n",
       "                .geemap-colab .jupyter-button {\n",
       "                    --jp-layout-color3: var(--colab-primary-surface-color, white);\n",
       "                }\n",
       "            </style>\n",
       "            "
      ],
      "text/plain": [
       "<IPython.core.display.HTML object>"
      ]
     },
     "metadata": {},
     "output_type": "display_data"
    }
   ],
   "source": [
    "#ee.Authenticate()\n"
   ]
  },
  {
   "cell_type": "code",
   "execution_count": 3,
   "metadata": {},
   "outputs": [
    {
     "data": {
      "text/html": [
       "\n",
       "            <style>\n",
       "                .geemap-dark {\n",
       "                    --jp-widgets-color: white;\n",
       "                    --jp-widgets-label-color: white;\n",
       "                    --jp-ui-font-color1: white;\n",
       "                    --jp-layout-color2: #454545;\n",
       "                    background-color: #383838;\n",
       "                }\n",
       "\n",
       "                .geemap-dark .jupyter-button {\n",
       "                    --jp-layout-color3: #383838;\n",
       "                }\n",
       "\n",
       "                .geemap-colab {\n",
       "                    background-color: var(--colab-primary-surface-color, white);\n",
       "                }\n",
       "\n",
       "                .geemap-colab .jupyter-button {\n",
       "                    --jp-layout-color3: var(--colab-primary-surface-color, white);\n",
       "                }\n",
       "            </style>\n",
       "            "
      ],
      "text/plain": [
       "<IPython.core.display.HTML object>"
      ]
     },
     "metadata": {},
     "output_type": "display_data"
    }
   ],
   "source": [
    "\n",
    "# Initialize Google Earth Engine\n",
    "ee.Initialize()"
   ]
  },
  {
   "cell_type": "code",
   "execution_count": 4,
   "metadata": {},
   "outputs": [
    {
     "data": {
      "text/html": [
       "\n",
       "            <style>\n",
       "                .geemap-dark {\n",
       "                    --jp-widgets-color: white;\n",
       "                    --jp-widgets-label-color: white;\n",
       "                    --jp-ui-font-color1: white;\n",
       "                    --jp-layout-color2: #454545;\n",
       "                    background-color: #383838;\n",
       "                }\n",
       "\n",
       "                .geemap-dark .jupyter-button {\n",
       "                    --jp-layout-color3: #383838;\n",
       "                }\n",
       "\n",
       "                .geemap-colab {\n",
       "                    background-color: var(--colab-primary-surface-color, white);\n",
       "                }\n",
       "\n",
       "                .geemap-colab .jupyter-button {\n",
       "                    --jp-layout-color3: var(--colab-primary-surface-color, white);\n",
       "                }\n",
       "            </style>\n",
       "            "
      ],
      "text/plain": [
       "<IPython.core.display.HTML object>"
      ]
     },
     "metadata": {},
     "output_type": "display_data"
    }
   ],
   "source": [
    "# Load study area and community boundaries\n",
    "nm_path = r\"C:\\Users\\bsf31\\Documents\\data\\NM\\nm_vector.gpkg\"\n",
    "study_boundary = gpd.read_file(nm_path, layer='counties_dissolved')\n",
    "\n",
    "santa_clara_gdf = gpd.read_file(nm_path, layer='santa_clara_small')\n"
   ]
  },
  {
   "cell_type": "code",
   "execution_count": 5,
   "metadata": {},
   "outputs": [
    {
     "data": {
      "text/html": [
       "\n",
       "            <style>\n",
       "                .geemap-dark {\n",
       "                    --jp-widgets-color: white;\n",
       "                    --jp-widgets-label-color: white;\n",
       "                    --jp-ui-font-color1: white;\n",
       "                    --jp-layout-color2: #454545;\n",
       "                    background-color: #383838;\n",
       "                }\n",
       "\n",
       "                .geemap-dark .jupyter-button {\n",
       "                    --jp-layout-color3: #383838;\n",
       "                }\n",
       "\n",
       "                .geemap-colab {\n",
       "                    background-color: var(--colab-primary-surface-color, white);\n",
       "                }\n",
       "\n",
       "                .geemap-colab .jupyter-button {\n",
       "                    --jp-layout-color3: var(--colab-primary-surface-color, white);\n",
       "                }\n",
       "            </style>\n",
       "            "
      ],
      "text/plain": [
       "<IPython.core.display.HTML object>"
      ]
     },
     "metadata": {},
     "output_type": "display_data"
    }
   ],
   "source": [
    "# Convert to Earth Engine geometry\n",
    "ee_boundary = geemap.geopandas_to_ee(study_boundary)\n",
    "\n",
    "ee_santa_clara = geemap.geopandas_to_ee(santa_clara_gdf).geometry()\n"
   ]
  },
  {
   "cell_type": "code",
   "execution_count": 6,
   "metadata": {},
   "outputs": [
    {
     "data": {
      "text/html": [
       "\n",
       "            <style>\n",
       "                .geemap-dark {\n",
       "                    --jp-widgets-color: white;\n",
       "                    --jp-widgets-label-color: white;\n",
       "                    --jp-ui-font-color1: white;\n",
       "                    --jp-layout-color2: #454545;\n",
       "                    background-color: #383838;\n",
       "                }\n",
       "\n",
       "                .geemap-dark .jupyter-button {\n",
       "                    --jp-layout-color3: #383838;\n",
       "                }\n",
       "\n",
       "                .geemap-colab {\n",
       "                    background-color: var(--colab-primary-surface-color, white);\n",
       "                }\n",
       "\n",
       "                .geemap-colab .jupyter-button {\n",
       "                    --jp-layout-color3: var(--colab-primary-surface-color, white);\n",
       "                }\n",
       "            </style>\n",
       "            "
      ],
      "text/plain": [
       "<IPython.core.display.HTML object>"
      ]
     },
     "metadata": {},
     "output_type": "display_data"
    }
   ],
   "source": [
    "ee_boundary_coordinates = ee_boundary.geometry()"
   ]
  },
  {
   "cell_type": "markdown",
   "metadata": {},
   "source": [
    "# Landsat Collection 2"
   ]
  },
  {
   "cell_type": "code",
   "execution_count": 7,
   "metadata": {},
   "outputs": [
    {
     "data": {
      "text/html": [
       "\n",
       "            <style>\n",
       "                .geemap-dark {\n",
       "                    --jp-widgets-color: white;\n",
       "                    --jp-widgets-label-color: white;\n",
       "                    --jp-ui-font-color1: white;\n",
       "                    --jp-layout-color2: #454545;\n",
       "                    background-color: #383838;\n",
       "                }\n",
       "\n",
       "                .geemap-dark .jupyter-button {\n",
       "                    --jp-layout-color3: #383838;\n",
       "                }\n",
       "\n",
       "                .geemap-colab {\n",
       "                    background-color: var(--colab-primary-surface-color, white);\n",
       "                }\n",
       "\n",
       "                .geemap-colab .jupyter-button {\n",
       "                    --jp-layout-color3: var(--colab-primary-surface-color, white);\n",
       "                }\n",
       "            </style>\n",
       "            "
      ],
      "text/plain": [
       "<IPython.core.display.HTML object>"
      ]
     },
     "metadata": {},
     "output_type": "display_data"
    }
   ],
   "source": [
    "# Function to scale the surface temperature band and convert to Fahrenheit\n",
    "def scale_lst(image):\n",
    "    lst_k = image.select('ST_B10').multiply(0.00341802).add(149.0)\n",
    "    lst_f = lst_k.subtract(273.15).multiply(1.8).add(32)\n",
    "    return image.addBands(lst_f.rename('LST_F'))\n",
    "\n",
    "# Function to calculate NDVI\n",
    "def calculate_ndvi(image):\n",
    "    ndvi = image.normalizedDifference(['SR_B5', 'SR_B4'])\n",
    "    return image.addBands(ndvi.rename('NDVI'))\n",
    "\n",
    "# Function to calculate Fraction of Vegetation Cover\n",
    "def calculate_fvc(image):\n",
    "    fvc = image.select('NDVI').subtract(0.2).divide(0.3).pow(2).clamp(0, 1)\n",
    "    return image.addBands(fvc.rename('FVC'))\n",
    "\n",
    "# Function to calculate Emissivity\n",
    "def calculate_emissivity(image):\n",
    "    emissivity = image.select('FVC').multiply(0.0004).add(0.986)\n",
    "    return image.addBands(emissivity.rename('Emissivity'))\n",
    "\n",
    "# Define a function to clip each image to the ROI\n",
    "def clip_to_region(image,roi):\n",
    "    return image.clip(roi)\n"
   ]
  },
  {
   "cell_type": "code",
   "execution_count": 8,
   "metadata": {},
   "outputs": [
    {
     "data": {
      "text/html": [
       "\n",
       "            <style>\n",
       "                .geemap-dark {\n",
       "                    --jp-widgets-color: white;\n",
       "                    --jp-widgets-label-color: white;\n",
       "                    --jp-ui-font-color1: white;\n",
       "                    --jp-layout-color2: #454545;\n",
       "                    background-color: #383838;\n",
       "                }\n",
       "\n",
       "                .geemap-dark .jupyter-button {\n",
       "                    --jp-layout-color3: #383838;\n",
       "                }\n",
       "\n",
       "                .geemap-colab {\n",
       "                    background-color: var(--colab-primary-surface-color, white);\n",
       "                }\n",
       "\n",
       "                .geemap-colab .jupyter-button {\n",
       "                    --jp-layout-color3: var(--colab-primary-surface-color, white);\n",
       "                }\n",
       "            </style>\n",
       "            "
      ],
      "text/plain": [
       "<IPython.core.display.HTML object>"
      ]
     },
     "metadata": {},
     "output_type": "display_data"
    }
   ],
   "source": [
    "pt = ee.Geometry.Point([-108.08, 32.46])   # Point corresponding to Santa Barbara, CA\n",
    "\n",
    "\n",
    "# Load the Landsat 8 collection and filter images based on criteria\n",
    "landsat_collection1 = ee.ImageCollection(\"LANDSAT/LC08/C02/T1_L2\") \\\n",
    "    .filterDate('2019-04-01', '2024-11-01') \\\n",
    "    .filter(ee.Filter.calendarRange(5, 9, 'month')) \\\n",
    "    .filterBounds(pt)\\\n",
    "    .filter(ee.Filter.lt('CLOUD_COVER', 9))  # Filter for images with less than 10% cloud cover\n",
    "\n"
   ]
  },
  {
   "cell_type": "code",
   "execution_count": 9,
   "metadata": {},
   "outputs": [
    {
     "data": {
      "text/html": [
       "\n",
       "            <style>\n",
       "                .geemap-dark {\n",
       "                    --jp-widgets-color: white;\n",
       "                    --jp-widgets-label-color: white;\n",
       "                    --jp-ui-font-color1: white;\n",
       "                    --jp-layout-color2: #454545;\n",
       "                    background-color: #383838;\n",
       "                }\n",
       "\n",
       "                .geemap-dark .jupyter-button {\n",
       "                    --jp-layout-color3: #383838;\n",
       "                }\n",
       "\n",
       "                .geemap-colab {\n",
       "                    background-color: var(--colab-primary-surface-color, white);\n",
       "                }\n",
       "\n",
       "                .geemap-colab .jupyter-button {\n",
       "                    --jp-layout-color3: var(--colab-primary-surface-color, white);\n",
       "                }\n",
       "            </style>\n",
       "            "
      ],
      "text/plain": [
       "<IPython.core.display.HTML object>"
      ]
     },
     "metadata": {},
     "output_type": "display_data"
    },
    {
     "data": {
      "text/plain": [
       "' pt = ee.Geometry.Point([-108.08, 32.46])   # Point corresponding to Santa Barbara, CA\\n\\n\\n# Load the Landsat 8 collection and filter images based on criteria\\nlandsat_collection1 = ee.ImageCollection(\"LANDSAT/LC08/C02/T1_L2\")     .filterDate(\\'2019-04-01\\', \\'2019-09-18\\')     .filter(ee.Filter.calendarRange(5, 9, \\'month\\'))     .filterBounds(pt)    .filter(ee.Filter.lt(\\'CLOUD_COVER\\', 9))  # Filter for images with less than 10% cloud cover\\n# Load the Landsat 8 collection and filter images based on criteria\\nlandsat_collection2 = ee.ImageCollection(\"LANDSAT/LC08/C02/T1_L2\")     .filterDate(\\'2019-09-19\\', \\'2024-08-14\\')     .filter(ee.Filter.calendarRange(5, 9, \\'month\\'))     .filterBounds(pt)    .filter(ee.Filter.lt(\\'CLOUD_COVER\\', 9))  # Filter for images with less than 10% cloud cover\\n\\n# Load the Landsat 8 collection and filter images based on criteria\\nlandsat_collection3 = ee.ImageCollection(\"LANDSAT/LC08/C02/T1_L2\")     .filterDate( \\'2024-08-15\\', \\'2024-11-01\\')     .filter(ee.Filter.calendarRange(5, 9, \\'month\\'))     .filterBounds(pt)    .filter(ee.Filter.lt(\\'CLOUD_COVER\\', 9))  # Filter for images with less than 10% cloud cover '"
      ]
     },
     "execution_count": 9,
     "metadata": {},
     "output_type": "execute_result"
    }
   ],
   "source": [
    "\"\"\" pt = ee.Geometry.Point([-108.08, 32.46])   # Point corresponding to Santa Barbara, CA\n",
    "\n",
    "\n",
    "# Load the Landsat 8 collection and filter images based on criteria\n",
    "landsat_collection1 = ee.ImageCollection(\"LANDSAT/LC08/C02/T1_L2\") \\\n",
    "    .filterDate('2019-04-01', '2019-09-18') \\\n",
    "    .filter(ee.Filter.calendarRange(5, 9, 'month')) \\\n",
    "    .filterBounds(pt)\\\n",
    "    .filter(ee.Filter.lt('CLOUD_COVER', 9))  # Filter for images with less than 10% cloud cover\n",
    "# Load the Landsat 8 collection and filter images based on criteria\n",
    "landsat_collection2 = ee.ImageCollection(\"LANDSAT/LC08/C02/T1_L2\") \\\n",
    "    .filterDate('2019-09-19', '2024-08-14') \\\n",
    "    .filter(ee.Filter.calendarRange(5, 9, 'month')) \\\n",
    "    .filterBounds(pt)\\\n",
    "    .filter(ee.Filter.lt('CLOUD_COVER', 9))  # Filter for images with less than 10% cloud cover\n",
    "\n",
    "# Load the Landsat 8 collection and filter images based on criteria\n",
    "landsat_collection3 = ee.ImageCollection(\"LANDSAT/LC08/C02/T1_L2\") \\\n",
    "    .filterDate( '2024-08-15', '2024-11-01') \\\n",
    "    .filter(ee.Filter.calendarRange(5, 9, 'month')) \\\n",
    "    .filterBounds(pt)\\\n",
    "    .filter(ee.Filter.lt('CLOUD_COVER', 9))  # Filter for images with less than 10% cloud cover \"\"\""
   ]
  },
  {
   "cell_type": "code",
   "execution_count": 10,
   "metadata": {},
   "outputs": [
    {
     "data": {
      "text/html": [
       "\n",
       "            <style>\n",
       "                .geemap-dark {\n",
       "                    --jp-widgets-color: white;\n",
       "                    --jp-widgets-label-color: white;\n",
       "                    --jp-ui-font-color1: white;\n",
       "                    --jp-layout-color2: #454545;\n",
       "                    background-color: #383838;\n",
       "                }\n",
       "\n",
       "                .geemap-dark .jupyter-button {\n",
       "                    --jp-layout-color3: #383838;\n",
       "                }\n",
       "\n",
       "                .geemap-colab {\n",
       "                    background-color: var(--colab-primary-surface-color, white);\n",
       "                }\n",
       "\n",
       "                .geemap-colab .jupyter-button {\n",
       "                    --jp-layout-color3: var(--colab-primary-surface-color, white);\n",
       "                }\n",
       "            </style>\n",
       "            "
      ],
      "text/plain": [
       "<IPython.core.display.HTML object>"
      ]
     },
     "metadata": {},
     "output_type": "display_data"
    },
    {
     "data": {
      "text/plain": [
       "' # Combine the collections\\ncombined_collection = landsat_collection1.merge(landsat_collection2).merge(landsat_collection3)\\n# Get the list of image dates that meet the criteria\\nimage_dates = combined_collection.aggregate_array(\\'system:time_start\\').map(lambda t: ee.Date(t).format(\\'YYYY-MM-dd\\')).getInfo()\\n\\nprint(\"Selected Image Dates:\")\\nprint(image_dates)\\ncombined_collection\\n# Apply all processing steps\\nprocessed_collection = combined_collection     .map(lambda image: image.clip(ee_hurley))     .map(scale_lst)     .map(calculate_ndvi)     .map(calculate_fvc)     .map(calculate_emissivity) \\n '"
      ]
     },
     "execution_count": 10,
     "metadata": {},
     "output_type": "execute_result"
    }
   ],
   "source": [
    "\"\"\" # Combine the collections\n",
    "combined_collection = landsat_collection1.merge(landsat_collection2).merge(landsat_collection3)\n",
    "# Get the list of image dates that meet the criteria\n",
    "image_dates = combined_collection.aggregate_array('system:time_start').map(lambda t: ee.Date(t).format('YYYY-MM-dd')).getInfo()\n",
    "\n",
    "print(\"Selected Image Dates:\")\n",
    "print(image_dates)\n",
    "combined_collection\n",
    "# Apply all processing steps\n",
    "processed_collection = combined_collection \\\n",
    "    .map(lambda image: image.clip(ee_hurley)) \\\n",
    "    .map(scale_lst) \\\n",
    "    .map(calculate_ndvi) \\\n",
    "    .map(calculate_fvc) \\\n",
    "    .map(calculate_emissivity) \n",
    " \"\"\""
   ]
  },
  {
   "cell_type": "code",
   "execution_count": 11,
   "metadata": {},
   "outputs": [
    {
     "data": {
      "text/html": [
       "\n",
       "            <style>\n",
       "                .geemap-dark {\n",
       "                    --jp-widgets-color: white;\n",
       "                    --jp-widgets-label-color: white;\n",
       "                    --jp-ui-font-color1: white;\n",
       "                    --jp-layout-color2: #454545;\n",
       "                    background-color: #383838;\n",
       "                }\n",
       "\n",
       "                .geemap-dark .jupyter-button {\n",
       "                    --jp-layout-color3: #383838;\n",
       "                }\n",
       "\n",
       "                .geemap-colab {\n",
       "                    background-color: var(--colab-primary-surface-color, white);\n",
       "                }\n",
       "\n",
       "                .geemap-colab .jupyter-button {\n",
       "                    --jp-layout-color3: var(--colab-primary-surface-color, white);\n",
       "                }\n",
       "            </style>\n",
       "            "
      ],
      "text/plain": [
       "<IPython.core.display.HTML object>"
      ]
     },
     "metadata": {},
     "output_type": "display_data"
    },
    {
     "name": "stdout",
     "output_type": "stream",
     "text": [
      "Selected Image Dates:\n",
      "['2019-05-29', '2019-06-30', '2019-08-01', '2019-09-02', '2019-09-18', '2020-05-15', '2020-05-31', '2020-06-16', '2020-08-03', '2020-08-19', '2020-09-04', '2020-09-20', '2021-05-02', '2021-06-03', '2021-06-19', '2021-07-21', '2021-08-06', '2021-08-22', '2021-09-07', '2022-05-05', '2022-05-21', '2022-06-06', '2022-07-08', '2022-09-10', '2023-05-08', '2023-05-24', '2023-06-25', '2023-07-27', '2023-09-29', '2024-05-10', '2024-05-26', '2024-06-11', '2024-07-13', '2024-08-14', '2024-08-30', '2019-05-13', '2019-05-29', '2019-06-30', '2019-07-16', '2019-08-01', '2019-08-17', '2019-09-02', '2019-09-18', '2020-05-15', '2020-05-31', '2020-06-16', '2020-08-03', '2020-08-19', '2020-09-04', '2020-09-20', '2021-05-18', '2021-06-19', '2021-07-21', '2021-08-06', '2021-08-22', '2021-09-07', '2022-05-05', '2022-05-21', '2022-06-06', '2022-07-08', '2022-07-24', '2022-08-09', '2022-09-10', '2023-05-08', '2023-05-24', '2023-06-25', '2023-07-11', '2023-07-27', '2023-08-12', '2023-09-29', '2024-05-26', '2024-06-11', '2024-07-13', '2024-07-29', '2024-08-14', '2024-08-30', '2024-09-15']\n"
     ]
    }
   ],
   "source": [
    "# Get the list of image dates that meet the criteria\n",
    "image_dates = landsat_collection1.aggregate_array('system:time_start').map(lambda t: ee.Date(t).format('YYYY-MM-dd')).getInfo()\n",
    "\n",
    "print(\"Selected Image Dates:\")\n",
    "print(image_dates)\n",
    "\n"
   ]
  },
  {
   "cell_type": "code",
   "execution_count": 12,
   "metadata": {},
   "outputs": [
    {
     "data": {
      "text/html": [
       "\n",
       "            <style>\n",
       "                .geemap-dark {\n",
       "                    --jp-widgets-color: white;\n",
       "                    --jp-widgets-label-color: white;\n",
       "                    --jp-ui-font-color1: white;\n",
       "                    --jp-layout-color2: #454545;\n",
       "                    background-color: #383838;\n",
       "                }\n",
       "\n",
       "                .geemap-dark .jupyter-button {\n",
       "                    --jp-layout-color3: #383838;\n",
       "                }\n",
       "\n",
       "                .geemap-colab {\n",
       "                    background-color: var(--colab-primary-surface-color, white);\n",
       "                }\n",
       "\n",
       "                .geemap-colab .jupyter-button {\n",
       "                    --jp-layout-color3: var(--colab-primary-surface-color, white);\n",
       "                }\n",
       "            </style>\n",
       "            "
      ],
      "text/plain": [
       "<IPython.core.display.HTML object>"
      ]
     },
     "metadata": {},
     "output_type": "display_data"
    }
   ],
   "source": [
    "\n",
    "# Apply all processing steps\n",
    "processed_collection = landsat_collection1 \\\n",
    "    .map(lambda image: image.clip(ee_santa_clara)) \\\n",
    "    .map(scale_lst) \\\n",
    "    .map(calculate_ndvi) \\\n",
    "    .map(calculate_fvc) \\\n",
    "    .map(calculate_emissivity) "
   ]
  },
  {
   "cell_type": "code",
   "execution_count": 13,
   "metadata": {},
   "outputs": [
    {
     "data": {
      "text/html": [
       "\n",
       "            <style>\n",
       "                .geemap-dark {\n",
       "                    --jp-widgets-color: white;\n",
       "                    --jp-widgets-label-color: white;\n",
       "                    --jp-ui-font-color1: white;\n",
       "                    --jp-layout-color2: #454545;\n",
       "                    background-color: #383838;\n",
       "                }\n",
       "\n",
       "                .geemap-dark .jupyter-button {\n",
       "                    --jp-layout-color3: #383838;\n",
       "                }\n",
       "\n",
       "                .geemap-colab {\n",
       "                    background-color: var(--colab-primary-surface-color, white);\n",
       "                }\n",
       "\n",
       "                .geemap-colab .jupyter-button {\n",
       "                    --jp-layout-color3: var(--colab-primary-surface-color, white);\n",
       "                }\n",
       "            </style>\n",
       "            "
      ],
      "text/plain": [
       "<IPython.core.display.HTML object>"
      ]
     },
     "metadata": {},
     "output_type": "display_data"
    },
    {
     "data": {
      "text/plain": [
       "<ee.imagecollection.ImageCollection at 0x1ff79777380>"
      ]
     },
     "execution_count": 13,
     "metadata": {},
     "output_type": "execute_result"
    }
   ],
   "source": [
    "processed_collection"
   ]
  },
  {
   "cell_type": "code",
   "execution_count": 14,
   "metadata": {},
   "outputs": [
    {
     "data": {
      "text/html": [
       "\n",
       "            <style>\n",
       "                .geemap-dark {\n",
       "                    --jp-widgets-color: white;\n",
       "                    --jp-widgets-label-color: white;\n",
       "                    --jp-ui-font-color1: white;\n",
       "                    --jp-layout-color2: #454545;\n",
       "                    background-color: #383838;\n",
       "                }\n",
       "\n",
       "                .geemap-dark .jupyter-button {\n",
       "                    --jp-layout-color3: #383838;\n",
       "                }\n",
       "\n",
       "                .geemap-colab {\n",
       "                    background-color: var(--colab-primary-surface-color, white);\n",
       "                }\n",
       "\n",
       "                .geemap-colab .jupyter-button {\n",
       "                    --jp-layout-color3: var(--colab-primary-surface-color, white);\n",
       "                }\n",
       "            </style>\n",
       "            "
      ],
      "text/plain": [
       "<IPython.core.display.HTML object>"
      ]
     },
     "metadata": {},
     "output_type": "display_data"
    }
   ],
   "source": [
    "# Function to extract LST values\n",
    "def extract_lst(image):\n",
    "    date = ee.Date(image.get('system:time_start')).format('YYYY-MM-dd')\n",
    "    mean_lst = image.select('LST_F').reduceRegion(\n",
    "        reducer=ee.Reducer.mean(),\n",
    "        geometry=ee_santa_clara,\n",
    "        scale=30\n",
    "    ).get('LST_F')\n",
    "    return ee.Feature(None, {'date': date, 'LST': mean_lst})\n",
    "\n",
    "# Extract LST values\n",
    "lst_values = processed_collection.map(extract_lst)\n"
   ]
  },
  {
   "cell_type": "code",
   "execution_count": 17,
   "metadata": {},
   "outputs": [
    {
     "data": {
      "text/html": [
       "\n",
       "            <style>\n",
       "                .geemap-dark {\n",
       "                    --jp-widgets-color: white;\n",
       "                    --jp-widgets-label-color: white;\n",
       "                    --jp-ui-font-color1: white;\n",
       "                    --jp-layout-color2: #454545;\n",
       "                    background-color: #383838;\n",
       "                }\n",
       "\n",
       "                .geemap-dark .jupyter-button {\n",
       "                    --jp-layout-color3: #383838;\n",
       "                }\n",
       "\n",
       "                .geemap-colab {\n",
       "                    background-color: var(--colab-primary-surface-color, white);\n",
       "                }\n",
       "\n",
       "                .geemap-colab .jupyter-button {\n",
       "                    --jp-layout-color3: var(--colab-primary-surface-color, white);\n",
       "                }\n",
       "            </style>\n",
       "            "
      ],
      "text/plain": [
       "<IPython.core.display.HTML object>"
      ]
     },
     "metadata": {},
     "output_type": "display_data"
    },
    {
     "data": {
      "text/plain": [
       "{'type': 'FeatureCollection',\n",
       " 'columns': {},\n",
       " 'version': 1738180792555029,\n",
       " 'id': 'LANDSAT/LC08/C02/T1_L2',\n",
       " 'properties': {'type_name': 'ImageCollection',\n",
       "  'keywords': ['cfmask',\n",
       "   'cloud',\n",
       "   'fmask',\n",
       "   'global',\n",
       "   'l8sr',\n",
       "   'landsat',\n",
       "   'lasrc',\n",
       "   'lst',\n",
       "   'reflectance',\n",
       "   'sr',\n",
       "   'usgs'],\n",
       "  'visualization_1_bands': 'SR_B5,SR_B4,SR_B3',\n",
       "  'thumb': 'https://mw1.google.com/ges/dd/images/LANDSAT_SR_thumb.png',\n",
       "  'visualization_1_max': '30000.0',\n",
       "  'description': '<p>This dataset contains atmospherically corrected\\nsurface reflectance and land surface temperature derived from the data\\nproduced by the Landsat 8 OLI/TIRS sensors.\\nThese images contain 5 visible and near-infrared (VNIR) bands and\\n2 short-wave infrared (SWIR) bands processed to orthorectified surface\\nreflectance, and one thermal infrared (TIR) band processed to orthorectified\\nsurface temperature. They also contain intermediate bands used in\\ncalculation of the ST products, as well as QA bands.</p><p>Landsat 8 SR products are created with the Land Surface Reflectance Code\\n(LaSRC). All Collection 2 ST products are created with a single-channel\\nalgorithm jointly created by the Rochester Institute of Technology (RIT) and\\nNational Aeronautics and Space Administration (NASA)\\nJet Propulsion Laboratory (JPL).</p><p>Strips of collected data are packaged into overlapping &quot;scenes&quot; covering approximately\\n170km x 183km using a <a href=\"https://landsat.gsfc.nasa.gov/about/worldwide-reference-system\">standardized reference grid</a>.</p><p>Some assets have only SR data, in which case ST bands are present but empty.\\nFor assets with both ST and SR bands, &#39;PROCESSING_LEVEL&#39; is set to &#39;L2SP&#39;.\\nFor assets with only SR bands, &#39;PROCESSING_LEVEL&#39; is set to &#39;L2SR&#39;.</p><p><a href=\"/earth-engine/guides/landsat\">Additional documentation and usage examples.</a></p><p>Data provider notes:</p><ul><li><p>Data products must contain both optical and thermal data to be\\nsuccessfully processed to surface temperature, as ASTER NDVI is\\nrequired to temporally adjust the ASTER GED product to the target Landsat\\nscene. Therefore, night time acquisitions cannot be processed to\\nsurface temperature.</p></li><li><p>A known error exists in the surface temperature retrievals relative\\nto clouds and possibly cloud shadows. The characterization of these\\nissues has been documented by\\n<a href=\"https://doi.org/10.3390/rs61111244\">Cook et al., (2014)</a>.</p></li></ul><p><b>Provider: <a href=\"https://www.usgs.gov/core-science-systems/nli/landsat/landsat-collection-2-level-2-science-products\">USGS</a></b><br><p><b>Resolution</b><br>30 meters\\n</p><p><b>Revisit Interval</b><br>\\n  16 days\\n</p><p><b>Bands</b><table class=\"eecat\"><tr><th scope=\"col\">Name</th><th scope=\"col\">Units</th><th scope=\"col\">Min</th><th scope=\"col\">Max</th><th scope=\"col\">Scale</th><th scope=\"col\">Offset</th><th scope=\"col\">Wavelength</th><th scope=\"col\">Description</th></tr><tr><td>SR_B1</td><td></td><td>\\n          1\\n</td><td>\\n          65455\\n</td><td>2.75e-05</td><td>-0.2</td><td>0.435-0.451 &mu;m</td><td><p>Band 1 (ultra blue, coastal aerosol) surface reflectance</p></td></tr><tr><td>SR_B2</td><td></td><td>\\n          1\\n</td><td>\\n          65455\\n</td><td>2.75e-05</td><td>-0.2</td><td>0.452-0.512 &mu;m</td><td><p>Band 2 (blue) surface reflectance</p></td></tr><tr><td>SR_B3</td><td></td><td>\\n          1\\n</td><td>\\n          65455\\n</td><td>2.75e-05</td><td>-0.2</td><td>0.533-0.590 &mu;m</td><td><p>Band 3 (green) surface reflectance</p></td></tr><tr><td>SR_B4</td><td></td><td>\\n          1\\n</td><td>\\n          65455\\n</td><td>2.75e-05</td><td>-0.2</td><td>0.636-0.673 &mu;m</td><td><p>Band 4 (red) surface reflectance</p></td></tr><tr><td>SR_B5</td><td></td><td>\\n          1\\n</td><td>\\n          65455\\n</td><td>2.75e-05</td><td>-0.2</td><td>0.851-0.879 &mu;m</td><td><p>Band 5 (near infrared) surface reflectance</p></td></tr><tr><td>SR_B6</td><td></td><td>\\n          1\\n</td><td>\\n          65455\\n</td><td>2.75e-05</td><td>-0.2</td><td>1.566-1.651 &mu;m</td><td><p>Band 6 (shortwave infrared 1) surface reflectance</p></td></tr><tr><td>SR_B7</td><td></td><td>\\n          1\\n</td><td>\\n          65455\\n</td><td>2.75e-05</td><td>-0.2</td><td>2.107-2.294 &mu;m</td><td><p>Band 7 (shortwave infrared 2) surface reflectance</p></td></tr><tr><td>SR_QA_AEROSOL</td><td></td><td></td><td></td><td></td><td></td><td></td><td><p>Aerosol attributes</p></td></tr><tr><td colspan=100>\\n      Bitmask for SR_QA_AEROSOL\\n<ul><li>\\n          Bit 0: Fill\\n<ul></ul></li><li>\\n          Bit 1: Aerosol retrieval - valid\\n<ul></ul></li><li>\\n          Bit 2: Water pixel\\n<ul></ul></li><li>\\n          Bit 3: Unused\\n<ul></ul></li><li>\\n          Bit 4: Unused\\n<ul></ul></li><li>\\n          Bit 5: Interpolated Aerosol\\n<ul></ul></li><li>\\n          Bits 6-7: Aerosol Level\\n<ul><li>0: Climatology</li><li>1: Low</li><li>2: Medium</li><li>3: High</li></ul></li></ul></td></tr><tr><td>ST_B10</td><td>Kelvin</td><td>\\n          0\\n</td><td>\\n          65535\\n</td><td>0.00341802</td><td>149</td><td>10.60-11.19 &mu;m</td><td><p>Band 10 surface temperature.\\nIf &#39;PROCESSING_LEVEL&#39; is set to &#39;L2SR&#39;, this band is fully masked out.</p></td></tr><tr><td>ST_ATRAN</td><td></td><td>\\n          0\\n</td><td>\\n          10000\\n</td><td>0.0001</td><td></td><td></td><td><p>Atmospheric Transmittance.\\nIf &#39;PROCESSING_LEVEL&#39; is set to &#39;L2SR&#39;, this band is fully masked out.</p></td></tr><tr><td>ST_CDIST</td><td>km</td><td>\\n          0\\n</td><td>\\n          24000\\n</td><td>0.01</td><td></td><td></td><td><p>Pixel distance to cloud.\\nIf &#39;PROCESSING_LEVEL&#39; is set to &#39;L2SR&#39;, this band is fully masked out.</p></td></tr><tr><td>ST_DRAD</td><td>W/(m^2*sr*um)/ DN</td><td>\\n          0\\n</td><td>\\n          28000\\n</td><td>0.001</td><td></td><td></td><td><p>Downwelled Radiance.\\nIf &#39;PROCESSING_LEVEL&#39; is set to &#39;L2SR&#39;, this band is fully masked out.</p></td></tr><tr><td>ST_EMIS</td><td></td><td>\\n          0\\n</td><td>\\n          10000\\n</td><td>0.0001</td><td></td><td></td><td><p>Emissivity of Band 10 estimated from ASTER GED.\\nIf &#39;PROCESSING_LEVEL&#39; is set to &#39;L2SR&#39;, this band is fully masked out.</p></td></tr><tr><td>ST_EMSD</td><td></td><td>\\n          0\\n</td><td>\\n          10000\\n</td><td>0.0001</td><td></td><td></td><td><p>Emissivity standard deviation.\\nIf &#39;PROCESSING_LEVEL&#39; is set to &#39;L2SR&#39;, this band is fully masked out.</p></td></tr><tr><td>ST_QA</td><td>K</td><td>\\n          0\\n</td><td>\\n          32767\\n</td><td>0.01</td><td></td><td></td><td><p>Uncertainty of the Surface Temperature band.\\nIf &#39;PROCESSING_LEVEL&#39; is set to &#39;L2SR&#39;, this band is fully masked out.</p></td></tr><tr><td>ST_TRAD</td><td>W/(m^2*sr*um)/ DN</td><td>\\n          0\\n</td><td>\\n          22000\\n</td><td>0.001</td><td></td><td></td><td><p>Thermal band converted to radiance.\\nIf &#39;PROCESSING_LEVEL&#39; is set to &#39;L2SR&#39;, this band is fully masked out.</p></td></tr><tr><td>ST_URAD</td><td>W/(m^2*sr*um)/ DN</td><td>\\n          0\\n</td><td>\\n          28000\\n</td><td>0.001</td><td></td><td></td><td><p>Upwelled Radiance. If &#39;PROCESSING_LEVEL&#39; is set to &#39;L2SR&#39;, this band is fully masked out.</p></td></tr><tr><td>QA_PIXEL</td><td></td><td></td><td></td><td></td><td></td><td></td><td><p>Pixel quality attributes generated from the CFMASK algorithm.</p></td></tr><tr><td colspan=100>\\n      Bitmask for QA_PIXEL\\n<ul><li>\\n          Bit 0: Fill\\n<ul></ul></li><li>\\n          Bit 1: Dilated Cloud\\n<ul></ul></li><li>\\n          Bit 2: Cirrus (high confidence)\\n<ul></ul></li><li>\\n          Bit 3: Cloud\\n<ul></ul></li><li>\\n          Bit 4: Cloud Shadow\\n<ul></ul></li><li>\\n          Bit 5: Snow\\n<ul></ul></li><li>\\n          Bit 6: Clear\\n<ul><li>0: Cloud or Dilated Cloud bits are set</li><li>1: Cloud and Dilated Cloud bits are not set</li></ul></li><li>\\n          Bit 7: Water\\n<ul></ul></li><li>\\n          Bits 8-9: Cloud Confidence\\n<ul><li>0: None</li><li>1: Low</li><li>2: Medium</li><li>3: High</li></ul></li><li>\\n          Bits 10-11: Cloud Shadow Confidence\\n<ul><li>0: None</li><li>1: Low</li><li>2: Medium</li><li>3: High</li></ul></li><li>\\n          Bits 12-13: Snow/Ice Confidence\\n<ul><li>0: None</li><li>1: Low</li><li>2: Medium</li><li>3: High</li></ul></li><li>\\n          Bits 14-15: Cirrus Confidence\\n<ul><li>0: None</li><li>1: Low</li><li>2: Medium</li><li>3: High</li></ul></li></ul></td></tr><tr><td>QA_RADSAT</td><td></td><td></td><td></td><td></td><td></td><td></td><td><p>Radiometric saturation QA</p></td></tr><tr><td colspan=100>\\n      Bitmask for QA_RADSAT\\n<ul><li>\\n          Bit 0: Band 1 data saturated\\n<ul></ul></li><li>\\n          Bit 1: Band 2 data saturated\\n<ul></ul></li><li>\\n          Bit 2: Band 3 data saturated\\n<ul></ul></li><li>\\n          Bit 3: Band 4 data saturated\\n<ul></ul></li><li>\\n          Bit 4: Band 5 data saturated\\n<ul></ul></li><li>\\n          Bit 5: Band 6 data saturated\\n<ul></ul></li><li>\\n          Bit 6: Band 7 data saturated\\n<ul></ul></li><li>\\n          Bit 7: Unused\\n<ul></ul></li><li>\\n          Bit 8: Band 9 data saturated\\n<ul></ul></li><li>\\n          Bit 9: Unused\\n<ul></ul></li><li>\\n          Bit 10: Unused\\n<ul></ul></li><li>\\n          Bit 11: Terrain occlusion\\n<ul></ul></li></ul></td></tr></table><p><b>Image Properties</b><table class=\"eecat\"><tr><th scope=\"col\">Name</th><th scope=\"col\">Type</th><th scope=\"col\">Description</th></tr><tr><td>ALGORITHM_SOURCE_SURFACE_REFLECTANCE</td><td>STRING</td><td><p>Name and version of the surface reflectance algorithm.</p></td></tr><tr><td>ALGORITHM_SOURCE_SURFACE_TEMPERATURE</td><td>STRING</td><td><p>Name and version of the surface temperature algorithm.</p></td></tr><tr><td>CLOUD_COVER</td><td>DOUBLE</td><td><p>Percentage cloud cover (0-100), -1 = not calculated.</p></td></tr><tr><td>CLOUD_COVER_LAND</td><td>DOUBLE</td><td><p>Percentage cloud cover over land (0-100), -1 = not calculated.</p></td></tr><tr><td>COLLECTION_CATEGORY</td><td>STRING</td><td><p>Scene collection category, &quot;T1&quot; or &quot;T2&quot;.</p></td></tr><tr><td>DATA_SOURCE_AIR_TEMPERATURE</td><td>STRING</td><td><p>Air temperature data source.</p></td></tr><tr><td>DATA_SOURCE_ELEVATION</td><td>STRING</td><td><p>Elevation data source.</p></td></tr><tr><td>DATA_SOURCE_OZONE</td><td>STRING</td><td><p>Ozone data source.</p></td></tr><tr><td>DATA_SOURCE_PRESSURE</td><td>STRING</td><td><p>Pressure data source.</p></td></tr><tr><td>DATA_SOURCE_REANALYSIS</td><td>STRING</td><td><p>Reanalysis data source.</p></td></tr><tr><td>DATA_SOURCE_TIRS_STRAY_LIGHT_CORRECTION</td><td>STRING</td><td><p>TIRS stray light correction data source.</p></td></tr><tr><td>DATA_SOURCE_WATER_VAPOR</td><td>STRING</td><td><p>Water vapor data source.</p></td></tr><tr><td>DATE_PRODUCT_GENERATED</td><td>DOUBLE</td><td><p>Timestamp of the date when the product was generated.</p></td></tr><tr><td>EARTH_SUN_DISTANCE</td><td>DOUBLE</td><td><p>Earth-Sun distance (AU).</p></td></tr><tr><td>EPHEMERIS_TYPE</td><td>STRING</td><td><p>Identifier to inform the user of the orbital ephemeris type used:\\n&quot;DEFINITIVE&quot; or &quot;PREDICTIVE&quot;. If the field is not present, the user should\\nassume &quot;PREDICTIVE&quot;.</p></td></tr><tr><td>GEOMETRIC_RMSE_MODEL</td><td>DOUBLE</td><td><p>Combined RMSE (Root Mean Square Error) of the geometric\\nresiduals (meters) in both across-track and along-track\\ndirections.</p></td></tr><tr><td>GEOMETRIC_RMSE_MODEL_X</td><td>DOUBLE</td><td><p>RMSE (Root Mean Square Error) of the geometric residuals (meters)\\nmeasured on the GCPs (Ground Control Points) used in geometric\\nprecision correction in the across-track direction.</p></td></tr><tr><td>GEOMETRIC_RMSE_MODEL_Y</td><td>DOUBLE</td><td><p>RMSE (Root Mean Square Error) of the geometric residuals (meters)\\nmeasured on the GCPs (Ground Control Points) used in geometric\\nprecision correction in the along-track direction.</p></td></tr><tr><td>GEOMETRIC_RMSE_VERIFY</td><td>DOUBLE</td><td><p>RMSE of the geometric residuals (meters) measured on the\\nterrain-corrected product independently using GLS2000.</p></td></tr><tr><td>GROUND_CONTROL_POINTS_MODEL</td><td>DOUBLE</td><td><p>Number of GCPs used in the precision correction process.\\nThis parameter is only present if the PROCESSING_LEVEL is L1TP.</p></td></tr><tr><td>GROUND_CONTROL_POINTS_VERIFY</td><td>DOUBLE</td><td><p>Number of GCPs (Ground Control Points) used in the verification\\nof the terrain corrected product.</p></td></tr><tr><td>GROUND_CONTROL_POINTS_VERSION</td><td>DOUBLE</td><td><p>GCP dataset version used in the precision correction process. This\\nparameter is only present if the PROCESSING_LEVEL is L1TP.</p></td></tr><tr><td>IMAGE_QUALITY_OLI</td><td>INT</td><td><p>Image quality of the OLI bands.\\n1 = worst, 9 = best, 0 = quality not calculated.\\nFor Landsat 8, this parameter is adjusted downward for\\nscenes collected using the lower 12 bits from the OLI sensor\\n(TRUNCATION_OLI = &quot;LOWER&quot;).</p></td></tr><tr><td>IMAGE_QUALITY_TIRS</td><td>INT</td><td><p>Image quality of the TIRS bands.\\n1 = worst, 9 = best, 0 = quality not calculated.\\nIt is also adjusted downward for scenes processed with\\n&quot;SWITCHED&quot; for the TIRS_SSM_POSITION_STATUS value.</p></td></tr><tr><td>L1_DATE_PRODUCT_GENERATED</td><td>STRING</td><td><p>Product generation date for the corresponding L1 product.</p></td></tr><tr><td>L1_LANDSAT_PRODUCT_ID</td><td>STRING</td><td><p>Landsat Product Identifier for the corresponding L1 product.</p></td></tr><tr><td>L1_PROCESSING_LEVEL</td><td>STRING</td><td><p>Processing Level for the corresponding L1 product.</p></td></tr><tr><td>L1_PROCESSING_SOFTWARE_VERSION</td><td>STRING</td><td><p>Processing software version for the corresponding L1 product.</p></td></tr><tr><td>LANDSAT_PRODUCT_ID</td><td>STRING</td><td><p>Landsat Product Identifier</p></td></tr><tr><td>LANDSAT_SCENE_ID</td><td>STRING</td><td><p>Short Landsat Scene Identifier</p></td></tr><tr><td>PROCESSING_LEVEL</td><td>STRING</td><td><p>&quot;L2SP&quot; when both SR and LST bands are present, or &quot;L2SR&quot; when only\\nSR bands are present.</p></td></tr><tr><td>PROCESSING_SOFTWARE_VERSION</td><td>STRING</td><td><p>The processing software version that created the product.</p></td></tr><tr><td>ROLL_ANGLE</td><td>DOUBLE</td><td><p>The amount of spacecraft roll angle at the scene center. The roll value is\\ngiven in the Yaw Steering Frame (YSF) reference, whose x-axis is\\naligned with the instantaneous ground track velocity vector. Rolls about\\nthis x-axis go by the right-hand rule: a positive roll results in the\\ninstruments pointing to the left of the ground track, while a negative\\nroll results in the instrument pointing to the right.</p></td></tr><tr><td>SCENE_CENTER_TIME</td><td>STRING</td><td><p>Time of the observations as in ISO 8601 string.</p></td></tr><tr><td>SENSOR_ID</td><td>STRING</td><td><p>Name of the sensor.</p></td></tr><tr><td>SPACECRAFT_ID</td><td>STRING</td><td><p>Name of the spacecraft.</p></td></tr><tr><td>SUN_AZIMUTH</td><td>DOUBLE</td><td><p>Sun azimuth angle in degrees for the image center location at the\\nimage center acquisition time. A positive value indicates angles to the\\neast or clockwise from the north. A negative value indicates angles to\\nthe west or counterclockwise from the north.</p></td></tr><tr><td>SUN_ELEVATION</td><td>DOUBLE</td><td><p>Sun elevation angle in degrees for the image center location at the\\nimage center acquisition time. A positive value indicates a daytime\\nscene. A negative value indicates a nighttime scene.\\nNote: For reflectance calculation, the sun zenith angle is needed,\\nwhich is 90 - sun elevation angle.</p></td></tr><tr><td>TARGET_WRS_PATH</td><td>INT</td><td><p>Nearest WRS-2 path to the Line-ofSight (LOS) scene center of the image.</p></td></tr><tr><td>TARGET_WRS_ROW</td><td>INT</td><td><p>Nearest WRS-2 row to the LOS scene center of the image. Rows 880-889\\nare reserved for the north pole and 990-999 are reserved for the south\\npole, where WRS-2 is not defined.</p></td></tr><tr><td>TEMPERATURE_MAXIMUM_BAND_ST_B10</td><td>DOUBLE</td><td><p>Maximum achievable temperature value for Band 10.</p></td></tr><tr><td>TEMPERATURE_MINIMUM_BAND_ST_B10</td><td>DOUBLE</td><td><p>Minimum achievable temperature value for Band 10.</p></td></tr><tr><td>TIRS_SSM_MODEL</td><td>STRING</td><td><p>Indicates how the Landsat 8 TIRS Scene Select Mirror (SSM) position\\nwas determined.</p><ul><li><p>&quot;FINAL&quot; indicates final estimated encoder values generated after\\nthe switch event.</p></li><li><p>&quot;ACTUAL&quot; indicates actual encoder values.</p></li></ul></td></tr><tr><td>TIRS_SSM_POSITION_STATUS</td><td>STRING</td><td><ul><li><p>&quot;NOMINAL&quot; indicates the SSM was functioning normally for this scene.</p></li><li><p>&quot;SWITCHED&quot; indicates the SSM switched operating modes in the scene and\\nmay have TIRS image quality issues, which directly impact the\\nIMAGE_QUALITY_TIRS value.</p></li><li><p>&quot;ESTIMATED&quot; indicates the SSM position was estimated, which may not be\\nas accurate as the &quot;NOMINAL&quot; status.</p></li></ul></td></tr><tr><td>TRUNCATION_OLI</td><td>STRING</td><td><ul><li><p>&quot;LOWER&quot; indicates that the lower 12 bits were used.</p></li><li><p>&quot;UPPER&quot; indicates the upper 12 bits were used.</p></li></ul><p>The normal truncation mode is &quot;UPPER&quot;.</p></td></tr><tr><td>WRS_PATH</td><td>INT</td><td><p>WRS path number of scene.</p></td></tr><tr><td>WRS_ROW</td><td>INT</td><td><p>WRS row number of scene.</p></td></tr></table><p><b>Terms of Use</b><br><p>Landsat datasets are federally created data\\nand therefore reside in the public domain and may be used, transferred, or reproduced without copyright restriction.</p><p>Acknowledgement or credit of the USGS as data source should be provided\\nby including a line of text citation such as the example shown below.</p><p>(Product, Image, Photograph, or Dataset Name) courtesy of\\nthe U.S. Geological Survey</p><p>Example: Landsat-7 image courtesy of the U.S. Geological Survey</p><p>See the\\n<a href=\"https://www.usgs.gov/information-policies-and-instructions/usgs-visual-identity-system\">USGS Visual Identity System Guidance</a>\\nfor further details on proper citation and acknowledgement of USGS products.</p><style>\\n  table.eecat {\\n  border: 1px solid black;\\n  border-collapse: collapse;\\n  font-size: 13px;\\n  }\\n  table.eecat td, tr, th {\\n  text-align: left; vertical-align: top;\\n  border: 1px solid gray; padding: 3px;\\n  }\\n  td.nobreak { white-space: nowrap; }\\n</style>',\n",
       "  'source_tags': ['landsat', 'usgs'],\n",
       "  'visualization_1_name': 'Near Infrared (543)',\n",
       "  'visualization_0_max': '30000.0',\n",
       "  'title': 'USGS Landsat 8 Level 2, Collection 2, Tier 1',\n",
       "  'product_tags': ['global',\n",
       "   'sr',\n",
       "   'reflectance',\n",
       "   'l8sr',\n",
       "   'lst',\n",
       "   'cloud',\n",
       "   'lasrc',\n",
       "   'fmask',\n",
       "   'cfmask',\n",
       "   'lc08'],\n",
       "  'provider': 'USGS',\n",
       "  'visualization_1_min': '0.0',\n",
       "  'visualization_0_min': '0.0',\n",
       "  'visualization_0_name': 'True Color (432)',\n",
       "  'date_range': [1365638400000, 1654560000000],\n",
       "  'visualization_2_bands': 'SR_B7,SR_B5,SR_B3',\n",
       "  'visualization_2_name': 'Shortwave Infrared (753)',\n",
       "  'period': 0,\n",
       "  'visualization_2_min': '0.0',\n",
       "  'provider_url': 'https://www.usgs.gov/core-science-systems/nli/landsat/landsat-collection-2-level-2-science-products',\n",
       "  'sample': 'https://mw1.google.com/ges/dd/images/LANDSAT_SR_sample.png',\n",
       "  'tags': ['cfmask',\n",
       "   'cloud',\n",
       "   'fmask',\n",
       "   'global',\n",
       "   'l8sr',\n",
       "   'landsat',\n",
       "   'lasrc',\n",
       "   'lst',\n",
       "   'reflectance',\n",
       "   'sr',\n",
       "   'usgs'],\n",
       "  'visualization_2_max': '30000.0',\n",
       "  'visualization_0_bands': 'SR_B4,SR_B3,SR_B2'},\n",
       " 'features': [{'type': 'Feature',\n",
       "   'geometry': None,\n",
       "   'id': 'LC08_034037_20190529',\n",
       "   'properties': {'LST': 110.93076781122572, 'date': '2019-05-29'}},\n",
       "  {'type': 'Feature',\n",
       "   'geometry': None,\n",
       "   'id': 'LC08_034037_20190630',\n",
       "   'properties': {'LST': 118.61436754504007, 'date': '2019-06-30'}},\n",
       "  {'type': 'Feature',\n",
       "   'geometry': None,\n",
       "   'id': 'LC08_034037_20190801',\n",
       "   'properties': {'LST': 111.93300976482459, 'date': '2019-08-01'}},\n",
       "  {'type': 'Feature',\n",
       "   'geometry': None,\n",
       "   'id': 'LC08_034037_20190902',\n",
       "   'properties': {'LST': 117.31671645108644, 'date': '2019-09-02'}},\n",
       "  {'type': 'Feature',\n",
       "   'geometry': None,\n",
       "   'id': 'LC08_034037_20190918',\n",
       "   'properties': {'LST': 53.648046481521455, 'date': '2019-09-18'}},\n",
       "  {'type': 'Feature',\n",
       "   'geometry': None,\n",
       "   'id': 'LC08_034037_20200515',\n",
       "   'properties': {'LST': 112.47757665631468, 'date': '2020-05-15'}},\n",
       "  {'type': 'Feature',\n",
       "   'geometry': None,\n",
       "   'id': 'LC08_034037_20200531',\n",
       "   'properties': {'LST': 117.16838000220673, 'date': '2020-05-31'}},\n",
       "  {'type': 'Feature',\n",
       "   'geometry': None,\n",
       "   'id': 'LC08_034037_20200616',\n",
       "   'properties': {'LST': 115.76703539188247, 'date': '2020-06-16'}},\n",
       "  {'type': 'Feature',\n",
       "   'geometry': None,\n",
       "   'id': 'LC08_034037_20200803',\n",
       "   'properties': {'LST': 117.62177932712356, 'date': '2020-08-03'}},\n",
       "  {'type': 'Feature',\n",
       "   'geometry': None,\n",
       "   'id': 'LC08_034037_20200819',\n",
       "   'properties': {'LST': 119.74594436722086, 'date': '2020-08-19'}},\n",
       "  {'type': 'Feature',\n",
       "   'geometry': None,\n",
       "   'id': 'LC08_034037_20200904',\n",
       "   'properties': {'LST': 118.367704320157, 'date': '2020-09-04'}},\n",
       "  {'type': 'Feature',\n",
       "   'geometry': None,\n",
       "   'id': 'LC08_034037_20200920',\n",
       "   'properties': {'LST': 106.24290923871482, 'date': '2020-09-20'}},\n",
       "  {'type': 'Feature',\n",
       "   'geometry': None,\n",
       "   'id': 'LC08_034037_20210502',\n",
       "   'properties': {'LST': 105.9814011318279, 'date': '2021-05-02'}},\n",
       "  {'type': 'Feature',\n",
       "   'geometry': None,\n",
       "   'id': 'LC08_034037_20210603',\n",
       "   'properties': {'LST': 122.6891252021649, 'date': '2021-06-03'}},\n",
       "  {'type': 'Feature',\n",
       "   'geometry': None,\n",
       "   'id': 'LC08_034037_20210619',\n",
       "   'properties': {'LST': 136.99562528060127, 'date': '2021-06-19'}},\n",
       "  {'type': 'Feature',\n",
       "   'geometry': None,\n",
       "   'id': 'LC08_034037_20210721',\n",
       "   'properties': {'LST': 125.85329687408208, 'date': '2021-07-21'}},\n",
       "  {'type': 'Feature',\n",
       "   'geometry': None,\n",
       "   'id': 'LC08_034037_20210806',\n",
       "   'properties': {'LST': 123.36557483036492, 'date': '2021-08-06'}},\n",
       "  {'type': 'Feature',\n",
       "   'geometry': None,\n",
       "   'id': 'LC08_034037_20210822',\n",
       "   'properties': {'LST': 105.37716804642338, 'date': '2021-08-22'}},\n",
       "  {'type': 'Feature',\n",
       "   'geometry': None,\n",
       "   'id': 'LC08_034037_20210907',\n",
       "   'properties': {'LST': 107.24138559515492, 'date': '2021-09-07'}},\n",
       "  {'type': 'Feature',\n",
       "   'geometry': None,\n",
       "   'id': 'LC08_034037_20220505',\n",
       "   'properties': {'LST': 113.81877211712991, 'date': '2022-05-05'}},\n",
       "  {'type': 'Feature',\n",
       "   'geometry': None,\n",
       "   'id': 'LC08_034037_20220521',\n",
       "   'properties': {'LST': 116.7276857922997, 'date': '2022-05-21'}},\n",
       "  {'type': 'Feature',\n",
       "   'geometry': None,\n",
       "   'id': 'LC08_034037_20220606',\n",
       "   'properties': {'LST': 125.8268335388247, 'date': '2022-06-06'}},\n",
       "  {'type': 'Feature',\n",
       "   'geometry': None,\n",
       "   'id': 'LC08_034037_20220708',\n",
       "   'properties': {'LST': 118.89318414119164, 'date': '2022-07-08'}},\n",
       "  {'type': 'Feature',\n",
       "   'geometry': None,\n",
       "   'id': 'LC08_034037_20220910',\n",
       "   'properties': {'LST': 104.44145037443697, 'date': '2022-09-10'}},\n",
       "  {'type': 'Feature',\n",
       "   'geometry': None,\n",
       "   'id': 'LC08_034037_20230508',\n",
       "   'properties': {'LST': 112.37509779574829, 'date': '2023-05-08'}},\n",
       "  {'type': 'Feature',\n",
       "   'geometry': None,\n",
       "   'id': 'LC08_034037_20230524',\n",
       "   'properties': {'LST': 111.25476305383212, 'date': '2023-05-24'}},\n",
       "  {'type': 'Feature',\n",
       "   'geometry': None,\n",
       "   'id': 'LC08_034037_20230625',\n",
       "   'properties': {'LST': 126.56443775952854, 'date': '2023-06-25'}},\n",
       "  {'type': 'Feature',\n",
       "   'geometry': None,\n",
       "   'id': 'LC08_034037_20230727',\n",
       "   'properties': {'LST': 134.6008591645107, 'date': '2023-07-27'}},\n",
       "  {'type': 'Feature',\n",
       "   'geometry': None,\n",
       "   'id': 'LC08_034037_20230929',\n",
       "   'properties': {'LST': 102.37186578970986, 'date': '2023-09-29'}},\n",
       "  {'type': 'Feature',\n",
       "   'geometry': None,\n",
       "   'id': 'LC08_034037_20240510',\n",
       "   'properties': {'LST': 107.55405942935236, 'date': '2024-05-10'}},\n",
       "  {'type': 'Feature',\n",
       "   'geometry': None,\n",
       "   'id': 'LC08_034037_20240526',\n",
       "   'properties': {'LST': 115.59606890925045, 'date': '2024-05-26'}},\n",
       "  {'type': 'Feature',\n",
       "   'geometry': None,\n",
       "   'id': 'LC08_034037_20240611',\n",
       "   'properties': {'LST': 127.41092608274192, 'date': '2024-06-11'}},\n",
       "  {'type': 'Feature',\n",
       "   'geometry': None,\n",
       "   'id': 'LC08_034037_20240713',\n",
       "   'properties': {'LST': 112.39694563501288, 'date': '2024-07-13'}},\n",
       "  {'type': 'Feature',\n",
       "   'geometry': None,\n",
       "   'id': 'LC08_034037_20240814',\n",
       "   'properties': {'LST': 105.10473369358843, 'date': '2024-08-14'}},\n",
       "  {'type': 'Feature',\n",
       "   'geometry': None,\n",
       "   'id': 'LC08_034037_20240830',\n",
       "   'properties': {'LST': 104.34230825978204, 'date': '2024-08-30'}},\n",
       "  {'type': 'Feature',\n",
       "   'geometry': None,\n",
       "   'id': 'LC08_034038_20190513',\n",
       "   'properties': {'date': '2019-05-13'}},\n",
       "  {'type': 'Feature',\n",
       "   'geometry': None,\n",
       "   'id': 'LC08_034038_20190529',\n",
       "   'properties': {'date': '2019-05-29'}},\n",
       "  {'type': 'Feature',\n",
       "   'geometry': None,\n",
       "   'id': 'LC08_034038_20190630',\n",
       "   'properties': {'date': '2019-06-30'}},\n",
       "  {'type': 'Feature',\n",
       "   'geometry': None,\n",
       "   'id': 'LC08_034038_20190716',\n",
       "   'properties': {'date': '2019-07-16'}},\n",
       "  {'type': 'Feature',\n",
       "   'geometry': None,\n",
       "   'id': 'LC08_034038_20190801',\n",
       "   'properties': {'date': '2019-08-01'}},\n",
       "  {'type': 'Feature',\n",
       "   'geometry': None,\n",
       "   'id': 'LC08_034038_20190817',\n",
       "   'properties': {'date': '2019-08-17'}},\n",
       "  {'type': 'Feature',\n",
       "   'geometry': None,\n",
       "   'id': 'LC08_034038_20190902',\n",
       "   'properties': {'date': '2019-09-02'}},\n",
       "  {'type': 'Feature',\n",
       "   'geometry': None,\n",
       "   'id': 'LC08_034038_20190918',\n",
       "   'properties': {'date': '2019-09-18'}},\n",
       "  {'type': 'Feature',\n",
       "   'geometry': None,\n",
       "   'id': 'LC08_034038_20200515',\n",
       "   'properties': {'date': '2020-05-15'}},\n",
       "  {'type': 'Feature',\n",
       "   'geometry': None,\n",
       "   'id': 'LC08_034038_20200531',\n",
       "   'properties': {'date': '2020-05-31'}},\n",
       "  {'type': 'Feature',\n",
       "   'geometry': None,\n",
       "   'id': 'LC08_034038_20200616',\n",
       "   'properties': {'date': '2020-06-16'}},\n",
       "  {'type': 'Feature',\n",
       "   'geometry': None,\n",
       "   'id': 'LC08_034038_20200803',\n",
       "   'properties': {'date': '2020-08-03'}},\n",
       "  {'type': 'Feature',\n",
       "   'geometry': None,\n",
       "   'id': 'LC08_034038_20200819',\n",
       "   'properties': {'date': '2020-08-19'}},\n",
       "  {'type': 'Feature',\n",
       "   'geometry': None,\n",
       "   'id': 'LC08_034038_20200904',\n",
       "   'properties': {'date': '2020-09-04'}},\n",
       "  {'type': 'Feature',\n",
       "   'geometry': None,\n",
       "   'id': 'LC08_034038_20200920',\n",
       "   'properties': {'date': '2020-09-20'}},\n",
       "  {'type': 'Feature',\n",
       "   'geometry': None,\n",
       "   'id': 'LC08_034038_20210518',\n",
       "   'properties': {'date': '2021-05-18'}},\n",
       "  {'type': 'Feature',\n",
       "   'geometry': None,\n",
       "   'id': 'LC08_034038_20210619',\n",
       "   'properties': {'date': '2021-06-19'}},\n",
       "  {'type': 'Feature',\n",
       "   'geometry': None,\n",
       "   'id': 'LC08_034038_20210721',\n",
       "   'properties': {'date': '2021-07-21'}},\n",
       "  {'type': 'Feature',\n",
       "   'geometry': None,\n",
       "   'id': 'LC08_034038_20210806',\n",
       "   'properties': {'date': '2021-08-06'}},\n",
       "  {'type': 'Feature',\n",
       "   'geometry': None,\n",
       "   'id': 'LC08_034038_20210822',\n",
       "   'properties': {'date': '2021-08-22'}},\n",
       "  {'type': 'Feature',\n",
       "   'geometry': None,\n",
       "   'id': 'LC08_034038_20210907',\n",
       "   'properties': {'date': '2021-09-07'}},\n",
       "  {'type': 'Feature',\n",
       "   'geometry': None,\n",
       "   'id': 'LC08_034038_20220505',\n",
       "   'properties': {'date': '2022-05-05'}},\n",
       "  {'type': 'Feature',\n",
       "   'geometry': None,\n",
       "   'id': 'LC08_034038_20220521',\n",
       "   'properties': {'date': '2022-05-21'}},\n",
       "  {'type': 'Feature',\n",
       "   'geometry': None,\n",
       "   'id': 'LC08_034038_20220606',\n",
       "   'properties': {'date': '2022-06-06'}},\n",
       "  {'type': 'Feature',\n",
       "   'geometry': None,\n",
       "   'id': 'LC08_034038_20220708',\n",
       "   'properties': {'date': '2022-07-08'}},\n",
       "  {'type': 'Feature',\n",
       "   'geometry': None,\n",
       "   'id': 'LC08_034038_20220724',\n",
       "   'properties': {'date': '2022-07-24'}},\n",
       "  {'type': 'Feature',\n",
       "   'geometry': None,\n",
       "   'id': 'LC08_034038_20220809',\n",
       "   'properties': {'date': '2022-08-09'}},\n",
       "  {'type': 'Feature',\n",
       "   'geometry': None,\n",
       "   'id': 'LC08_034038_20220910',\n",
       "   'properties': {'date': '2022-09-10'}},\n",
       "  {'type': 'Feature',\n",
       "   'geometry': None,\n",
       "   'id': 'LC08_034038_20230508',\n",
       "   'properties': {'date': '2023-05-08'}},\n",
       "  {'type': 'Feature',\n",
       "   'geometry': None,\n",
       "   'id': 'LC08_034038_20230524',\n",
       "   'properties': {'date': '2023-05-24'}},\n",
       "  {'type': 'Feature',\n",
       "   'geometry': None,\n",
       "   'id': 'LC08_034038_20230625',\n",
       "   'properties': {'date': '2023-06-25'}},\n",
       "  {'type': 'Feature',\n",
       "   'geometry': None,\n",
       "   'id': 'LC08_034038_20230711',\n",
       "   'properties': {'date': '2023-07-11'}},\n",
       "  {'type': 'Feature',\n",
       "   'geometry': None,\n",
       "   'id': 'LC08_034038_20230727',\n",
       "   'properties': {'date': '2023-07-27'}},\n",
       "  {'type': 'Feature',\n",
       "   'geometry': None,\n",
       "   'id': 'LC08_034038_20230812',\n",
       "   'properties': {'date': '2023-08-12'}},\n",
       "  {'type': 'Feature',\n",
       "   'geometry': None,\n",
       "   'id': 'LC08_034038_20230929',\n",
       "   'properties': {'date': '2023-09-29'}},\n",
       "  {'type': 'Feature',\n",
       "   'geometry': None,\n",
       "   'id': 'LC08_034038_20240526',\n",
       "   'properties': {'date': '2024-05-26'}},\n",
       "  {'type': 'Feature',\n",
       "   'geometry': None,\n",
       "   'id': 'LC08_034038_20240611',\n",
       "   'properties': {'date': '2024-06-11'}},\n",
       "  {'type': 'Feature',\n",
       "   'geometry': None,\n",
       "   'id': 'LC08_034038_20240713',\n",
       "   'properties': {'date': '2024-07-13'}},\n",
       "  {'type': 'Feature',\n",
       "   'geometry': None,\n",
       "   'id': 'LC08_034038_20240729',\n",
       "   'properties': {'date': '2024-07-29'}},\n",
       "  {'type': 'Feature',\n",
       "   'geometry': None,\n",
       "   'id': 'LC08_034038_20240814',\n",
       "   'properties': {'date': '2024-08-14'}},\n",
       "  {'type': 'Feature',\n",
       "   'geometry': None,\n",
       "   'id': 'LC08_034038_20240830',\n",
       "   'properties': {'date': '2024-08-30'}},\n",
       "  {'type': 'Feature',\n",
       "   'geometry': None,\n",
       "   'id': 'LC08_034038_20240915',\n",
       "   'properties': {'date': '2024-09-15'}}]}"
      ]
     },
     "execution_count": 17,
     "metadata": {},
     "output_type": "execute_result"
    }
   ],
   "source": [
    "lst_values.getInfo()"
   ]
  },
  {
   "cell_type": "code",
   "execution_count": null,
   "metadata": {},
   "outputs": [],
   "source": [
    "# Print results\n",
    "print(\"Date, Mean LST (°F)\")\n",
    "lst_list = lst_values.getInfo().get('features')\n",
    "for feature in lst_list:\n",
    "    date = feature['properties']['date']\n",
    "    lst = feature['properties']['LST']\n",
    "    print(f\"{date}, {lst:.2f}\")"
   ]
  },
  {
   "cell_type": "code",
   "execution_count": 28,
   "metadata": {},
   "outputs": [
    {
     "data": {
      "text/html": [
       "\n",
       "            <style>\n",
       "                .geemap-dark {\n",
       "                    --jp-widgets-color: white;\n",
       "                    --jp-widgets-label-color: white;\n",
       "                    --jp-ui-font-color1: white;\n",
       "                    --jp-layout-color2: #454545;\n",
       "                    background-color: #383838;\n",
       "                }\n",
       "\n",
       "                .geemap-dark .jupyter-button {\n",
       "                    --jp-layout-color3: #383838;\n",
       "                }\n",
       "\n",
       "                .geemap-colab {\n",
       "                    background-color: var(--colab-primary-surface-color, white);\n",
       "                }\n",
       "\n",
       "                .geemap-colab .jupyter-button {\n",
       "                    --jp-layout-color3: var(--colab-primary-surface-color, white);\n",
       "                }\n",
       "            </style>\n",
       "            "
      ],
      "text/plain": [
       "<IPython.core.display.HTML object>"
      ]
     },
     "metadata": {},
     "output_type": "display_data"
    },
    {
     "name": "stdout",
     "output_type": "stream",
     "text": [
      "\n",
      "Number of images: 77\n",
      "\n",
      "Cloud cover for each image:\n",
      "2019-05-29: 7.42%\n",
      "2019-06-30: 7.17%\n",
      "2019-08-01: 7.59%\n",
      "2019-09-02: 4.46%\n",
      "2019-09-18: 7.68%\n",
      "2020-05-15: 0.03%\n",
      "2020-05-31: 2.03%\n",
      "2020-06-16: 4.03%\n",
      "2020-08-03: 0.02%\n",
      "2020-08-19: 0.34%\n",
      "2020-09-04: 0.61%\n",
      "2020-09-20: 0.43%\n",
      "2021-05-02: 0.06%\n",
      "2021-06-03: 5.08%\n",
      "2021-06-19: 0.91%\n",
      "2021-07-21: 7.28%\n",
      "2021-08-06: 4.96%\n",
      "2021-08-22: 7.42%\n",
      "2021-09-07: 0.00%\n",
      "2022-05-05: 0.01%\n",
      "2022-05-21: 0.06%\n",
      "2022-06-06: 0.01%\n",
      "2022-07-08: 3.63%\n",
      "2022-09-10: 3.26%\n",
      "2023-05-08: 0.02%\n",
      "2023-05-24: 0.14%\n",
      "2023-06-25: 0.04%\n",
      "2023-07-27: 3.43%\n",
      "2023-09-29: 0.24%\n",
      "2024-05-10: 8.20%\n",
      "2024-05-26: 0.06%\n",
      "2024-06-11: 3.74%\n",
      "2024-07-13: 0.65%\n",
      "2024-08-14: 8.54%\n",
      "2024-08-30: 7.45%\n",
      "2019-05-13: 7.73%\n",
      "2019-05-29: 0.00%\n",
      "2019-06-30: 4.28%\n",
      "2019-07-16: 5.53%\n",
      "2019-08-01: 3.76%\n",
      "2019-08-17: 6.91%\n",
      "2019-09-02: 0.69%\n",
      "2019-09-18: 3.31%\n",
      "2020-05-15: 0.00%\n",
      "2020-05-31: 0.01%\n",
      "2020-06-16: 0.34%\n",
      "2020-08-03: 1.24%\n",
      "2020-08-19: 0.00%\n",
      "2020-09-04: 0.05%\n",
      "2020-09-20: 0.58%\n",
      "2021-05-18: 6.77%\n",
      "2021-06-19: 0.00%\n",
      "2021-07-21: 8.54%\n",
      "2021-08-06: 0.67%\n",
      "2021-08-22: 0.36%\n",
      "2021-09-07: 0.39%\n",
      "2022-05-05: 0.00%\n",
      "2022-05-21: 0.00%\n",
      "2022-06-06: 0.00%\n",
      "2022-07-08: 2.42%\n",
      "2022-07-24: 4.68%\n",
      "2022-08-09: 6.29%\n",
      "2022-09-10: 3.14%\n",
      "2023-05-08: 0.00%\n",
      "2023-05-24: 0.00%\n",
      "2023-06-25: 0.28%\n",
      "2023-07-11: 8.21%\n",
      "2023-07-27: 0.02%\n",
      "2023-08-12: 4.24%\n",
      "2023-09-29: 0.21%\n",
      "2024-05-26: 0.00%\n",
      "2024-06-11: 0.00%\n",
      "2024-07-13: 0.44%\n",
      "2024-07-29: 2.29%\n",
      "2024-08-14: 4.21%\n",
      "2024-08-30: 1.66%\n",
      "2024-09-15: 4.30%\n"
     ]
    }
   ],
   "source": [
    "\n",
    "\n",
    "# Print collection information\n",
    "print(f\"\\nNumber of images: {processed_collection.size().getInfo()}\")\n",
    "#print(f\"Date range: {start_date} to {end_date}\")\n",
    "\n",
    "# Print cloud cover information\n",
    "cloud_covers = processed_collection.aggregate_array('CLOUD_COVER').getInfo()\n",
    "dates = processed_collection.aggregate_array('system:time_start').getInfo()\n",
    "dates = [ee.Date(d).format('YYYY-MM-dd').getInfo() for d in dates]\n",
    "\n",
    "print(\"\\nCloud cover for each image:\")\n",
    "for date, cloud_cover in zip(dates, cloud_covers):\n",
    "    print(f\"{date}: {cloud_cover:.2f}%\")"
   ]
  },
  {
   "cell_type": "code",
   "execution_count": null,
   "metadata": {},
   "outputs": [],
   "source": [
    "\"\"\" ## Define the specific dates you want to inspect\n",
    "specific_dates = ['2019-09-18', '2024-08-14']  # Replace with your desired dates\n",
    "\n",
    "# Filter the collection for specific dates using ee.Filter.Or\n",
    "filtered_collection = processed_collection.filter(\n",
    "    ee.Filter.Or(\n",
    "        ee.Filter.date(specific_dates[0], ee.Date(specific_dates[0]).advance(1, 'day')),\n",
    "        ee.Filter.date(specific_dates[1], ee.Date(specific_dates[1]).advance(1, 'day'))\n",
    "    )\n",
    ")\n",
    "\n",
    "# Check if the collection is empty\n",
    "if filtered_collection.size().getInfo() == 0:\n",
    "    raise ValueError(\"No images found for the specified dates.\")\n",
    "\n",
    "# Create the map and add true-color layers for the specific dates\n",
    "Map = geemap.Map()\n",
    "Map.center_object(ee_hurley, 12)\n",
    "\n",
    "# Visualization parameters for true-color composite\n",
    "true_color_vis_params = {\n",
    "    'bands': ['SR_B4', 'SR_B3', 'SR_B2'],  # Red, Green, Blue\n",
    "    'min': 0,\n",
    "    'max': 3000,  # Adjust based on the reflectance range of your data\n",
    "    'gamma': 1.4  # Optional: adjust for better visualization\n",
    "}\n",
    "\n",
    "# Add true-color layers for each date\n",
    "filtered_images = filtered_collection.toList(filtered_collection.size())\n",
    "for i in range(filtered_collection.size().getInfo()):\n",
    "    image = ee.Image(filtered_images.get(i))\n",
    "    image_date = ee.Date(image.get('system:time_start')).format('YYYY-MM-dd').getInfo()\n",
    "    Map.addLayer(image, true_color_vis_params, f'True Color {image_date}')\n",
    "\n",
    "Map.addLayer(ee_hurley, {}, 'Hurley Boundary')\n",
    "Map \"\"\"\n",
    "\n",
    "\n"
   ]
  },
  {
   "cell_type": "code",
   "execution_count": 18,
   "metadata": {},
   "outputs": [
    {
     "data": {
      "text/html": [
       "\n",
       "            <style>\n",
       "                .geemap-dark {\n",
       "                    --jp-widgets-color: white;\n",
       "                    --jp-widgets-label-color: white;\n",
       "                    --jp-ui-font-color1: white;\n",
       "                    --jp-layout-color2: #454545;\n",
       "                    background-color: #383838;\n",
       "                }\n",
       "\n",
       "                .geemap-dark .jupyter-button {\n",
       "                    --jp-layout-color3: #383838;\n",
       "                }\n",
       "\n",
       "                .geemap-colab {\n",
       "                    background-color: var(--colab-primary-surface-color, white);\n",
       "                }\n",
       "\n",
       "                .geemap-colab .jupyter-button {\n",
       "                    --jp-layout-color3: var(--colab-primary-surface-color, white);\n",
       "                }\n",
       "            </style>\n",
       "            "
      ],
      "text/plain": [
       "<IPython.core.display.HTML object>"
      ]
     },
     "metadata": {},
     "output_type": "display_data"
    },
    {
     "name": "stdout",
     "output_type": "stream",
     "text": [
      "Mean LST (°F) for the entire collection over Hurley, NM: 113.88991089271732\n"
     ]
    }
   ],
   "source": [
    "# Calculate the mean image across the entire collection\n",
    "collection_mean = processed_collection.mean()\n",
    "\n",
    "# Extract the mean LST over the Hurley area\n",
    "mean_lst = collection_mean.select('LST_F').reduceRegion(\n",
    "    reducer=ee.Reducer.mean(),\n",
    "    geometry=ee_santa_clara,\n",
    "    scale=30,\n",
    "    maxPixels=1e8,\n",
    "    bestEffort=True\n",
    ").get('LST_F')\n",
    "\n",
    "# Get the result as a Python object\n",
    "mean_lst_value = mean_lst.getInfo()\n",
    "\n",
    "print(\"Mean LST (°F) for the entire collection over Hurley, NM:\", mean_lst_value)\n"
   ]
  },
  {
   "cell_type": "code",
   "execution_count": 19,
   "metadata": {},
   "outputs": [
    {
     "data": {
      "text/html": [
       "\n",
       "            <style>\n",
       "                .geemap-dark {\n",
       "                    --jp-widgets-color: white;\n",
       "                    --jp-widgets-label-color: white;\n",
       "                    --jp-ui-font-color1: white;\n",
       "                    --jp-layout-color2: #454545;\n",
       "                    background-color: #383838;\n",
       "                }\n",
       "\n",
       "                .geemap-dark .jupyter-button {\n",
       "                    --jp-layout-color3: #383838;\n",
       "                }\n",
       "\n",
       "                .geemap-colab {\n",
       "                    background-color: var(--colab-primary-surface-color, white);\n",
       "                }\n",
       "\n",
       "                .geemap-colab .jupyter-button {\n",
       "                    --jp-layout-color3: var(--colab-primary-surface-color, white);\n",
       "                }\n",
       "            </style>\n",
       "            "
      ],
      "text/plain": [
       "<IPython.core.display.HTML object>"
      ]
     },
     "metadata": {},
     "output_type": "display_data"
    },
    {
     "name": "stdout",
     "output_type": "stream",
     "text": [
      "Exporting mean LST image to Google Drive...\n"
     ]
    }
   ],
   "source": [
    "# Set up export parameters\n",
    "export_task = ee.batch.Export.image.toDrive(\n",
    "    image=collection_mean.select('LST_F'),  # Select the LST band\n",
    "    description='Hurley_LST_Mean',\n",
    "    folder='lst',  # Optional: specify a folder in Google Drive\n",
    "    fileNamePrefix='Hurley_LST_Mean_Image',\n",
    "    region=ee_santa_clara,\n",
    "    scale=30,\n",
    "    crs='EPSG:4326',  # 'EPSG:32612',  # Use UTM Zone 12N to match the Hurley vectors\n",
    "    maxPixels=1e13\n",
    ")\n",
    "\n",
    "# Start the export task\n",
    "export_task.start()\n",
    "print(\"Exporting mean LST image to Google Drive...\")"
   ]
  },
  {
   "cell_type": "code",
   "execution_count": 20,
   "metadata": {},
   "outputs": [
    {
     "data": {
      "text/html": [
       "\n",
       "            <style>\n",
       "                .geemap-dark {\n",
       "                    --jp-widgets-color: white;\n",
       "                    --jp-widgets-label-color: white;\n",
       "                    --jp-ui-font-color1: white;\n",
       "                    --jp-layout-color2: #454545;\n",
       "                    background-color: #383838;\n",
       "                }\n",
       "\n",
       "                .geemap-dark .jupyter-button {\n",
       "                    --jp-layout-color3: #383838;\n",
       "                }\n",
       "\n",
       "                .geemap-colab {\n",
       "                    background-color: var(--colab-primary-surface-color, white);\n",
       "                }\n",
       "\n",
       "                .geemap-colab .jupyter-button {\n",
       "                    --jp-layout-color3: var(--colab-primary-surface-color, white);\n",
       "                }\n",
       "            </style>\n",
       "            "
      ],
      "text/plain": [
       "<IPython.core.display.HTML object>"
      ]
     },
     "metadata": {},
     "output_type": "display_data"
    },
    {
     "data": {
      "application/vnd.jupyter.widget-view+json": {
       "model_id": "d208cdc195224f75b237e5bca456ae7e",
       "version_major": 2,
       "version_minor": 0
      },
      "text/plain": [
       "Map(center=[32.775045669116146, -108.15246441481047], controls=(WidgetControl(options=['position', 'transparen…"
      ]
     },
     "execution_count": 20,
     "metadata": {},
     "output_type": "execute_result"
    }
   ],
   "source": [
    "Map = geemap.Map()\n",
    "Map.center_object(ee_santa_clara, 12)\n",
    "Map.addLayer(collection_mean, {}, 'collection_mean')\n",
    "Map\n"
   ]
  },
  {
   "cell_type": "code",
   "execution_count": 23,
   "metadata": {},
   "outputs": [
    {
     "data": {
      "text/html": [
       "\n",
       "            <style>\n",
       "                .geemap-dark {\n",
       "                    --jp-widgets-color: white;\n",
       "                    --jp-widgets-label-color: white;\n",
       "                    --jp-ui-font-color1: white;\n",
       "                    --jp-layout-color2: #454545;\n",
       "                    background-color: #383838;\n",
       "                }\n",
       "\n",
       "                .geemap-dark .jupyter-button {\n",
       "                    --jp-layout-color3: #383838;\n",
       "                }\n",
       "\n",
       "                .geemap-colab {\n",
       "                    background-color: var(--colab-primary-surface-color, white);\n",
       "                }\n",
       "\n",
       "                .geemap-colab .jupyter-button {\n",
       "                    --jp-layout-color3: var(--colab-primary-surface-color, white);\n",
       "                }\n",
       "            </style>\n",
       "            "
      ],
      "text/plain": [
       "<IPython.core.display.HTML object>"
      ]
     },
     "metadata": {},
     "output_type": "display_data"
    }
   ],
   "source": [
    "# Function to calculate per-image statistics for LST\n",
    "def calculate_stats_per_image(image):\n",
    "    stats = image.select('LST_F').reduceRegion(\n",
    "        reducer=ee.Reducer.mean()\n",
    "            .combine(ee.Reducer.min(), sharedInputs=True)\n",
    "            .combine(ee.Reducer.max(), sharedInputs=True)\n",
    "            .combine(ee.Reducer.stdDev(), sharedInputs=True),\n",
    "        geometry=ee_santa_clara,\n",
    "        scale=30,\n",
    "        maxPixels=1e8,\n",
    "        bestEffort=True\n",
    "    )\n",
    "    return image.set(stats)"
   ]
  },
  {
   "cell_type": "code",
   "execution_count": 24,
   "metadata": {},
   "outputs": [
    {
     "data": {
      "text/html": [
       "\n",
       "            <style>\n",
       "                .geemap-dark {\n",
       "                    --jp-widgets-color: white;\n",
       "                    --jp-widgets-label-color: white;\n",
       "                    --jp-ui-font-color1: white;\n",
       "                    --jp-layout-color2: #454545;\n",
       "                    background-color: #383838;\n",
       "                }\n",
       "\n",
       "                .geemap-dark .jupyter-button {\n",
       "                    --jp-layout-color3: #383838;\n",
       "                }\n",
       "\n",
       "                .geemap-colab {\n",
       "                    background-color: var(--colab-primary-surface-color, white);\n",
       "                }\n",
       "\n",
       "                .geemap-colab .jupyter-button {\n",
       "                    --jp-layout-color3: var(--colab-primary-surface-color, white);\n",
       "                }\n",
       "            </style>\n",
       "            "
      ],
      "text/plain": [
       "<IPython.core.display.HTML object>"
      ]
     },
     "metadata": {},
     "output_type": "display_data"
    }
   ],
   "source": [
    "# Apply the function to each image in the collection to get per-image statistics\n",
    "stats_per_image = processed_collection.map(calculate_stats_per_image)"
   ]
  },
  {
   "cell_type": "code",
   "execution_count": 25,
   "metadata": {},
   "outputs": [
    {
     "data": {
      "text/html": [
       "\n",
       "            <style>\n",
       "                .geemap-dark {\n",
       "                    --jp-widgets-color: white;\n",
       "                    --jp-widgets-label-color: white;\n",
       "                    --jp-ui-font-color1: white;\n",
       "                    --jp-layout-color2: #454545;\n",
       "                    background-color: #383838;\n",
       "                }\n",
       "\n",
       "                .geemap-dark .jupyter-button {\n",
       "                    --jp-layout-color3: #383838;\n",
       "                }\n",
       "\n",
       "                .geemap-colab {\n",
       "                    background-color: var(--colab-primary-surface-color, white);\n",
       "                }\n",
       "\n",
       "                .geemap-colab .jupyter-button {\n",
       "                    --jp-layout-color3: var(--colab-primary-surface-color, white);\n",
       "                }\n",
       "            </style>\n",
       "            "
      ],
      "text/plain": [
       "<IPython.core.display.HTML object>"
      ]
     },
     "metadata": {},
     "output_type": "display_data"
    },
    {
     "data": {
      "text/plain": [
       "<ee.imagecollection.ImageCollection at 0x1ff7e03e330>"
      ]
     },
     "execution_count": 25,
     "metadata": {},
     "output_type": "execute_result"
    }
   ],
   "source": [
    "stats_per_image"
   ]
  },
  {
   "cell_type": "code",
   "execution_count": 26,
   "metadata": {},
   "outputs": [
    {
     "data": {
      "text/html": [
       "\n",
       "            <style>\n",
       "                .geemap-dark {\n",
       "                    --jp-widgets-color: white;\n",
       "                    --jp-widgets-label-color: white;\n",
       "                    --jp-ui-font-color1: white;\n",
       "                    --jp-layout-color2: #454545;\n",
       "                    background-color: #383838;\n",
       "                }\n",
       "\n",
       "                .geemap-dark .jupyter-button {\n",
       "                    --jp-layout-color3: #383838;\n",
       "                }\n",
       "\n",
       "                .geemap-colab {\n",
       "                    background-color: var(--colab-primary-surface-color, white);\n",
       "                }\n",
       "\n",
       "                .geemap-colab .jupyter-button {\n",
       "                    --jp-layout-color3: var(--colab-primary-surface-color, white);\n",
       "                }\n",
       "            </style>\n",
       "            "
      ],
      "text/plain": [
       "<IPython.core.display.HTML object>"
      ]
     },
     "metadata": {},
     "output_type": "display_data"
    }
   ],
   "source": [
    "# Extract individual statistics\n",
    "dates = stats_per_image.aggregate_array('system:time_start').getInfo()\n",
    "means = stats_per_image.aggregate_array('LST_F_mean').getInfo()\n",
    "mins = stats_per_image.aggregate_array('LST_F_min').getInfo()\n",
    "maxs = stats_per_image.aggregate_array('LST_F_max').getInfo()\n",
    "std_devs = stats_per_image.aggregate_array('LST_F_stdDev').getInfo()\n"
   ]
  },
  {
   "cell_type": "code",
   "execution_count": 27,
   "metadata": {},
   "outputs": [
    {
     "data": {
      "text/html": [
       "\n",
       "            <style>\n",
       "                .geemap-dark {\n",
       "                    --jp-widgets-color: white;\n",
       "                    --jp-widgets-label-color: white;\n",
       "                    --jp-ui-font-color1: white;\n",
       "                    --jp-layout-color2: #454545;\n",
       "                    background-color: #383838;\n",
       "                }\n",
       "\n",
       "                .geemap-dark .jupyter-button {\n",
       "                    --jp-layout-color3: #383838;\n",
       "                }\n",
       "\n",
       "                .geemap-colab {\n",
       "                    background-color: var(--colab-primary-surface-color, white);\n",
       "                }\n",
       "\n",
       "                .geemap-colab .jupyter-button {\n",
       "                    --jp-layout-color3: var(--colab-primary-surface-color, white);\n",
       "                }\n",
       "            </style>\n",
       "            "
      ],
      "text/plain": [
       "<IPython.core.display.HTML object>"
      ]
     },
     "metadata": {},
     "output_type": "display_data"
    },
    {
     "name": "stdout",
     "output_type": "stream",
     "text": [
      "Per-image LST statistics:\n",
      "Date: 2019-05-29, Mean LST: 110.93076781122572, Min LST: 100.55537474000003, Max LST: 126.84473376800001, StdDev LST: 4.032622865020221\n",
      "Date: 2019-06-30, Mean LST: 118.61436754504007, Min LST: 110.07934566800004, Max LST: 129.62563484000003, StdDev LST: 3.29092759878444\n",
      "Date: 2019-08-01, Mean LST: 111.93300976482459, Min LST: 103.10863568000003, Max LST: 119.15418876800007, StdDev LST: 3.070540799444852\n",
      "Date: 2019-09-02, Mean LST: 117.31671645108644, Min LST: 107.74757242400001, Max LST: 129.60102509600006, StdDev LST: 3.5685096476914686\n",
      "Date: 2019-09-18, Mean LST: 53.648046481521455, Min LST: 34.619718128000045, Max LST: 103.56391594399997, StdDev LST: 14.332257656658705\n",
      "Date: 2020-05-15, Mean LST: 112.47757665631468, Min LST: 102.24729464000002, Max LST: 121.75666919600005, StdDev LST: 3.2418929397763168\n",
      "Date: 2020-05-31, Mean LST: 117.16838000220673, Min LST: 107.68604806400005, Max LST: 125.31892964000008, StdDev LST: 2.9728206724760784\n",
      "Date: 2020-06-16, Mean LST: 115.76703539188247, Min LST: 106.46786573600004, Max LST: 126.78320940800005, StdDev LST: 3.1043544556961424\n",
      "Date: 2020-08-03, Mean LST: 117.62177932712356, Min LST: 107.48301767600002, Max LST: 136.657869188, StdDev LST: 4.532391046426263\n",
      "Date: 2020-08-19, Mean LST: 119.74594436722086, Min LST: 110.3254431080001, Max LST: 133.557041444, StdDev LST: 3.867557857955368\n",
      "Date: 2020-09-04, Mean LST: 118.367704320157, Min LST: 109.67943732800002, Max LST: 131.19450602000012, StdDev LST: 3.140022673541791\n",
      "Date: 2020-09-20, Mean LST: 106.24290923871482, Min LST: 96.82699852400003, Max LST: 118.77273773599998, StdDev LST: 3.483163704946519\n",
      "Date: 2021-05-02, Mean LST: 105.9814011318279, Min LST: 97.92828456799997, Max LST: 115.81956845600006, StdDev LST: 2.4828533068409486\n",
      "Date: 2021-06-03, Mean LST: 122.6891252021649, Min LST: 111.71589364400002, Max LST: 137.660716256, StdDev LST: 3.7170716648633095\n",
      "Date: 2021-06-19, Mean LST: 136.99562528060127, Min LST: 126.50634978800007, Max LST: 148.88891195600013, StdDev LST: 3.4531382117016363\n",
      "Date: 2021-07-21, Mean LST: 125.85329687408208, Min LST: 115.49348934799998, Max LST: 134.95364441600003, StdDev LST: 3.4451578087434793\n",
      "Date: 2021-08-06, Mean LST: 123.36557483036492, Min LST: 113.38320380000003, Max LST: 136.73785085600002, StdDev LST: 3.8547447698184643\n",
      "Date: 2021-08-22, Mean LST: 105.37716804642338, Min LST: 98.62966227200006, Max LST: 113.6046914960001, StdDev LST: 3.8437910264766133\n",
      "Date: 2021-09-07, Mean LST: 107.24138559515492, Min LST: 99.17107664000007, Max LST: 113.38320380000003, StdDev LST: 3.1288042975167083\n",
      "Date: 2022-05-05, Mean LST: 113.81877211712991, Min LST: 104.60983006400009, Max LST: 128.88119008400002, StdDev LST: 3.6754846585344847\n",
      "Date: 2022-05-21, Mean LST: 116.7276857922997, Min LST: 106.78779240800006, Max LST: 130.905341528, StdDev LST: 3.4191409444262284\n",
      "Date: 2022-06-06, Mean LST: 125.8268335388247, Min LST: 117.02544591199997, Max LST: 136.73169842, StdDev LST: 3.021133776301866\n",
      "Date: 2022-07-08, Mean LST: 118.89318414119164, Min LST: 108.62121833600001, Max LST: 126.02645978000002, StdDev LST: 2.6410486954375934\n",
      "Date: 2022-09-10, Mean LST: 104.44145037443697, Min LST: 96.07640133200006, Max LST: 109.89477258800005, StdDev LST: 2.589677935359721\n",
      "Date: 2023-05-08, Mean LST: 112.37509779574829, Min LST: 102.77640413600002, Max LST: 122.34115061599996, StdDev LST: 3.1108193391257255\n",
      "Date: 2023-05-24, Mean LST: 111.25476305383212, Min LST: 102.06887399600008, Max LST: 117.54840297200002, StdDev LST: 2.6976161530920506\n",
      "Date: 2023-06-25, Mean LST: 126.56443775952854, Min LST: 117.62838464000002, Max LST: 134.60295556400007, StdDev LST: 2.764334869118341\n",
      "Date: 2023-07-27, Mean LST: 134.6008591645107, Min LST: 123.21479652799997, Max LST: 146.28643152800004, StdDev LST: 3.5299029429219657\n",
      "Date: 2023-09-29, Mean LST: 102.37186578970986, Min LST: 95.15353593199998, Max LST: 107.74141998799996, StdDev LST: 2.1772810006418073\n",
      "Date: 2024-05-10, Mean LST: 107.55405942935236, Min LST: 98.80808291600002, Max LST: 114.72443484799997, StdDev LST: 2.6401375332593218\n",
      "Date: 2024-05-26, Mean LST: 115.59606890925045, Min LST: 104.72672634799997, Max LST: 125.24510040800003, StdDev LST: 3.517485929013901\n",
      "Date: 2024-06-11, Mean LST: 127.41092608274192, Min LST: 116.05951346000006, Max LST: 140.1586052720001, StdDev LST: 3.6214213166489952\n",
      "Date: 2024-07-13, Mean LST: 112.39694563501288, Min LST: 103.41625748000006, Max LST: 122.2796262560001, StdDev LST: 2.8807597426260583\n",
      "Date: 2024-08-14, Mean LST: 105.10473369358843, Min LST: 42.494836207999995, Max LST: 117.83141502800007, StdDev LST: 16.11885394935301\n",
      "Date: 2024-08-30, Mean LST: 104.34230825978204, Min LST: 89.06877672799996, Max LST: 110.65152221599998, StdDev LST: 3.059397323483855\n"
     ]
    }
   ],
   "source": [
    "# Print per-image statistics\n",
    "print(\"Per-image LST statistics:\")\n",
    "for date, mean, min_, max_, std_dev in zip(dates, means, mins, maxs, std_devs):\n",
    "    formatted_date = ee.Date(date).format(\"YYYY-MM-dd\").getInfo()\n",
    "    print(f\"Date: {formatted_date}, Mean LST: {mean}, Min LST: {min_}, Max LST: {max_}, StdDev LST: {std_dev}\")"
   ]
  },
  {
   "cell_type": "code",
   "execution_count": 30,
   "metadata": {},
   "outputs": [
    {
     "data": {
      "text/html": [
       "\n",
       "            <style>\n",
       "                .geemap-dark {\n",
       "                    --jp-widgets-color: white;\n",
       "                    --jp-widgets-label-color: white;\n",
       "                    --jp-ui-font-color1: white;\n",
       "                    --jp-layout-color2: #454545;\n",
       "                    background-color: #383838;\n",
       "                }\n",
       "\n",
       "                .geemap-dark .jupyter-button {\n",
       "                    --jp-layout-color3: #383838;\n",
       "                }\n",
       "\n",
       "                .geemap-colab {\n",
       "                    background-color: var(--colab-primary-surface-color, white);\n",
       "                }\n",
       "\n",
       "                .geemap-colab .jupyter-button {\n",
       "                    --jp-layout-color3: var(--colab-primary-surface-color, white);\n",
       "                }\n",
       "            </style>\n",
       "            "
      ],
      "text/plain": [
       "<IPython.core.display.HTML object>"
      ]
     },
     "metadata": {},
     "output_type": "display_data"
    },
    {
     "name": "stdout",
     "output_type": "stream",
     "text": [
      "\n",
      "Overall Collection Statistics:\n",
      "Min LST: {'LST_F_min': 52.80355900427356}\n",
      "Max LST: {'LST_F_max': 136.98267087577327}\n",
      "StdDev LST: {'LST_F_stdDev': 13.78945279132008}\n"
     ]
    }
   ],
   "source": [
    "# Calculate overall statistics for the entire collection (min, max, stdDev)\n",
    "collection_min = processed_collection.select('LST_F').reduce(ee.Reducer.min()).reduceRegion(\n",
    "    reducer=ee.Reducer.mean(),\n",
    "    geometry=ee_santa_clara,\n",
    "    scale=30,\n",
    "    maxPixels=1e8,\n",
    "    bestEffort=True\n",
    ").getInfo()\n",
    "\n",
    "collection_max = processed_collection.select('LST_F').reduce(ee.Reducer.max()).reduceRegion(\n",
    "    reducer=ee.Reducer.mean(),\n",
    "    geometry=ee_santa_clara,\n",
    "    scale=30,\n",
    "    maxPixels=1e8,\n",
    "    bestEffort=True\n",
    ").getInfo()\n",
    "\n",
    "collection_stddev = processed_collection.select('LST_F').reduce(ee.Reducer.stdDev()).reduceRegion(\n",
    "    reducer=ee.Reducer.mean(),\n",
    "    geometry=ee_santa_clara,\n",
    "    scale=30,\n",
    "    maxPixels=1e8,\n",
    "    bestEffort=True\n",
    ").getInfo()\n",
    "\n",
    "# Print overall statistics\n",
    "print(\"\\nOverall Collection Statistics:\")\n",
    "print(f\"Min LST: {collection_min}\")\n",
    "print(f\"Max LST: {collection_max}\")\n",
    "print(f\"StdDev LST: {collection_stddev}\")"
   ]
  },
  {
   "cell_type": "code",
   "execution_count": null,
   "metadata": {},
   "outputs": [],
   "source": []
  },
  {
   "cell_type": "markdown",
   "metadata": {},
   "source": [
    "Per-Image Standard Deviation: For each image, the standard deviation shows the variability of LST across the Hurley area at a specific time. A low standard deviation means the temperatures are relatively uniform across the region, while a high standard deviation suggests there are large differences in temperature within that image, perhaps due to mixed land covers or varying microclimates.\n",
    "\n",
    "Overall Collection Standard Deviation: When calculated across the entire collection, the standard deviation reflects how much the mean LST changes over time. A low value indicates that the temperatures are fairly stable across the whole period, while a high standard deviation suggests significant temperature changes over time, such as seasonal variations or extreme weather events."
   ]
  },
  {
   "cell_type": "code",
   "execution_count": 32,
   "metadata": {},
   "outputs": [
    {
     "data": {
      "text/html": [
       "\n",
       "            <style>\n",
       "                .geemap-dark {\n",
       "                    --jp-widgets-color: white;\n",
       "                    --jp-widgets-label-color: white;\n",
       "                    --jp-ui-font-color1: white;\n",
       "                    --jp-layout-color2: #454545;\n",
       "                    background-color: #383838;\n",
       "                }\n",
       "\n",
       "                .geemap-dark .jupyter-button {\n",
       "                    --jp-layout-color3: #383838;\n",
       "                }\n",
       "\n",
       "                .geemap-colab {\n",
       "                    background-color: var(--colab-primary-surface-color, white);\n",
       "                }\n",
       "\n",
       "                .geemap-colab .jupyter-button {\n",
       "                    --jp-layout-color3: var(--colab-primary-surface-color, white);\n",
       "                }\n",
       "            </style>\n",
       "            "
      ],
      "text/plain": [
       "<IPython.core.display.HTML object>"
      ]
     },
     "metadata": {},
     "output_type": "display_data"
    },
    {
     "ename": "ValueError",
     "evalue": "All arrays must be of the same length",
     "output_type": "error",
     "traceback": [
      "\u001b[1;31m---------------------------------------------------------------------------\u001b[0m",
      "\u001b[1;31mValueError\u001b[0m                                Traceback (most recent call last)",
      "Cell \u001b[1;32mIn[32], line 9\u001b[0m\n\u001b[0;32m      1\u001b[0m \u001b[38;5;66;03m# Create the DataFrame\u001b[39;00m\n\u001b[0;32m      2\u001b[0m data \u001b[38;5;241m=\u001b[39m {\n\u001b[0;32m      3\u001b[0m     \u001b[38;5;124m'\u001b[39m\u001b[38;5;124mDate\u001b[39m\u001b[38;5;124m'\u001b[39m: [ee\u001b[38;5;241m.\u001b[39mDate(date)\u001b[38;5;241m.\u001b[39mformat(\u001b[38;5;124m\"\u001b[39m\u001b[38;5;124mYYYY-MM-dd\u001b[39m\u001b[38;5;124m\"\u001b[39m)\u001b[38;5;241m.\u001b[39mgetInfo() \u001b[38;5;28;01mfor\u001b[39;00m date \u001b[38;5;129;01min\u001b[39;00m dates],\n\u001b[0;32m      4\u001b[0m     \u001b[38;5;124m'\u001b[39m\u001b[38;5;124mMean_LST\u001b[39m\u001b[38;5;124m'\u001b[39m: means,\n\u001b[1;32m   (...)\u001b[0m\n\u001b[0;32m      7\u001b[0m     \u001b[38;5;124m'\u001b[39m\u001b[38;5;124mStdDev_LST\u001b[39m\u001b[38;5;124m'\u001b[39m: std_devs\n\u001b[0;32m      8\u001b[0m }\n\u001b[1;32m----> 9\u001b[0m df \u001b[38;5;241m=\u001b[39m pd\u001b[38;5;241m.\u001b[39mDataFrame(data)\n\u001b[0;32m     10\u001b[0m df[\u001b[38;5;124m'\u001b[39m\u001b[38;5;124mDate\u001b[39m\u001b[38;5;124m'\u001b[39m] \u001b[38;5;241m=\u001b[39m pd\u001b[38;5;241m.\u001b[39mto_datetime(df[\u001b[38;5;124m'\u001b[39m\u001b[38;5;124mDate\u001b[39m\u001b[38;5;124m'\u001b[39m])\n\u001b[0;32m     12\u001b[0m \u001b[38;5;66;03m# Overall collection statistics\u001b[39;00m\n",
      "File \u001b[1;32mc:\\Users\\bsf31\\miniconda3\\envs\\dev_env\\Lib\\site-packages\\pandas\\core\\frame.py:778\u001b[0m, in \u001b[0;36mDataFrame.__init__\u001b[1;34m(self, data, index, columns, dtype, copy)\u001b[0m\n\u001b[0;32m    772\u001b[0m     mgr \u001b[38;5;241m=\u001b[39m \u001b[38;5;28mself\u001b[39m\u001b[38;5;241m.\u001b[39m_init_mgr(\n\u001b[0;32m    773\u001b[0m         data, axes\u001b[38;5;241m=\u001b[39m{\u001b[38;5;124m\"\u001b[39m\u001b[38;5;124mindex\u001b[39m\u001b[38;5;124m\"\u001b[39m: index, \u001b[38;5;124m\"\u001b[39m\u001b[38;5;124mcolumns\u001b[39m\u001b[38;5;124m\"\u001b[39m: columns}, dtype\u001b[38;5;241m=\u001b[39mdtype, copy\u001b[38;5;241m=\u001b[39mcopy\n\u001b[0;32m    774\u001b[0m     )\n\u001b[0;32m    776\u001b[0m \u001b[38;5;28;01melif\u001b[39;00m \u001b[38;5;28misinstance\u001b[39m(data, \u001b[38;5;28mdict\u001b[39m):\n\u001b[0;32m    777\u001b[0m     \u001b[38;5;66;03m# GH#38939 de facto copy defaults to False only in non-dict cases\u001b[39;00m\n\u001b[1;32m--> 778\u001b[0m     mgr \u001b[38;5;241m=\u001b[39m dict_to_mgr(data, index, columns, dtype\u001b[38;5;241m=\u001b[39mdtype, copy\u001b[38;5;241m=\u001b[39mcopy, typ\u001b[38;5;241m=\u001b[39mmanager)\n\u001b[0;32m    779\u001b[0m \u001b[38;5;28;01melif\u001b[39;00m \u001b[38;5;28misinstance\u001b[39m(data, ma\u001b[38;5;241m.\u001b[39mMaskedArray):\n\u001b[0;32m    780\u001b[0m     \u001b[38;5;28;01mfrom\u001b[39;00m \u001b[38;5;21;01mnumpy\u001b[39;00m\u001b[38;5;21;01m.\u001b[39;00m\u001b[38;5;21;01mma\u001b[39;00m \u001b[38;5;28;01mimport\u001b[39;00m mrecords\n",
      "File \u001b[1;32mc:\\Users\\bsf31\\miniconda3\\envs\\dev_env\\Lib\\site-packages\\pandas\\core\\internals\\construction.py:503\u001b[0m, in \u001b[0;36mdict_to_mgr\u001b[1;34m(data, index, columns, dtype, typ, copy)\u001b[0m\n\u001b[0;32m    499\u001b[0m     \u001b[38;5;28;01melse\u001b[39;00m:\n\u001b[0;32m    500\u001b[0m         \u001b[38;5;66;03m# dtype check to exclude e.g. range objects, scalars\u001b[39;00m\n\u001b[0;32m    501\u001b[0m         arrays \u001b[38;5;241m=\u001b[39m [x\u001b[38;5;241m.\u001b[39mcopy() \u001b[38;5;28;01mif\u001b[39;00m \u001b[38;5;28mhasattr\u001b[39m(x, \u001b[38;5;124m\"\u001b[39m\u001b[38;5;124mdtype\u001b[39m\u001b[38;5;124m\"\u001b[39m) \u001b[38;5;28;01melse\u001b[39;00m x \u001b[38;5;28;01mfor\u001b[39;00m x \u001b[38;5;129;01min\u001b[39;00m arrays]\n\u001b[1;32m--> 503\u001b[0m \u001b[38;5;28;01mreturn\u001b[39;00m arrays_to_mgr(arrays, columns, index, dtype\u001b[38;5;241m=\u001b[39mdtype, typ\u001b[38;5;241m=\u001b[39mtyp, consolidate\u001b[38;5;241m=\u001b[39mcopy)\n",
      "File \u001b[1;32mc:\\Users\\bsf31\\miniconda3\\envs\\dev_env\\Lib\\site-packages\\pandas\\core\\internals\\construction.py:114\u001b[0m, in \u001b[0;36marrays_to_mgr\u001b[1;34m(arrays, columns, index, dtype, verify_integrity, typ, consolidate)\u001b[0m\n\u001b[0;32m    111\u001b[0m \u001b[38;5;28;01mif\u001b[39;00m verify_integrity:\n\u001b[0;32m    112\u001b[0m     \u001b[38;5;66;03m# figure out the index, if necessary\u001b[39;00m\n\u001b[0;32m    113\u001b[0m     \u001b[38;5;28;01mif\u001b[39;00m index \u001b[38;5;129;01mis\u001b[39;00m \u001b[38;5;28;01mNone\u001b[39;00m:\n\u001b[1;32m--> 114\u001b[0m         index \u001b[38;5;241m=\u001b[39m _extract_index(arrays)\n\u001b[0;32m    115\u001b[0m     \u001b[38;5;28;01melse\u001b[39;00m:\n\u001b[0;32m    116\u001b[0m         index \u001b[38;5;241m=\u001b[39m ensure_index(index)\n",
      "File \u001b[1;32mc:\\Users\\bsf31\\miniconda3\\envs\\dev_env\\Lib\\site-packages\\pandas\\core\\internals\\construction.py:677\u001b[0m, in \u001b[0;36m_extract_index\u001b[1;34m(data)\u001b[0m\n\u001b[0;32m    675\u001b[0m lengths \u001b[38;5;241m=\u001b[39m \u001b[38;5;28mlist\u001b[39m(\u001b[38;5;28mset\u001b[39m(raw_lengths))\n\u001b[0;32m    676\u001b[0m \u001b[38;5;28;01mif\u001b[39;00m \u001b[38;5;28mlen\u001b[39m(lengths) \u001b[38;5;241m>\u001b[39m \u001b[38;5;241m1\u001b[39m:\n\u001b[1;32m--> 677\u001b[0m     \u001b[38;5;28;01mraise\u001b[39;00m \u001b[38;5;167;01mValueError\u001b[39;00m(\u001b[38;5;124m\"\u001b[39m\u001b[38;5;124mAll arrays must be of the same length\u001b[39m\u001b[38;5;124m\"\u001b[39m)\n\u001b[0;32m    679\u001b[0m \u001b[38;5;28;01mif\u001b[39;00m have_dicts:\n\u001b[0;32m    680\u001b[0m     \u001b[38;5;28;01mraise\u001b[39;00m \u001b[38;5;167;01mValueError\u001b[39;00m(\n\u001b[0;32m    681\u001b[0m         \u001b[38;5;124m\"\u001b[39m\u001b[38;5;124mMixing dicts with non-Series may lead to ambiguous ordering.\u001b[39m\u001b[38;5;124m\"\u001b[39m\n\u001b[0;32m    682\u001b[0m     )\n",
      "\u001b[1;31mValueError\u001b[0m: All arrays must be of the same length"
     ]
    }
   ],
   "source": [
    "# Create the DataFrame\n",
    "data = {\n",
    "    'Date': [ee.Date(date).format(\"YYYY-MM-dd\").getInfo() for date in dates],\n",
    "    'Mean_LST': means,\n",
    "    'Min_LST': mins,\n",
    "    'Max_LST': maxs,\n",
    "    'StdDev_LST': std_devs\n",
    "}\n",
    "df = pd.DataFrame(data)\n",
    "df['Date'] = pd.to_datetime(df['Date'])\n",
    "\n",
    "# Overall collection statistics\n",
    "overall_min = 52.80\n",
    "overall_max =  136.98  \n",
    "overall_std_dev = 13.79\n",
    "overall_mean =  113.89\n",
    "\n",
    "# Set up the scatter plot\n",
    "plt.figure(figsize=(14, 8))\n",
    "sns.scatterplot(x='Date', y='Mean_LST', data=df, color='blue', label='Mean LST')\n",
    "\n",
    "# Add error bars for standard deviation\n",
    "plt.errorbar(df['Date'], df['Mean_LST'], yerr=df['StdDev_LST'], fmt='o', ecolor='gray', alpha=0.5, capsize=3)\n",
    "\n",
    "# Add shaded area for Min-Max range\n",
    "plt.fill_between(df['Date'], df['Min_LST'], df['Max_LST'], color='blue', alpha=0.2, label='Min-Max Range')\n",
    "\n",
    "# Add overall statistics as horizontal lines\n",
    "plt.axhline(overall_min, color='green', linestyle='--', label=f'average of the Min LST: {overall_min:.2f} °F')\n",
    "plt.axhline(overall_max, color='red', linestyle='--', label=f'average of the Max LST: {overall_max:.2f} °F')\n",
    "plt.axhline(overall_mean, color='orange', linestyle='--', label=f'average of the Mean LST: {overall_mean:.2f} °F')\n",
    "plt.axhline(overall_mean + overall_std_dev, color='purple', linestyle='--', alpha=0.5, label=f'average of the Mean ± Std Dev({overall_std_dev})')\n",
    "plt.axhline(overall_mean - overall_std_dev, color='purple', linestyle='--', alpha=0.5)\n",
    "\n",
    "# Customize the plot\n",
    "plt.xlabel('Date')\n",
    "plt.ylabel('LST (°F)')\n",
    "plt.title('Land Surface Temperature (LST) in Hurley, NM Over Time')\n",
    "plt.legend()\n",
    "plt.grid(True)\n",
    "plt.xticks(rotation=45)\n",
    "plt.tight_layout()\n",
    "\n",
    "# Show the plot\n",
    "plt.show()"
   ]
  },
  {
   "cell_type": "code",
   "execution_count": 28,
   "metadata": {},
   "outputs": [
    {
     "data": {
      "text/html": [
       "\n",
       "            <style>\n",
       "                .geemap-dark {\n",
       "                    --jp-widgets-color: white;\n",
       "                    --jp-widgets-label-color: white;\n",
       "                    --jp-ui-font-color1: white;\n",
       "                    --jp-layout-color2: #454545;\n",
       "                    background-color: #383838;\n",
       "                }\n",
       "\n",
       "                .geemap-dark .jupyter-button {\n",
       "                    --jp-layout-color3: #383838;\n",
       "                }\n",
       "\n",
       "                .geemap-colab {\n",
       "                    background-color: var(--colab-primary-surface-color, white);\n",
       "                }\n",
       "\n",
       "                .geemap-colab .jupyter-button {\n",
       "                    --jp-layout-color3: var(--colab-primary-surface-color, white);\n",
       "                }\n",
       "            </style>\n",
       "            "
      ],
      "text/plain": [
       "<IPython.core.display.HTML object>"
      ]
     },
     "metadata": {},
     "output_type": "display_data"
    },
    {
     "data": {
      "text/plain": [
       "\" # Compute the long-term baseline (mean of all images in the collection)\\nbaseline = processed_collection.mean()\\n\\n# Function to calculate the anomaly for each image\\ndef calculate_anomaly(image):\\n    anomaly = image.select('LST_F').subtract(baseline.select('LST_F'))  # Subtract baseline pixel by pixel\\n    return image.addBands(anomaly.rename('LST_Anomaly'))  # Add anomaly as a new band\\n\\n# Map the anomaly calculation across the processed collection\\nanomaly_collection = processed_collection.map(calculate_anomaly)\\n\\n# Visualization parameters for anomalies\\nanomaly_vis_params = {\\n    'min': -20,  # Adjust based on expected range of anomalies\\n    'max': 20,\\n    'palette': ['blue', 'white', 'red'],  # Blue for cooler, red for warmer\\n}\\n\\n# Add the mean anomaly layer to the map\\nMap = geemap.Map()\\nMap.center_object(ee_hurley, 12)\\n\\n# Visualize mean anomaly across the collection\\nmean_anomaly = anomaly_collection.select('LST_Anomaly').mean()\\nMap.addLayer(mean_anomaly, anomaly_vis_params, 'Mean Temperature Anomaly')\\nMap.addLayer(ee_hurley, {}, 'Hurley Boundary')\\nMap\\n \""
      ]
     },
     "execution_count": 28,
     "metadata": {},
     "output_type": "execute_result"
    }
   ],
   "source": [
    "\"\"\" # Compute the long-term baseline (mean of all images in the collection)\n",
    "baseline = processed_collection.mean()\n",
    "\n",
    "# Function to calculate the anomaly for each image\n",
    "def calculate_anomaly(image):\n",
    "    anomaly = image.select('LST_F').subtract(baseline.select('LST_F'))  # Subtract baseline pixel by pixel\n",
    "    return image.addBands(anomaly.rename('LST_Anomaly'))  # Add anomaly as a new band\n",
    "\n",
    "# Map the anomaly calculation across the processed collection\n",
    "anomaly_collection = processed_collection.map(calculate_anomaly)\n",
    "\n",
    "# Visualization parameters for anomalies\n",
    "anomaly_vis_params = {\n",
    "    'min': -20,  # Adjust based on expected range of anomalies\n",
    "    'max': 20,\n",
    "    'palette': ['blue', 'white', 'red'],  # Blue for cooler, red for warmer\n",
    "}\n",
    "\n",
    "# Add the mean anomaly layer to the map\n",
    "Map = geemap.Map()\n",
    "Map.center_object(ee_hurley, 12)\n",
    "\n",
    "# Visualize mean anomaly across the collection\n",
    "mean_anomaly = anomaly_collection.select('LST_Anomaly').mean()\n",
    "Map.addLayer(mean_anomaly, anomaly_vis_params, 'Mean Temperature Anomaly')\n",
    "Map.addLayer(ee_hurley, {}, 'Hurley Boundary')\n",
    "Map\n",
    " \"\"\""
   ]
  },
  {
   "cell_type": "code",
   "execution_count": 29,
   "metadata": {},
   "outputs": [
    {
     "data": {
      "text/html": [
       "\n",
       "            <style>\n",
       "                .geemap-dark {\n",
       "                    --jp-widgets-color: white;\n",
       "                    --jp-widgets-label-color: white;\n",
       "                    --jp-ui-font-color1: white;\n",
       "                    --jp-layout-color2: #454545;\n",
       "                    background-color: #383838;\n",
       "                }\n",
       "\n",
       "                .geemap-dark .jupyter-button {\n",
       "                    --jp-layout-color3: #383838;\n",
       "                }\n",
       "\n",
       "                .geemap-colab {\n",
       "                    background-color: var(--colab-primary-surface-color, white);\n",
       "                }\n",
       "\n",
       "                .geemap-colab .jupyter-button {\n",
       "                    --jp-layout-color3: var(--colab-primary-surface-color, white);\n",
       "                }\n",
       "            </style>\n",
       "            "
      ],
      "text/plain": [
       "<IPython.core.display.HTML object>"
      ]
     },
     "metadata": {},
     "output_type": "display_data"
    },
    {
     "data": {
      "text/plain": [
       "' # Set up export parameters\\nexport_task = ee.batch.Export.image.toDrive(\\n    image=mean_anomaly.select(\\'LST_Anomaly\\'),  # Select the LST band\\n    description=\\'Hurley_LST_Anomaly\\',\\n    folder=\\'lst\\',  # Optional: specify a folder in Google Drive\\n    fileNamePrefix=\\'Hurley_LST_Anomaly\\',\\n    region=ee_hurley,\\n    scale=30,\\n    crs=\\'EPSG:4326\\',  # \\'EPSG:32612\\',  # Use UTM Zone 12N to match the Hurley vectors\\n    maxPixels=1e13\\n)\\n\\n# Start the export task\\nexport_task.start()\\nprint(\"Exporting LST_Anomaly to Google Drive...\") '"
      ]
     },
     "execution_count": 29,
     "metadata": {},
     "output_type": "execute_result"
    }
   ],
   "source": [
    "\"\"\" # Set up export parameters\n",
    "export_task = ee.batch.Export.image.toDrive(\n",
    "    image=mean_anomaly.select('LST_Anomaly'),  # Select the LST band\n",
    "    description='Hurley_LST_Anomaly',\n",
    "    folder='lst',  # Optional: specify a folder in Google Drive\n",
    "    fileNamePrefix='Hurley_LST_Anomaly',\n",
    "    region=ee_hurley,\n",
    "    scale=30,\n",
    "    crs='EPSG:4326',  # 'EPSG:32612',  # Use UTM Zone 12N to match the Hurley vectors\n",
    "    maxPixels=1e13\n",
    ")\n",
    "\n",
    "# Start the export task\n",
    "export_task.start()\n",
    "print(\"Exporting LST_Anomaly to Google Drive...\") \"\"\""
   ]
  },
  {
   "cell_type": "markdown",
   "metadata": {},
   "source": [
    "Hurley Area"
   ]
  },
  {
   "cell_type": "code",
   "execution_count": 1,
   "metadata": {},
   "outputs": [
    {
     "data": {
      "text/plain": [
       "2260070.088965232"
      ]
     },
     "execution_count": 1,
     "metadata": {},
     "output_type": "execute_result"
    }
   ],
   "source": [
    "(1874540.995237139 + 385529.09372809314)"
   ]
  },
  {
   "cell_type": "code",
   "execution_count": 3,
   "metadata": {},
   "outputs": [
    {
     "data": {
      "text/plain": [
       "558.4754818074895"
      ]
     },
     "execution_count": 3,
     "metadata": {},
     "output_type": "execute_result"
    }
   ],
   "source": [
    "2260070.088965232/4046.85642"
   ]
  },
  {
   "cell_type": "code",
   "execution_count": null,
   "metadata": {},
   "outputs": [],
   "source": [
    "558.4754818074895"
   ]
  },
  {
   "cell_type": "markdown",
   "metadata": {},
   "source": [
    "SC AREA"
   ]
  },
  {
   "cell_type": "code",
   "execution_count": 4,
   "metadata": {},
   "outputs": [
    {
     "data": {
      "text/plain": [
       "688.8097571793763"
      ]
     },
     "execution_count": 4,
     "metadata": {},
     "output_type": "execute_result"
    }
   ],
   "source": [
    "2787514.188/4046.85642"
   ]
  },
  {
   "cell_type": "markdown",
   "metadata": {},
   "source": [
    "Lordsburg Area"
   ]
  },
  {
   "cell_type": "code",
   "execution_count": 5,
   "metadata": {},
   "outputs": [
    {
     "data": {
      "text/plain": [
       "1173.0639358853564"
      ]
     },
     "execution_count": 5,
     "metadata": {},
     "output_type": "execute_result"
    }
   ],
   "source": [
    "4747221.320008123/4046.85642"
   ]
  }
 ],
 "metadata": {
  "kernelspec": {
   "display_name": "dev_env",
   "language": "python",
   "name": "python3"
  },
  "language_info": {
   "codemirror_mode": {
    "name": "ipython",
    "version": 3
   },
   "file_extension": ".py",
   "mimetype": "text/x-python",
   "name": "python",
   "nbconvert_exporter": "python",
   "pygments_lexer": "ipython3",
   "version": "3.12.8"
  }
 },
 "nbformat": 4,
 "nbformat_minor": 2
}
