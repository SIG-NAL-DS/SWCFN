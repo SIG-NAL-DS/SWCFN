{
 "cells": [
  {
   "cell_type": "markdown",
   "metadata": {},
   "source": [
    "# Imports"
   ]
  },
  {
   "cell_type": "code",
   "execution_count": 1,
   "metadata": {},
   "outputs": [],
   "source": [
    "import ee\n",
    "import numpy as np\n",
    "import math\n",
    "import geemap\n",
    "import geopandas as gpd\n",
    "import pandas as pd\n",
    "import matplotlib.pyplot as plt\n",
    "import seaborn as sns\n",
    "from scipy import stats"
   ]
  },
  {
   "cell_type": "code",
   "execution_count": 2,
   "metadata": {},
   "outputs": [
    {
     "data": {
      "text/html": [
       "\n",
       "            <style>\n",
       "                .geemap-dark {\n",
       "                    --jp-widgets-color: white;\n",
       "                    --jp-widgets-label-color: white;\n",
       "                    --jp-ui-font-color1: white;\n",
       "                    --jp-layout-color2: #454545;\n",
       "                    background-color: #383838;\n",
       "                }\n",
       "\n",
       "                .geemap-dark .jupyter-button {\n",
       "                    --jp-layout-color3: #383838;\n",
       "                }\n",
       "\n",
       "                .geemap-colab {\n",
       "                    background-color: var(--colab-primary-surface-color, white);\n",
       "                }\n",
       "\n",
       "                .geemap-colab .jupyter-button {\n",
       "                    --jp-layout-color3: var(--colab-primary-surface-color, white);\n",
       "                }\n",
       "            </style>\n",
       "            "
      ],
      "text/plain": [
       "<IPython.core.display.HTML object>"
      ]
     },
     "metadata": {},
     "output_type": "display_data"
    }
   ],
   "source": [
    "#ee.Authenticate()\n"
   ]
  },
  {
   "cell_type": "code",
   "execution_count": 3,
   "metadata": {},
   "outputs": [
    {
     "data": {
      "text/html": [
       "\n",
       "            <style>\n",
       "                .geemap-dark {\n",
       "                    --jp-widgets-color: white;\n",
       "                    --jp-widgets-label-color: white;\n",
       "                    --jp-ui-font-color1: white;\n",
       "                    --jp-layout-color2: #454545;\n",
       "                    background-color: #383838;\n",
       "                }\n",
       "\n",
       "                .geemap-dark .jupyter-button {\n",
       "                    --jp-layout-color3: #383838;\n",
       "                }\n",
       "\n",
       "                .geemap-colab {\n",
       "                    background-color: var(--colab-primary-surface-color, white);\n",
       "                }\n",
       "\n",
       "                .geemap-colab .jupyter-button {\n",
       "                    --jp-layout-color3: var(--colab-primary-surface-color, white);\n",
       "                }\n",
       "            </style>\n",
       "            "
      ],
      "text/plain": [
       "<IPython.core.display.HTML object>"
      ]
     },
     "metadata": {},
     "output_type": "display_data"
    }
   ],
   "source": [
    "\n",
    "# Initialize Google Earth Engine\n",
    "ee.Initialize()"
   ]
  },
  {
   "cell_type": "code",
   "execution_count": 4,
   "metadata": {},
   "outputs": [
    {
     "data": {
      "text/html": [
       "\n",
       "            <style>\n",
       "                .geemap-dark {\n",
       "                    --jp-widgets-color: white;\n",
       "                    --jp-widgets-label-color: white;\n",
       "                    --jp-ui-font-color1: white;\n",
       "                    --jp-layout-color2: #454545;\n",
       "                    background-color: #383838;\n",
       "                }\n",
       "\n",
       "                .geemap-dark .jupyter-button {\n",
       "                    --jp-layout-color3: #383838;\n",
       "                }\n",
       "\n",
       "                .geemap-colab {\n",
       "                    background-color: var(--colab-primary-surface-color, white);\n",
       "                }\n",
       "\n",
       "                .geemap-colab .jupyter-button {\n",
       "                    --jp-layout-color3: var(--colab-primary-surface-color, white);\n",
       "                }\n",
       "            </style>\n",
       "            "
      ],
      "text/plain": [
       "<IPython.core.display.HTML object>"
      ]
     },
     "metadata": {},
     "output_type": "display_data"
    }
   ],
   "source": [
    "# Load study area and community boundaries\n",
    "nm_path = r\"C:\\Users\\bsf31\\Documents\\data\\NM\\nm_vector.gpkg\"\n",
    "study_boundary = gpd.read_file(nm_path, layer='counties_dissolved')\n",
    "\n",
    "silver_city_gdf = gpd.read_file(nm_path, layer='silver_city_qgis')\n"
   ]
  },
  {
   "cell_type": "code",
   "execution_count": 5,
   "metadata": {},
   "outputs": [
    {
     "data": {
      "text/html": [
       "\n",
       "            <style>\n",
       "                .geemap-dark {\n",
       "                    --jp-widgets-color: white;\n",
       "                    --jp-widgets-label-color: white;\n",
       "                    --jp-ui-font-color1: white;\n",
       "                    --jp-layout-color2: #454545;\n",
       "                    background-color: #383838;\n",
       "                }\n",
       "\n",
       "                .geemap-dark .jupyter-button {\n",
       "                    --jp-layout-color3: #383838;\n",
       "                }\n",
       "\n",
       "                .geemap-colab {\n",
       "                    background-color: var(--colab-primary-surface-color, white);\n",
       "                }\n",
       "\n",
       "                .geemap-colab .jupyter-button {\n",
       "                    --jp-layout-color3: var(--colab-primary-surface-color, white);\n",
       "                }\n",
       "            </style>\n",
       "            "
      ],
      "text/plain": [
       "<IPython.core.display.HTML object>"
      ]
     },
     "metadata": {},
     "output_type": "display_data"
    }
   ],
   "source": [
    "# Convert to Earth Engine geometry\n",
    "ee_boundary = geemap.geopandas_to_ee(study_boundary)\n",
    "\n",
    "ee_silver_city = geemap.geopandas_to_ee(silver_city_gdf).geometry()\n"
   ]
  },
  {
   "cell_type": "code",
   "execution_count": 6,
   "metadata": {},
   "outputs": [
    {
     "data": {
      "text/html": [
       "\n",
       "            <style>\n",
       "                .geemap-dark {\n",
       "                    --jp-widgets-color: white;\n",
       "                    --jp-widgets-label-color: white;\n",
       "                    --jp-ui-font-color1: white;\n",
       "                    --jp-layout-color2: #454545;\n",
       "                    background-color: #383838;\n",
       "                }\n",
       "\n",
       "                .geemap-dark .jupyter-button {\n",
       "                    --jp-layout-color3: #383838;\n",
       "                }\n",
       "\n",
       "                .geemap-colab {\n",
       "                    background-color: var(--colab-primary-surface-color, white);\n",
       "                }\n",
       "\n",
       "                .geemap-colab .jupyter-button {\n",
       "                    --jp-layout-color3: var(--colab-primary-surface-color, white);\n",
       "                }\n",
       "            </style>\n",
       "            "
      ],
      "text/plain": [
       "<IPython.core.display.HTML object>"
      ]
     },
     "metadata": {},
     "output_type": "display_data"
    }
   ],
   "source": [
    "ee_boundary_coordinates = ee_boundary.geometry()"
   ]
  },
  {
   "cell_type": "markdown",
   "metadata": {},
   "source": [
    "# Landsat Collection 2"
   ]
  },
  {
   "cell_type": "code",
   "execution_count": 7,
   "metadata": {},
   "outputs": [
    {
     "data": {
      "text/html": [
       "\n",
       "            <style>\n",
       "                .geemap-dark {\n",
       "                    --jp-widgets-color: white;\n",
       "                    --jp-widgets-label-color: white;\n",
       "                    --jp-ui-font-color1: white;\n",
       "                    --jp-layout-color2: #454545;\n",
       "                    background-color: #383838;\n",
       "                }\n",
       "\n",
       "                .geemap-dark .jupyter-button {\n",
       "                    --jp-layout-color3: #383838;\n",
       "                }\n",
       "\n",
       "                .geemap-colab {\n",
       "                    background-color: var(--colab-primary-surface-color, white);\n",
       "                }\n",
       "\n",
       "                .geemap-colab .jupyter-button {\n",
       "                    --jp-layout-color3: var(--colab-primary-surface-color, white);\n",
       "                }\n",
       "            </style>\n",
       "            "
      ],
      "text/plain": [
       "<IPython.core.display.HTML object>"
      ]
     },
     "metadata": {},
     "output_type": "display_data"
    }
   ],
   "source": [
    "# Function to scale the surface temperature band and convert to Fahrenheit\n",
    "def scale_lst(image):\n",
    "    lst_k = image.select('ST_B10').multiply(0.00341802).add(149.0)\n",
    "    lst_f = lst_k.subtract(273.15).multiply(1.8).add(32)\n",
    "    return image.addBands(lst_f.rename('LST_F'))\n",
    "\n",
    "# Function to calculate NDVI\n",
    "def calculate_ndvi(image):\n",
    "    ndvi = image.normalizedDifference(['SR_B5', 'SR_B4'])\n",
    "    return image.addBands(ndvi.rename('NDVI'))\n",
    "\n",
    "# Function to calculate Fraction of Vegetation Cover\n",
    "def calculate_fvc(image):\n",
    "    fvc = image.select('NDVI').subtract(0.2).divide(0.3).pow(2).clamp(0, 1)\n",
    "    return image.addBands(fvc.rename('FVC'))\n",
    "\n",
    "# Function to calculate Emissivity\n",
    "def calculate_emissivity(image):\n",
    "    emissivity = image.select('FVC').multiply(0.0004).add(0.986)\n",
    "    return image.addBands(emissivity.rename('Emissivity'))\n",
    "\n",
    "# Define a function to clip each image to the ROI\n",
    "def clip_to_region(image,roi):\n",
    "    return image.clip(roi)\n"
   ]
  },
  {
   "cell_type": "code",
   "execution_count": 8,
   "metadata": {},
   "outputs": [
    {
     "data": {
      "text/html": [
       "\n",
       "            <style>\n",
       "                .geemap-dark {\n",
       "                    --jp-widgets-color: white;\n",
       "                    --jp-widgets-label-color: white;\n",
       "                    --jp-ui-font-color1: white;\n",
       "                    --jp-layout-color2: #454545;\n",
       "                    background-color: #383838;\n",
       "                }\n",
       "\n",
       "                .geemap-dark .jupyter-button {\n",
       "                    --jp-layout-color3: #383838;\n",
       "                }\n",
       "\n",
       "                .geemap-colab {\n",
       "                    background-color: var(--colab-primary-surface-color, white);\n",
       "                }\n",
       "\n",
       "                .geemap-colab .jupyter-button {\n",
       "                    --jp-layout-color3: var(--colab-primary-surface-color, white);\n",
       "                }\n",
       "            </style>\n",
       "            "
      ],
      "text/plain": [
       "<IPython.core.display.HTML object>"
      ]
     },
     "metadata": {},
     "output_type": "display_data"
    }
   ],
   "source": [
    "pt = ee.Geometry.Point([-108.27, 32.78])   # Point corresponding to \n",
    "\n",
    "\n",
    "# Load the Landsat 8 collection and filter images based on criteria\n",
    "landsat_collection1 = ee.ImageCollection(\"LANDSAT/LC08/C02/T1_L2\") \\\n",
    "    .filterDate('2019-04-01', '2024-11-01') \\\n",
    "    .filter(ee.Filter.calendarRange(5, 9, 'month')) \\\n",
    "    .filterBounds(pt)\\\n",
    "    .filter(ee.Filter.lt('CLOUD_COVER', 9))  # Filter for images with less than 10% cloud cover\n",
    "\n"
   ]
  },
  {
   "cell_type": "code",
   "execution_count": 9,
   "metadata": {},
   "outputs": [
    {
     "data": {
      "text/html": [
       "\n",
       "            <style>\n",
       "                .geemap-dark {\n",
       "                    --jp-widgets-color: white;\n",
       "                    --jp-widgets-label-color: white;\n",
       "                    --jp-ui-font-color1: white;\n",
       "                    --jp-layout-color2: #454545;\n",
       "                    background-color: #383838;\n",
       "                }\n",
       "\n",
       "                .geemap-dark .jupyter-button {\n",
       "                    --jp-layout-color3: #383838;\n",
       "                }\n",
       "\n",
       "                .geemap-colab {\n",
       "                    background-color: var(--colab-primary-surface-color, white);\n",
       "                }\n",
       "\n",
       "                .geemap-colab .jupyter-button {\n",
       "                    --jp-layout-color3: var(--colab-primary-surface-color, white);\n",
       "                }\n",
       "            </style>\n",
       "            "
      ],
      "text/plain": [
       "<IPython.core.display.HTML object>"
      ]
     },
     "metadata": {},
     "output_type": "display_data"
    },
    {
     "data": {
      "text/plain": [
       "' pt = ee.Geometry.Point([-108.08, 32.46])   # Point corresponding to \\n\\n# Load the Landsat 8 collection and filter images based on criteria\\nlandsat_collection1 = ee.ImageCollection(\"LANDSAT/LC08/C02/T1_L2\")     .filterDate(\\'2019-04-01\\', \\'2019-09-18\\')     .filter(ee.Filter.calendarRange(5, 9, \\'month\\'))     .filterBounds(pt)    .filter(ee.Filter.lt(\\'CLOUD_COVER\\', 9))  # Filter for images with less than 10% cloud cover\\n# Load the Landsat 8 collection and filter images based on criteria\\nlandsat_collection2 = ee.ImageCollection(\"LANDSAT/LC08/C02/T1_L2\")     .filterDate(\\'2019-09-19\\', \\'2024-08-14\\')     .filter(ee.Filter.calendarRange(5, 9, \\'month\\'))     .filterBounds(pt)    .filter(ee.Filter.lt(\\'CLOUD_COVER\\', 9))  # Filter for images with less than 10% cloud cover\\n\\n# Load the Landsat 8 collection and filter images based on criteria\\nlandsat_collection3 = ee.ImageCollection(\"LANDSAT/LC08/C02/T1_L2\")     .filterDate( \\'2024-08-15\\', \\'2024-11-01\\')     .filter(ee.Filter.calendarRange(5, 9, \\'month\\'))     .filterBounds(pt)    .filter(ee.Filter.lt(\\'CLOUD_COVER\\', 9))  # Filter for images with less than 10% cloud cover '"
      ]
     },
     "execution_count": 9,
     "metadata": {},
     "output_type": "execute_result"
    }
   ],
   "source": [
    "\"\"\" pt = ee.Geometry.Point([-108.08, 32.46])   # Point corresponding to \n",
    "\n",
    "# Load the Landsat 8 collection and filter images based on criteria\n",
    "landsat_collection1 = ee.ImageCollection(\"LANDSAT/LC08/C02/T1_L2\") \\\n",
    "    .filterDate('2019-04-01', '2019-09-18') \\\n",
    "    .filter(ee.Filter.calendarRange(5, 9, 'month')) \\\n",
    "    .filterBounds(pt)\\\n",
    "    .filter(ee.Filter.lt('CLOUD_COVER', 9))  # Filter for images with less than 10% cloud cover\n",
    "# Load the Landsat 8 collection and filter images based on criteria\n",
    "landsat_collection2 = ee.ImageCollection(\"LANDSAT/LC08/C02/T1_L2\") \\\n",
    "    .filterDate('2019-09-19', '2024-08-14') \\\n",
    "    .filter(ee.Filter.calendarRange(5, 9, 'month')) \\\n",
    "    .filterBounds(pt)\\\n",
    "    .filter(ee.Filter.lt('CLOUD_COVER', 9))  # Filter for images with less than 10% cloud cover\n",
    "\n",
    "# Load the Landsat 8 collection and filter images based on criteria\n",
    "landsat_collection3 = ee.ImageCollection(\"LANDSAT/LC08/C02/T1_L2\") \\\n",
    "    .filterDate( '2024-08-15', '2024-11-01') \\\n",
    "    .filter(ee.Filter.calendarRange(5, 9, 'month')) \\\n",
    "    .filterBounds(pt)\\\n",
    "    .filter(ee.Filter.lt('CLOUD_COVER', 9))  # Filter for images with less than 10% cloud cover \"\"\""
   ]
  },
  {
   "cell_type": "code",
   "execution_count": 10,
   "metadata": {},
   "outputs": [
    {
     "data": {
      "text/html": [
       "\n",
       "            <style>\n",
       "                .geemap-dark {\n",
       "                    --jp-widgets-color: white;\n",
       "                    --jp-widgets-label-color: white;\n",
       "                    --jp-ui-font-color1: white;\n",
       "                    --jp-layout-color2: #454545;\n",
       "                    background-color: #383838;\n",
       "                }\n",
       "\n",
       "                .geemap-dark .jupyter-button {\n",
       "                    --jp-layout-color3: #383838;\n",
       "                }\n",
       "\n",
       "                .geemap-colab {\n",
       "                    background-color: var(--colab-primary-surface-color, white);\n",
       "                }\n",
       "\n",
       "                .geemap-colab .jupyter-button {\n",
       "                    --jp-layout-color3: var(--colab-primary-surface-color, white);\n",
       "                }\n",
       "            </style>\n",
       "            "
      ],
      "text/plain": [
       "<IPython.core.display.HTML object>"
      ]
     },
     "metadata": {},
     "output_type": "display_data"
    },
    {
     "data": {
      "text/plain": [
       "' # Combine the collections\\ncombined_collection = landsat_collection1.merge(landsat_collection2).merge(landsat_collection3)\\n# Get the list of image dates that meet the criteria\\nimage_dates = combined_collection.aggregate_array(\\'system:time_start\\').map(lambda t: ee.Date(t).format(\\'YYYY-MM-dd\\')).getInfo()\\n\\nprint(\"Selected Image Dates:\")\\nprint(image_dates)\\ncombined_collection\\n# Apply all processing steps\\nprocessed_collection = combined_collection     .map(lambda image: image.clip(ee_hurley))     .map(scale_lst)     .map(calculate_ndvi)     .map(calculate_fvc)     .map(calculate_emissivity) \\n '"
      ]
     },
     "execution_count": 10,
     "metadata": {},
     "output_type": "execute_result"
    }
   ],
   "source": [
    "\"\"\" # Combine the collections\n",
    "combined_collection = landsat_collection1.merge(landsat_collection2).merge(landsat_collection3)\n",
    "# Get the list of image dates that meet the criteria\n",
    "image_dates = combined_collection.aggregate_array('system:time_start').map(lambda t: ee.Date(t).format('YYYY-MM-dd')).getInfo()\n",
    "\n",
    "print(\"Selected Image Dates:\")\n",
    "print(image_dates)\n",
    "combined_collection\n",
    "# Apply all processing steps\n",
    "processed_collection = combined_collection \\\n",
    "    .map(lambda image: image.clip(ee_hurley)) \\\n",
    "    .map(scale_lst) \\\n",
    "    .map(calculate_ndvi) \\\n",
    "    .map(calculate_fvc) \\\n",
    "    .map(calculate_emissivity) \n",
    " \"\"\""
   ]
  },
  {
   "cell_type": "code",
   "execution_count": 11,
   "metadata": {},
   "outputs": [
    {
     "data": {
      "text/html": [
       "\n",
       "            <style>\n",
       "                .geemap-dark {\n",
       "                    --jp-widgets-color: white;\n",
       "                    --jp-widgets-label-color: white;\n",
       "                    --jp-ui-font-color1: white;\n",
       "                    --jp-layout-color2: #454545;\n",
       "                    background-color: #383838;\n",
       "                }\n",
       "\n",
       "                .geemap-dark .jupyter-button {\n",
       "                    --jp-layout-color3: #383838;\n",
       "                }\n",
       "\n",
       "                .geemap-colab {\n",
       "                    background-color: var(--colab-primary-surface-color, white);\n",
       "                }\n",
       "\n",
       "                .geemap-colab .jupyter-button {\n",
       "                    --jp-layout-color3: var(--colab-primary-surface-color, white);\n",
       "                }\n",
       "            </style>\n",
       "            "
      ],
      "text/plain": [
       "<IPython.core.display.HTML object>"
      ]
     },
     "metadata": {},
     "output_type": "display_data"
    },
    {
     "name": "stdout",
     "output_type": "stream",
     "text": [
      "Selected Image Dates:\n",
      "['2019-05-29', '2019-06-30', '2019-08-01', '2019-09-02', '2019-09-18', '2020-05-15', '2020-05-31', '2020-06-16', '2020-08-03', '2020-08-19', '2020-09-04', '2020-09-20', '2021-05-02', '2021-06-03', '2021-06-19', '2021-07-21', '2021-08-06', '2021-08-22', '2021-09-07', '2022-05-05', '2022-05-21', '2022-06-06', '2022-07-08', '2022-09-10', '2023-05-08', '2023-05-24', '2023-06-25', '2023-07-27', '2023-09-29', '2024-05-10', '2024-05-26', '2024-06-11', '2024-07-13', '2024-08-14', '2024-08-30']\n"
     ]
    }
   ],
   "source": [
    "# Get the list of image dates that meet the criteria\n",
    "image_dates = landsat_collection1.aggregate_array('system:time_start').map(lambda t: ee.Date(t).format('YYYY-MM-dd')).getInfo()\n",
    "\n",
    "print(\"Selected Image Dates:\")\n",
    "print(image_dates)\n",
    "\n"
   ]
  },
  {
   "cell_type": "code",
   "execution_count": 12,
   "metadata": {},
   "outputs": [
    {
     "data": {
      "text/html": [
       "\n",
       "            <style>\n",
       "                .geemap-dark {\n",
       "                    --jp-widgets-color: white;\n",
       "                    --jp-widgets-label-color: white;\n",
       "                    --jp-ui-font-color1: white;\n",
       "                    --jp-layout-color2: #454545;\n",
       "                    background-color: #383838;\n",
       "                }\n",
       "\n",
       "                .geemap-dark .jupyter-button {\n",
       "                    --jp-layout-color3: #383838;\n",
       "                }\n",
       "\n",
       "                .geemap-colab {\n",
       "                    background-color: var(--colab-primary-surface-color, white);\n",
       "                }\n",
       "\n",
       "                .geemap-colab .jupyter-button {\n",
       "                    --jp-layout-color3: var(--colab-primary-surface-color, white);\n",
       "                }\n",
       "            </style>\n",
       "            "
      ],
      "text/plain": [
       "<IPython.core.display.HTML object>"
      ]
     },
     "metadata": {},
     "output_type": "display_data"
    }
   ],
   "source": [
    "\n",
    "# Apply all processing steps\n",
    "processed_collection = landsat_collection1 \\\n",
    "    .map(lambda image: image.clip(ee_silver_city)) \\\n",
    "    .map(scale_lst) \\\n",
    "    .map(calculate_ndvi) \\\n",
    "    .map(calculate_fvc) \\\n",
    "    .map(calculate_emissivity) "
   ]
  },
  {
   "cell_type": "code",
   "execution_count": 13,
   "metadata": {},
   "outputs": [
    {
     "data": {
      "text/html": [
       "\n",
       "            <style>\n",
       "                .geemap-dark {\n",
       "                    --jp-widgets-color: white;\n",
       "                    --jp-widgets-label-color: white;\n",
       "                    --jp-ui-font-color1: white;\n",
       "                    --jp-layout-color2: #454545;\n",
       "                    background-color: #383838;\n",
       "                }\n",
       "\n",
       "                .geemap-dark .jupyter-button {\n",
       "                    --jp-layout-color3: #383838;\n",
       "                }\n",
       "\n",
       "                .geemap-colab {\n",
       "                    background-color: var(--colab-primary-surface-color, white);\n",
       "                }\n",
       "\n",
       "                .geemap-colab .jupyter-button {\n",
       "                    --jp-layout-color3: var(--colab-primary-surface-color, white);\n",
       "                }\n",
       "            </style>\n",
       "            "
      ],
      "text/plain": [
       "<IPython.core.display.HTML object>"
      ]
     },
     "metadata": {},
     "output_type": "display_data"
    },
    {
     "data": {
      "text/plain": [
       "<ee.imagecollection.ImageCollection at 0x17e835bac60>"
      ]
     },
     "execution_count": 13,
     "metadata": {},
     "output_type": "execute_result"
    }
   ],
   "source": [
    "processed_collection"
   ]
  },
  {
   "cell_type": "code",
   "execution_count": 23,
   "metadata": {},
   "outputs": [
    {
     "data": {
      "text/html": [
       "\n",
       "            <style>\n",
       "                .geemap-dark {\n",
       "                    --jp-widgets-color: white;\n",
       "                    --jp-widgets-label-color: white;\n",
       "                    --jp-ui-font-color1: white;\n",
       "                    --jp-layout-color2: #454545;\n",
       "                    background-color: #383838;\n",
       "                }\n",
       "\n",
       "                .geemap-dark .jupyter-button {\n",
       "                    --jp-layout-color3: #383838;\n",
       "                }\n",
       "\n",
       "                .geemap-colab {\n",
       "                    background-color: var(--colab-primary-surface-color, white);\n",
       "                }\n",
       "\n",
       "                .geemap-colab .jupyter-button {\n",
       "                    --jp-layout-color3: var(--colab-primary-surface-color, white);\n",
       "                }\n",
       "            </style>\n",
       "            "
      ],
      "text/plain": [
       "<IPython.core.display.HTML object>"
      ]
     },
     "metadata": {},
     "output_type": "display_data"
    }
   ],
   "source": [
    "# Function to extract LST values\n",
    "def extract_lst(image):\n",
    "    date = ee.Date(image.get('system:time_start')).format('YYYY-MM-dd')\n",
    "    mean_lst = image.select('LST_F').reduceRegion(\n",
    "        reducer=ee.Reducer.mean(),\n",
    "        geometry=ee_silver_city,\n",
    "        scale=30\n",
    "    ).get('LST_F')\n",
    "    return ee.Feature(None, {'date': date, 'LST': mean_lst})\n",
    "\n",
    "# Extract LST values\n",
    "lst_values = processed_collection.map(extract_lst)\n"
   ]
  },
  {
   "cell_type": "code",
   "execution_count": 15,
   "metadata": {},
   "outputs": [
    {
     "data": {
      "text/html": [
       "\n",
       "            <style>\n",
       "                .geemap-dark {\n",
       "                    --jp-widgets-color: white;\n",
       "                    --jp-widgets-label-color: white;\n",
       "                    --jp-ui-font-color1: white;\n",
       "                    --jp-layout-color2: #454545;\n",
       "                    background-color: #383838;\n",
       "                }\n",
       "\n",
       "                .geemap-dark .jupyter-button {\n",
       "                    --jp-layout-color3: #383838;\n",
       "                }\n",
       "\n",
       "                .geemap-colab {\n",
       "                    background-color: var(--colab-primary-surface-color, white);\n",
       "                }\n",
       "\n",
       "                .geemap-colab .jupyter-button {\n",
       "                    --jp-layout-color3: var(--colab-primary-surface-color, white);\n",
       "                }\n",
       "            </style>\n",
       "            "
      ],
      "text/plain": [
       "<IPython.core.display.HTML object>"
      ]
     },
     "metadata": {},
     "output_type": "display_data"
    },
    {
     "name": "stdout",
     "output_type": "stream",
     "text": [
      "\n",
      "Valid LST values extracted: 35 out of 35\n"
     ]
    }
   ],
   "source": [
    "\"\"\" # Function to extract LST values and handle missing values\n",
    "def extract_lst(image):\n",
    "    date = ee.Date(image.get('system:time_start')).format('YYYY-MM-dd')\n",
    "    \n",
    "    # Compute mean LST\n",
    "    mean_lst = image.select('LST_F').reduceRegion(\n",
    "        reducer=ee.Reducer.mean(),\n",
    "        geometry=ee_silver_city,\n",
    "        scale=30,\n",
    "        maxPixels=1e8,\n",
    "        bestEffort=True\n",
    "    ).get('LST_F')\n",
    "    \n",
    "    # Check if LST is null (empty) and add a flag\n",
    "    lst_flag = ee.Algorithms.If(mean_lst, 1, 0)  # 1 if LST exists, 0 otherwise\n",
    "    \n",
    "    return ee.Feature(None, {'date': date, 'LST': mean_lst, 'valid': lst_flag})\n",
    "\n",
    "\n",
    "# Extract LST values\n",
    "lst_values = processed_collection.map(extract_lst)\n",
    "# Count valid LST values\n",
    "valid_count = lst_values.aggregate_sum('valid').getInfo()\n",
    "print(f\"\\nValid LST values extracted: {valid_count} out of {processed_collection.size().getInfo()}\") \"\"\""
   ]
  },
  {
   "cell_type": "code",
   "execution_count": 24,
   "metadata": {},
   "outputs": [
    {
     "data": {
      "text/html": [
       "\n",
       "            <style>\n",
       "                .geemap-dark {\n",
       "                    --jp-widgets-color: white;\n",
       "                    --jp-widgets-label-color: white;\n",
       "                    --jp-ui-font-color1: white;\n",
       "                    --jp-layout-color2: #454545;\n",
       "                    background-color: #383838;\n",
       "                }\n",
       "\n",
       "                .geemap-dark .jupyter-button {\n",
       "                    --jp-layout-color3: #383838;\n",
       "                }\n",
       "\n",
       "                .geemap-colab {\n",
       "                    background-color: var(--colab-primary-surface-color, white);\n",
       "                }\n",
       "\n",
       "                .geemap-colab .jupyter-button {\n",
       "                    --jp-layout-color3: var(--colab-primary-surface-color, white);\n",
       "                }\n",
       "            </style>\n",
       "            "
      ],
      "text/plain": [
       "<IPython.core.display.HTML object>"
      ]
     },
     "metadata": {},
     "output_type": "display_data"
    },
    {
     "data": {
      "text/plain": [
       "<ee.imagecollection.ImageCollection at 0x17e835886b0>"
      ]
     },
     "execution_count": 24,
     "metadata": {},
     "output_type": "execute_result"
    }
   ],
   "source": [
    "lst_values.getInfo()"
   ]
  },
  {
   "cell_type": "code",
   "execution_count": 25,
   "metadata": {},
   "outputs": [
    {
     "data": {
      "text/html": [
       "\n",
       "            <style>\n",
       "                .geemap-dark {\n",
       "                    --jp-widgets-color: white;\n",
       "                    --jp-widgets-label-color: white;\n",
       "                    --jp-ui-font-color1: white;\n",
       "                    --jp-layout-color2: #454545;\n",
       "                    background-color: #383838;\n",
       "                }\n",
       "\n",
       "                .geemap-dark .jupyter-button {\n",
       "                    --jp-layout-color3: #383838;\n",
       "                }\n",
       "\n",
       "                .geemap-colab {\n",
       "                    background-color: var(--colab-primary-surface-color, white);\n",
       "                }\n",
       "\n",
       "                .geemap-colab .jupyter-button {\n",
       "                    --jp-layout-color3: var(--colab-primary-surface-color, white);\n",
       "                }\n",
       "            </style>\n",
       "            "
      ],
      "text/plain": [
       "<IPython.core.display.HTML object>"
      ]
     },
     "metadata": {},
     "output_type": "display_data"
    },
    {
     "name": "stdout",
     "output_type": "stream",
     "text": [
      "Date, Mean LST (°F)\n",
      "2019-05-29, 107.44\n",
      "2019-06-30, 124.21\n",
      "2019-08-01, 108.00\n",
      "2019-09-02, 111.81\n",
      "2019-09-18, 93.54\n",
      "2020-05-15, 109.38\n",
      "2020-05-31, 115.52\n",
      "2020-06-16, 110.29\n",
      "2020-08-03, 123.70\n",
      "2020-08-19, 119.82\n",
      "2020-09-04, 116.42\n",
      "2020-09-20, 102.81\n",
      "2021-05-02, 103.75\n",
      "2021-06-03, 121.71\n",
      "2021-06-19, 134.94\n",
      "2021-07-21, 114.65\n",
      "2021-08-06, 109.25\n",
      "2021-08-22, 103.72\n",
      "2021-09-07, 104.72\n",
      "2022-05-05, 108.73\n",
      "2022-05-21, 113.92\n",
      "2022-06-06, 122.85\n",
      "2022-07-08, 119.16\n",
      "2022-09-10, 105.88\n",
      "2023-05-08, 109.76\n",
      "2023-05-24, 110.14\n",
      "2023-06-25, 124.03\n",
      "2023-07-27, 134.14\n",
      "2023-09-29, 103.58\n",
      "2024-05-10, 105.32\n",
      "2024-05-26, 111.61\n",
      "2024-06-11, 123.28\n",
      "2024-07-13, 115.31\n",
      "2024-08-14, 109.73\n",
      "2024-08-30, 98.51\n"
     ]
    }
   ],
   "source": [
    "# Print results\n",
    "print(\"Date, Mean LST (°F)\")\n",
    "lst_list = lst_values.getInfo().get('features')\n",
    "for feature in lst_list:\n",
    "    date = feature['properties']['date']\n",
    "    lst = feature['properties']['LST']\n",
    "    print(f\"{date}, {lst:.2f}\")"
   ]
  },
  {
   "cell_type": "code",
   "execution_count": null,
   "metadata": {},
   "outputs": [],
   "source": [
    "\"\"\" # Print results safely, skipping missing values\n",
    "print(\"Date, Mean LST (°F)\")\n",
    "lst_list = lst_values.getInfo().get('features')\n",
    "\n",
    "for feature in lst_list:\n",
    "    date = feature['properties']['date']\n",
    "    lst = feature['properties'].get('LST', None)  # Avoid KeyError by using .get()\n",
    "    \n",
    "    if lst is not None:\n",
    "        print(f\"{date}, {lst:.2f}\")\n",
    "    else:\n",
    "        print(f\"{date}, MISSING\") \"\"\""
   ]
  },
  {
   "cell_type": "code",
   "execution_count": 19,
   "metadata": {},
   "outputs": [
    {
     "data": {
      "text/html": [
       "\n",
       "            <style>\n",
       "                .geemap-dark {\n",
       "                    --jp-widgets-color: white;\n",
       "                    --jp-widgets-label-color: white;\n",
       "                    --jp-ui-font-color1: white;\n",
       "                    --jp-layout-color2: #454545;\n",
       "                    background-color: #383838;\n",
       "                }\n",
       "\n",
       "                .geemap-dark .jupyter-button {\n",
       "                    --jp-layout-color3: #383838;\n",
       "                }\n",
       "\n",
       "                .geemap-colab {\n",
       "                    background-color: var(--colab-primary-surface-color, white);\n",
       "                }\n",
       "\n",
       "                .geemap-colab .jupyter-button {\n",
       "                    --jp-layout-color3: var(--colab-primary-surface-color, white);\n",
       "                }\n",
       "            </style>\n",
       "            "
      ],
      "text/plain": [
       "<IPython.core.display.HTML object>"
      ]
     },
     "metadata": {},
     "output_type": "display_data"
    },
    {
     "name": "stdout",
     "output_type": "stream",
     "text": [
      "\n",
      "Number of images: 35\n",
      "\n",
      "Cloud cover for each image:\n",
      "2019-05-29: 7.42%\n",
      "2019-06-30: 7.17%\n",
      "2019-08-01: 7.59%\n",
      "2019-09-02: 4.46%\n",
      "2019-09-18: 7.68%\n",
      "2020-05-15: 0.03%\n",
      "2020-05-31: 2.03%\n",
      "2020-06-16: 4.03%\n",
      "2020-08-03: 0.02%\n",
      "2020-08-19: 0.34%\n",
      "2020-09-04: 0.61%\n",
      "2020-09-20: 0.43%\n",
      "2021-05-02: 0.06%\n",
      "2021-06-03: 5.08%\n",
      "2021-06-19: 0.91%\n",
      "2021-07-21: 7.28%\n",
      "2021-08-06: 4.96%\n",
      "2021-08-22: 7.42%\n",
      "2021-09-07: 0.00%\n",
      "2022-05-05: 0.01%\n",
      "2022-05-21: 0.06%\n",
      "2022-06-06: 0.01%\n",
      "2022-07-08: 3.63%\n",
      "2022-09-10: 3.26%\n",
      "2023-05-08: 0.02%\n",
      "2023-05-24: 0.14%\n",
      "2023-06-25: 0.04%\n",
      "2023-07-27: 3.43%\n",
      "2023-09-29: 0.24%\n",
      "2024-05-10: 8.20%\n",
      "2024-05-26: 0.06%\n",
      "2024-06-11: 3.74%\n",
      "2024-07-13: 0.65%\n",
      "2024-08-14: 8.54%\n",
      "2024-08-30: 7.45%\n"
     ]
    }
   ],
   "source": [
    "\n",
    "\n",
    "# Print collection information\n",
    "print(f\"\\nNumber of images: {processed_collection.size().getInfo()}\")\n",
    "#print(f\"Date range: {start_date} to {end_date}\")\n",
    "\n",
    "# Print cloud cover information\n",
    "cloud_covers = processed_collection.aggregate_array('CLOUD_COVER').getInfo()\n",
    "dates = processed_collection.aggregate_array('system:time_start').getInfo()\n",
    "dates = [ee.Date(d).format('YYYY-MM-dd').getInfo() for d in dates]\n",
    "\n",
    "print(\"\\nCloud cover for each image:\")\n",
    "for date, cloud_cover in zip(dates, cloud_covers):\n",
    "    print(f\"{date}: {cloud_cover:.2f}%\")"
   ]
  },
  {
   "cell_type": "code",
   "execution_count": 20,
   "metadata": {},
   "outputs": [
    {
     "data": {
      "text/html": [
       "\n",
       "            <style>\n",
       "                .geemap-dark {\n",
       "                    --jp-widgets-color: white;\n",
       "                    --jp-widgets-label-color: white;\n",
       "                    --jp-ui-font-color1: white;\n",
       "                    --jp-layout-color2: #454545;\n",
       "                    background-color: #383838;\n",
       "                }\n",
       "\n",
       "                .geemap-dark .jupyter-button {\n",
       "                    --jp-layout-color3: #383838;\n",
       "                }\n",
       "\n",
       "                .geemap-colab {\n",
       "                    background-color: var(--colab-primary-surface-color, white);\n",
       "                }\n",
       "\n",
       "                .geemap-colab .jupyter-button {\n",
       "                    --jp-layout-color3: var(--colab-primary-surface-color, white);\n",
       "                }\n",
       "            </style>\n",
       "            "
      ],
      "text/plain": [
       "<IPython.core.display.HTML object>"
      ]
     },
     "metadata": {},
     "output_type": "display_data"
    },
    {
     "data": {
      "text/plain": [
       "' ## Define the specific dates you want to inspect\\nspecific_dates = [\\'2019-09-18\\', \\'2024-08-14\\']  # Replace with your desired dates\\n\\n# Filter the collection for specific dates using ee.Filter.Or\\nfiltered_collection = processed_collection.filter(\\n    ee.Filter.Or(\\n        ee.Filter.date(specific_dates[0], ee.Date(specific_dates[0]).advance(1, \\'day\\')),\\n        ee.Filter.date(specific_dates[1], ee.Date(specific_dates[1]).advance(1, \\'day\\'))\\n    )\\n)\\n\\n# Check if the collection is empty\\nif filtered_collection.size().getInfo() == 0:\\n    raise ValueError(\"No images found for the specified dates.\")\\n\\n# Create the map and add true-color layers for the specific dates\\nMap = geemap.Map()\\nMap.center_object(ee_hurley, 12)\\n\\n# Visualization parameters for true-color composite\\ntrue_color_vis_params = {\\n    \\'bands\\': [\\'SR_B4\\', \\'SR_B3\\', \\'SR_B2\\'],  # Red, Green, Blue\\n    \\'min\\': 0,\\n    \\'max\\': 3000,  # Adjust based on the reflectance range of your data\\n    \\'gamma\\': 1.4  # Optional: adjust for better visualization\\n}\\n\\n# Add true-color layers for each date\\nfiltered_images = filtered_collection.toList(filtered_collection.size())\\nfor i in range(filtered_collection.size().getInfo()):\\n    image = ee.Image(filtered_images.get(i))\\n    image_date = ee.Date(image.get(\\'system:time_start\\')).format(\\'YYYY-MM-dd\\').getInfo()\\n    Map.addLayer(image, true_color_vis_params, f\\'True Color {image_date}\\')\\n\\nMap.addLayer(ee_hurley, {}, \\'Hurley Boundary\\')\\nMap '"
      ]
     },
     "execution_count": 20,
     "metadata": {},
     "output_type": "execute_result"
    }
   ],
   "source": [
    "\"\"\" ## Define the specific dates you want to inspect\n",
    "specific_dates = ['2019-09-18', '2024-08-14']  # Replace with your desired dates\n",
    "\n",
    "# Filter the collection for specific dates using ee.Filter.Or\n",
    "filtered_collection = processed_collection.filter(\n",
    "    ee.Filter.Or(\n",
    "        ee.Filter.date(specific_dates[0], ee.Date(specific_dates[0]).advance(1, 'day')),\n",
    "        ee.Filter.date(specific_dates[1], ee.Date(specific_dates[1]).advance(1, 'day'))\n",
    "    )\n",
    ")\n",
    "\n",
    "# Check if the collection is empty\n",
    "if filtered_collection.size().getInfo() == 0:\n",
    "    raise ValueError(\"No images found for the specified dates.\")\n",
    "\n",
    "# Create the map and add true-color layers for the specific dates\n",
    "Map = geemap.Map()\n",
    "Map.center_object(ee_hurley, 12)\n",
    "\n",
    "# Visualization parameters for true-color composite\n",
    "true_color_vis_params = {\n",
    "    'bands': ['SR_B4', 'SR_B3', 'SR_B2'],  # Red, Green, Blue\n",
    "    'min': 0,\n",
    "    'max': 3000,  # Adjust based on the reflectance range of your data\n",
    "    'gamma': 1.4  # Optional: adjust for better visualization\n",
    "}\n",
    "\n",
    "# Add true-color layers for each date\n",
    "filtered_images = filtered_collection.toList(filtered_collection.size())\n",
    "for i in range(filtered_collection.size().getInfo()):\n",
    "    image = ee.Image(filtered_images.get(i))\n",
    "    image_date = ee.Date(image.get('system:time_start')).format('YYYY-MM-dd').getInfo()\n",
    "    Map.addLayer(image, true_color_vis_params, f'True Color {image_date}')\n",
    "\n",
    "Map.addLayer(ee_hurley, {}, 'Hurley Boundary')\n",
    "Map \"\"\"\n",
    "\n",
    "\n"
   ]
  },
  {
   "cell_type": "code",
   "execution_count": 26,
   "metadata": {},
   "outputs": [
    {
     "data": {
      "text/html": [
       "\n",
       "            <style>\n",
       "                .geemap-dark {\n",
       "                    --jp-widgets-color: white;\n",
       "                    --jp-widgets-label-color: white;\n",
       "                    --jp-ui-font-color1: white;\n",
       "                    --jp-layout-color2: #454545;\n",
       "                    background-color: #383838;\n",
       "                }\n",
       "\n",
       "                .geemap-dark .jupyter-button {\n",
       "                    --jp-layout-color3: #383838;\n",
       "                }\n",
       "\n",
       "                .geemap-colab {\n",
       "                    background-color: var(--colab-primary-surface-color, white);\n",
       "                }\n",
       "\n",
       "                .geemap-colab .jupyter-button {\n",
       "                    --jp-layout-color3: var(--colab-primary-surface-color, white);\n",
       "                }\n",
       "            </style>\n",
       "            "
      ],
      "text/plain": [
       "<IPython.core.display.HTML object>"
      ]
     },
     "metadata": {},
     "output_type": "display_data"
    },
    {
     "name": "stdout",
     "output_type": "stream",
     "text": [
      "Mean LST (°F) for the entire collection over Hurley, NM: 112.9043206508221\n"
     ]
    }
   ],
   "source": [
    "# Calculate the mean image across the entire collection\n",
    "collection_mean = processed_collection.mean()\n",
    "\n",
    "# Extract the mean LST over the Hurley area\n",
    "mean_lst = collection_mean.select('LST_F').reduceRegion(\n",
    "    reducer=ee.Reducer.mean(),\n",
    "    geometry=ee_silver_city,\n",
    "    scale=30,\n",
    "    maxPixels=1e8,\n",
    "    bestEffort=True\n",
    ").get('LST_F')\n",
    "\n",
    "# Get the result as a Python object\n",
    "mean_lst_value = mean_lst.getInfo()\n",
    "\n",
    "print(\"Mean LST (°F) for the entire collection over Hurley, NM:\", mean_lst_value)\n"
   ]
  },
  {
   "cell_type": "code",
   "execution_count": 27,
   "metadata": {},
   "outputs": [
    {
     "data": {
      "text/html": [
       "\n",
       "            <style>\n",
       "                .geemap-dark {\n",
       "                    --jp-widgets-color: white;\n",
       "                    --jp-widgets-label-color: white;\n",
       "                    --jp-ui-font-color1: white;\n",
       "                    --jp-layout-color2: #454545;\n",
       "                    background-color: #383838;\n",
       "                }\n",
       "\n",
       "                .geemap-dark .jupyter-button {\n",
       "                    --jp-layout-color3: #383838;\n",
       "                }\n",
       "\n",
       "                .geemap-colab {\n",
       "                    background-color: var(--colab-primary-surface-color, white);\n",
       "                }\n",
       "\n",
       "                .geemap-colab .jupyter-button {\n",
       "                    --jp-layout-color3: var(--colab-primary-surface-color, white);\n",
       "                }\n",
       "            </style>\n",
       "            "
      ],
      "text/plain": [
       "<IPython.core.display.HTML object>"
      ]
     },
     "metadata": {},
     "output_type": "display_data"
    },
    {
     "name": "stdout",
     "output_type": "stream",
     "text": [
      "Exporting mean LST image to Google Drive...\n"
     ]
    }
   ],
   "source": [
    "# Set up export parameters\n",
    "export_task = ee.batch.Export.image.toDrive(\n",
    "    image=collection_mean.select('LST_F'),  # Select the LST band\n",
    "    description='Silver_City_LST_Mean',\n",
    "    folder='lst',  # Optional: specify a folder in Google Drive\n",
    "    fileNamePrefix='Silver_City_LST_Mean_Image',\n",
    "    region=ee_silver_city,\n",
    "    scale=30,\n",
    "    crs='EPSG:4326',  # 'EPSG:32612',  # Use UTM Zone 12N to match the Hurley vectors\n",
    "    maxPixels=1e13\n",
    ")\n",
    "\n",
    "# Start the export task\n",
    "export_task.start()\n",
    "print(\"Exporting mean LST image to Google Drive...\")"
   ]
  },
  {
   "cell_type": "code",
   "execution_count": 31,
   "metadata": {},
   "outputs": [
    {
     "data": {
      "text/html": [
       "\n",
       "            <style>\n",
       "                .geemap-dark {\n",
       "                    --jp-widgets-color: white;\n",
       "                    --jp-widgets-label-color: white;\n",
       "                    --jp-ui-font-color1: white;\n",
       "                    --jp-layout-color2: #454545;\n",
       "                    background-color: #383838;\n",
       "                }\n",
       "\n",
       "                .geemap-dark .jupyter-button {\n",
       "                    --jp-layout-color3: #383838;\n",
       "                }\n",
       "\n",
       "                .geemap-colab {\n",
       "                    background-color: var(--colab-primary-surface-color, white);\n",
       "                }\n",
       "\n",
       "                .geemap-colab .jupyter-button {\n",
       "                    --jp-layout-color3: var(--colab-primary-surface-color, white);\n",
       "                }\n",
       "            </style>\n",
       "            "
      ],
      "text/plain": [
       "<IPython.core.display.HTML object>"
      ]
     },
     "metadata": {},
     "output_type": "display_data"
    },
    {
     "data": {
      "application/vnd.jupyter.widget-view+json": {
       "model_id": "11725b73329445cda8fdb6bf1c428450",
       "version_major": 2,
       "version_minor": 0
      },
      "text/plain": [
       "Map(center=[32.78946800998195, -108.27030955522709], controls=(WidgetControl(options=['position', 'transparent…"
      ]
     },
     "execution_count": 31,
     "metadata": {},
     "output_type": "execute_result"
    }
   ],
   "source": [
    "vis_params = {'bands': ['SR_B1'], 'palette': ['#0b0000', '#0d0000', '#100000', '#120000', '#150000', '#180000', '#1a0000', '#1d0000', '#200000', '#220000', '#250000', '#270000', '#2a0000', '#2d0000', '#2f0000', '#320000', '#350000', '#370000', '#3a0000', '#3c0000', '#3f0000', '#420000', '#440000', '#470000', '#4a0000', '#4c0000', '#4f0000', '#510000', '#540000', '#570000', '#590000', '#5c0000', '#5f0000', '#610000', '#640000', '#660000', '#690000', '#6c0000', '#6e0000', '#710000', '#740000', '#760000', '#790000', '#7b0000', '#7e0000', '#810000', '#830000', '#860000', '#890000', '#8b0000', '#8e0000', '#900000', '#930000', '#960000', '#980000', '#9b0000', '#9e0000', '#a00000', '#a30000', '#a50000', '#a80000', '#ab0000', '#ad0000', '#b00000', '#b30000', '#b50000', '#b80000', '#ba0000', '#bd0000', '#c00000', '#c20000', '#c50000', '#c80000', '#ca0000', '#cd0000', '#cf0000', '#d20000', '#d50000', '#d70000', '#da0000', '#dd0000', '#df0000', '#e20000', '#e40000', '#e70000', '#ea0000', '#ec0000', '#ef0000', '#f20000', '#f40000', '#f70000', '#f90000', '#fc0000', '#ff0000', '#ff0200', '#ff0500', '#ff0800', '#ff0a00', '#ff0d00', '#ff1000', '#ff1200', '#ff1500', '#ff1700', '#ff1a00', '#ff1d00', '#ff1f00', '#ff2200', '#ff2500', '#ff2700', '#ff2a00', '#ff2c00', '#ff2f00', '#ff3200', '#ff3400', '#ff3700', '#ff3a00', '#ff3c00', '#ff3f00', '#ff4100', '#ff4400', '#ff4700', '#ff4900', '#ff4c00', '#ff4f00', '#ff5100', '#ff5400', '#ff5600', '#ff5900', '#ff5c00', '#ff5e00', '#ff6100', '#ff6400', '#ff6600', '#ff6900', '#ff6b00', '#ff6e00', '#ff7100', '#ff7300', '#ff7600', '#ff7900', '#ff7b00', '#ff7e00', '#ff8000', '#ff8300', '#ff8600', '#ff8800', '#ff8b00', '#ff8e00', '#ff9000', '#ff9300', '#ff9500', '#ff9800', '#ff9b00', '#ff9d00', '#ffa000', '#ffa200', '#ffa500', '#ffa800', '#ffaa00', '#ffad00', '#ffb000', '#ffb200', '#ffb500', '#ffb700', '#ffba00', '#ffbd00', '#ffbf00', '#ffc200', '#ffc500', '#ffc700', '#ffca00', '#ffcc00', '#ffcf00', '#ffd200', '#ffd400', '#ffd700', '#ffda00', '#ffdc00', '#ffdf00', '#ffe100', '#ffe400', '#ffe700', '#ffe900', '#ffec00', '#ffef00', '#fff100', '#fff400', '#fff600', '#fff900', '#fffc00', '#fffe00', '#ffff03', '#ffff07', '#ffff0b', '#ffff0f', '#ffff13', '#ffff17', '#ffff1b', '#ffff1f', '#ffff22', '#ffff26', '#ffff2a', '#ffff2e', '#ffff32', '#ffff36', '#ffff3a', '#ffff3e', '#ffff42', '#ffff46', '#ffff4a', '#ffff4e', '#ffff52', '#ffff56', '#ffff5a', '#ffff5e', '#ffff61', '#ffff65', '#ffff69', '#ffff6d', '#ffff71', '#ffff75', '#ffff79', '#ffff7d', '#ffff81', '#ffff85', '#ffff89', '#ffff8d', '#ffff91', '#ffff95', '#ffff99', '#ffff9d', '#ffffa0', '#ffffa4', '#ffffa8', '#ffffac', '#ffffb0', '#ffffb4', '#ffffb8', '#ffffbc', '#ffffc0', '#ffffc4', '#ffffc8', '#ffffcc', '#ffffd0', '#ffffd4', '#ffffd8', '#ffffdc', '#ffffdf', '#ffffe3', '#ffffe7', '#ffffeb', '#ffffef', '#fffff3', '#fffff7', '#fffffb', '#ffffff'], 'min': 8937.828571428572, 'max': 14637.171428571428}\n",
    "\n",
    "Map = geemap.Map()\n",
    "Map.center_object(ee_silver_city, 12)\n",
    "Map.addLayer(collection_mean, vis_params, 'collection_mean')\n",
    "Map\n"
   ]
  },
  {
   "cell_type": "code",
   "execution_count": 35,
   "metadata": {},
   "outputs": [
    {
     "data": {
      "text/html": [
       "\n",
       "            <style>\n",
       "                .geemap-dark {\n",
       "                    --jp-widgets-color: white;\n",
       "                    --jp-widgets-label-color: white;\n",
       "                    --jp-ui-font-color1: white;\n",
       "                    --jp-layout-color2: #454545;\n",
       "                    background-color: #383838;\n",
       "                }\n",
       "\n",
       "                .geemap-dark .jupyter-button {\n",
       "                    --jp-layout-color3: #383838;\n",
       "                }\n",
       "\n",
       "                .geemap-colab {\n",
       "                    background-color: var(--colab-primary-surface-color, white);\n",
       "                }\n",
       "\n",
       "                .geemap-colab .jupyter-button {\n",
       "                    --jp-layout-color3: var(--colab-primary-surface-color, white);\n",
       "                }\n",
       "            </style>\n",
       "            "
      ],
      "text/plain": [
       "<IPython.core.display.HTML object>"
      ]
     },
     "metadata": {},
     "output_type": "display_data"
    }
   ],
   "source": [
    "# Function to calculate per-image statistics for LST\n",
    "def calculate_stats_per_image(image):\n",
    "    stats = image.select('LST_F').reduceRegion(\n",
    "        reducer=ee.Reducer.mean()\n",
    "            .combine(ee.Reducer.min(), sharedInputs=True)\n",
    "            .combine(ee.Reducer.max(), sharedInputs=True)\n",
    "            .combine(ee.Reducer.stdDev(), sharedInputs=True),\n",
    "        geometry=ee_silver_city,\n",
    "        scale=30,\n",
    "        maxPixels=1e8,\n",
    "        bestEffort=True\n",
    "    )\n",
    "    return image.set(stats)"
   ]
  },
  {
   "cell_type": "code",
   "execution_count": 32,
   "metadata": {},
   "outputs": [
    {
     "data": {
      "text/html": [
       "\n",
       "            <style>\n",
       "                .geemap-dark {\n",
       "                    --jp-widgets-color: white;\n",
       "                    --jp-widgets-label-color: white;\n",
       "                    --jp-ui-font-color1: white;\n",
       "                    --jp-layout-color2: #454545;\n",
       "                    background-color: #383838;\n",
       "                }\n",
       "\n",
       "                .geemap-dark .jupyter-button {\n",
       "                    --jp-layout-color3: #383838;\n",
       "                }\n",
       "\n",
       "                .geemap-colab {\n",
       "                    background-color: var(--colab-primary-surface-color, white);\n",
       "                }\n",
       "\n",
       "                .geemap-colab .jupyter-button {\n",
       "                    --jp-layout-color3: var(--colab-primary-surface-color, white);\n",
       "                }\n",
       "            </style>\n",
       "            "
      ],
      "text/plain": [
       "<IPython.core.display.HTML object>"
      ]
     },
     "metadata": {},
     "output_type": "display_data"
    }
   ],
   "source": [
    "\"\"\" def calculate_stats_per_image(image):\n",
    "    stats = image.select('LST_F').reduceRegion(\n",
    "        reducer=ee.Reducer.mean()\n",
    "            .combine(ee.Reducer.min(), sharedInputs=True)\n",
    "            .combine(ee.Reducer.max(), sharedInputs=True)\n",
    "            .combine(ee.Reducer.stdDev(), sharedInputs=True),\n",
    "        geometry=ee_silver_city,\n",
    "        scale=30,\n",
    "        maxPixels=1e8,\n",
    "        bestEffort=True\n",
    "    )\n",
    "    \n",
    "    # Check if stats are missing\n",
    "    valid = stats.contains('LST_F')\n",
    "    \n",
    "    return image.set(stats).set({'valid': valid}) \"\"\"\n"
   ]
  },
  {
   "cell_type": "code",
   "execution_count": 36,
   "metadata": {},
   "outputs": [
    {
     "data": {
      "text/html": [
       "\n",
       "            <style>\n",
       "                .geemap-dark {\n",
       "                    --jp-widgets-color: white;\n",
       "                    --jp-widgets-label-color: white;\n",
       "                    --jp-ui-font-color1: white;\n",
       "                    --jp-layout-color2: #454545;\n",
       "                    background-color: #383838;\n",
       "                }\n",
       "\n",
       "                .geemap-dark .jupyter-button {\n",
       "                    --jp-layout-color3: #383838;\n",
       "                }\n",
       "\n",
       "                .geemap-colab {\n",
       "                    background-color: var(--colab-primary-surface-color, white);\n",
       "                }\n",
       "\n",
       "                .geemap-colab .jupyter-button {\n",
       "                    --jp-layout-color3: var(--colab-primary-surface-color, white);\n",
       "                }\n",
       "            </style>\n",
       "            "
      ],
      "text/plain": [
       "<IPython.core.display.HTML object>"
      ]
     },
     "metadata": {},
     "output_type": "display_data"
    }
   ],
   "source": [
    "# Apply the function to each image in the collection to get per-image statistics\n",
    "stats_per_image = processed_collection.map(calculate_stats_per_image)"
   ]
  },
  {
   "cell_type": "code",
   "execution_count": null,
   "metadata": {},
   "outputs": [],
   "source": [
    "\"\"\" valid_stats_count = stats_per_image.aggregate_sum('valid').getInfo()\n",
    "print(f\"\\nValid per-image statistics extracted: {valid_stats_count} out of {processed_collection.size().getInfo()}\") \"\"\"\n"
   ]
  },
  {
   "cell_type": "code",
   "execution_count": 38,
   "metadata": {},
   "outputs": [
    {
     "data": {
      "text/html": [
       "\n",
       "            <style>\n",
       "                .geemap-dark {\n",
       "                    --jp-widgets-color: white;\n",
       "                    --jp-widgets-label-color: white;\n",
       "                    --jp-ui-font-color1: white;\n",
       "                    --jp-layout-color2: #454545;\n",
       "                    background-color: #383838;\n",
       "                }\n",
       "\n",
       "                .geemap-dark .jupyter-button {\n",
       "                    --jp-layout-color3: #383838;\n",
       "                }\n",
       "\n",
       "                .geemap-colab {\n",
       "                    background-color: var(--colab-primary-surface-color, white);\n",
       "                }\n",
       "\n",
       "                .geemap-colab .jupyter-button {\n",
       "                    --jp-layout-color3: var(--colab-primary-surface-color, white);\n",
       "                }\n",
       "            </style>\n",
       "            "
      ],
      "text/plain": [
       "<IPython.core.display.HTML object>"
      ]
     },
     "metadata": {},
     "output_type": "display_data"
    }
   ],
   "source": [
    "# Extract individual statistics\n",
    "dates = stats_per_image.aggregate_array('system:time_start').getInfo()\n",
    "means = stats_per_image.aggregate_array('LST_F_mean').getInfo()\n",
    "mins = stats_per_image.aggregate_array('LST_F_min').getInfo()\n",
    "maxs = stats_per_image.aggregate_array('LST_F_max').getInfo()\n",
    "std_devs = stats_per_image.aggregate_array('LST_F_stdDev').getInfo()\n"
   ]
  },
  {
   "cell_type": "code",
   "execution_count": 39,
   "metadata": {},
   "outputs": [
    {
     "data": {
      "text/html": [
       "\n",
       "            <style>\n",
       "                .geemap-dark {\n",
       "                    --jp-widgets-color: white;\n",
       "                    --jp-widgets-label-color: white;\n",
       "                    --jp-ui-font-color1: white;\n",
       "                    --jp-layout-color2: #454545;\n",
       "                    background-color: #383838;\n",
       "                }\n",
       "\n",
       "                .geemap-dark .jupyter-button {\n",
       "                    --jp-layout-color3: #383838;\n",
       "                }\n",
       "\n",
       "                .geemap-colab {\n",
       "                    background-color: var(--colab-primary-surface-color, white);\n",
       "                }\n",
       "\n",
       "                .geemap-colab .jupyter-button {\n",
       "                    --jp-layout-color3: var(--colab-primary-surface-color, white);\n",
       "                }\n",
       "            </style>\n",
       "            "
      ],
      "text/plain": [
       "<IPython.core.display.HTML object>"
      ]
     },
     "metadata": {},
     "output_type": "display_data"
    },
    {
     "name": "stdout",
     "output_type": "stream",
     "text": [
      "Per-image LST statistics:\n",
      "Date: 2019-05-29, Mean LST: 107.4442826098656, Min LST: 92.907896792, Max LST: 118.18210388000001, StdDev LST: 3.657930218955513\n",
      "Date: 2019-06-30, Mean LST: 124.20624806924556, Min LST: 108.75041949199999, Max LST: 135.31663814000007, StdDev LST: 3.4601602319195486\n",
      "Date: 2019-08-01, Mean LST: 108.00379542894692, Min LST: 59.586303416000035, Max LST: 120.30469429999997, StdDev LST: 5.578359069308231\n",
      "Date: 2019-09-02, Mean LST: 111.80885668077158, Min LST: 94.49522528, Max LST: 123.75621089600007, StdDev LST: 4.1393718623595674\n",
      "Date: 2019-09-18, Mean LST: 93.54411417780041, Min LST: 53.987586656000104, Max LST: 110.66997952400011, StdDev LST: 8.446809441343083\n",
      "Date: 2020-05-15, Mean LST: 109.37858105714507, Min LST: 96.42709018400001, Max LST: 121.32599867600008, StdDev LST: 3.496407894132101\n",
      "Date: 2020-05-31, Mean LST: 115.52349747812063, Min LST: 102.05041668800003, Max LST: 125.52196002800001, StdDev LST: 3.0862260725390875\n",
      "Date: 2020-06-16, Mean LST: 110.29291739983194, Min LST: 97.56529084400002, Max LST: 123.89771692400004, StdDev LST: 4.338405768489452\n",
      "Date: 2020-08-03, Mean LST: 123.69541248134668, Min LST: 106.264835348, Max LST: 134.51682146000002, StdDev LST: 4.460602261696469\n",
      "Date: 2020-08-19, Mean LST: 119.81885298344508, Min LST: 104.74518365600011, Max LST: 130.757683064, StdDev LST: 3.800216789422212\n",
      "Date: 2020-09-04, Mean LST: 116.41927900001151, Min LST: 102.72718464800005, Max LST: 126.3525388880001, StdDev LST: 3.303959277136313\n",
      "Date: 2020-09-20, Mean LST: 102.81432239068998, Min LST: 90.11469084800008, Max LST: 113.38320380000003, StdDev LST: 3.5506514244601055\n",
      "Date: 2021-05-02, Mean LST: 103.74988569434248, Min LST: 92.60642742800002, Max LST: 115.4012028080001, StdDev LST: 3.248305713052552\n",
      "Date: 2021-06-03, Mean LST: 121.70709959578454, Min LST: 107.04004228400007, Max LST: 132.86181617600002, StdDev LST: 3.886676790926998\n",
      "Date: 2021-06-19, Mean LST: 134.93545447635262, Min LST: 116.48403154400008, Max LST: 148.10755258400002, StdDev LST: 4.0299010849301435\n",
      "Date: 2021-07-21, Mean LST: 114.64650206706928, Min LST: 100.94297820800006, Max LST: 129.87788471600004, StdDev LST: 5.249262589730025\n",
      "Date: 2021-08-06, Mean LST: 109.25159437089297, Min LST: 93.10477474400008, Max LST: 123.89771692400004, StdDev LST: 6.11012723657465\n",
      "Date: 2021-08-22, Mean LST: 103.72187635236455, Min LST: 92.95711627999998, Max LST: 120.98146226000009, StdDev LST: 4.896686329181433\n",
      "Date: 2021-09-07, Mean LST: 104.71949419950782, Min LST: 91.75123882400005, Max LST: 118.60046952800008, StdDev LST: 4.217154061693012\n",
      "Date: 2022-05-05, Mean LST: 108.72925346965609, Min LST: 95.024334776, Max LST: 120.46465763599997, StdDev LST: 3.7163933268067963\n",
      "Date: 2022-05-21, Mean LST: 113.9172956846926, Min LST: 96.69164493200002, Max LST: 124.68522873200008, StdDev LST: 3.7665296686454757\n",
      "Date: 2022-06-06, Mean LST: 122.85307528959358, Min LST: 104.10533031200008, Max LST: 132.68339553199996, StdDev LST: 3.3486092040481354\n",
      "Date: 2022-07-08, Mean LST: 119.16145631506107, Min LST: 104.28375095600002, Max LST: 133.6800901640001, StdDev LST: 4.531093971849577\n",
      "Date: 2022-09-10, Mean LST: 105.87673421860983, Min LST: 92.50798845199998, Max LST: 116.42865962000006, StdDev LST: 3.774591251825756\n",
      "Date: 2023-05-08, Mean LST: 109.7610627939146, Min LST: 96.40863287600007, Max LST: 120.600011228, StdDev LST: 3.8119285717664404\n",
      "Date: 2023-05-24, Mean LST: 110.13587866626322, Min LST: 96.77777903600007, Max LST: 123.33784524800011, StdDev LST: 4.207312410807471\n",
      "Date: 2023-06-25, Mean LST: 124.0302100285871, Min LST: 106.84931676800002, Max LST: 133.20635259200003, StdDev LST: 3.3115506817191798\n",
      "Date: 2023-07-27, Mean LST: 134.14270889578705, Min LST: 117.0439032200001, Max LST: 145.48046241200004, StdDev LST: 4.07721532255205\n",
      "Date: 2023-09-29, Mean LST: 103.57834776711454, Min LST: 80.953713644, Max LST: 112.66952122400004, StdDev LST: 3.424828586986631\n",
      "Date: 2024-05-10, Mean LST: 105.31507945114245, Min LST: 93.47392090400008, Max LST: 116.07181833200006, StdDev LST: 3.161819988833452\n",
      "Date: 2024-05-26, Mean LST: 111.60751140572106, Min LST: 97.60220546000009, Max LST: 121.4859620120001, StdDev LST: 3.5139380888203555\n",
      "Date: 2024-06-11, Mean LST: 123.28083196396128, Min LST: 109.21800462800003, Max LST: 133.91388273200008, StdDev LST: 3.5904817500262856\n",
      "Date: 2024-07-13, Mean LST: 115.3136878892744, Min LST: 101.213685392, Max LST: 125.78036233999997, StdDev LST: 3.6544212158259\n",
      "Date: 2024-08-14, Mean LST: 109.72546158441422, Min LST: 41.8611353, Max LST: 125.26355771600007, StdDev LST: 12.329275718692667\n",
      "Date: 2024-08-30, Mean LST: 98.50870932919304, Min LST: 86.8908143840001, Max LST: 112.35574698800006, StdDev LST: 4.420558555334869\n"
     ]
    }
   ],
   "source": [
    "# Print per-image statistics\n",
    "print(\"Per-image LST statistics:\")\n",
    "for date, mean, min_, max_, std_dev in zip(dates, means, mins, maxs, std_devs):\n",
    "    formatted_date = ee.Date(date).format(\"YYYY-MM-dd\").getInfo()\n",
    "    print(f\"Date: {formatted_date}, Mean LST: {mean}, Min LST: {min_}, Max LST: {max_}, StdDev LST: {std_dev}\")"
   ]
  },
  {
   "cell_type": "code",
   "execution_count": 40,
   "metadata": {},
   "outputs": [
    {
     "data": {
      "text/html": [
       "\n",
       "            <style>\n",
       "                .geemap-dark {\n",
       "                    --jp-widgets-color: white;\n",
       "                    --jp-widgets-label-color: white;\n",
       "                    --jp-ui-font-color1: white;\n",
       "                    --jp-layout-color2: #454545;\n",
       "                    background-color: #383838;\n",
       "                }\n",
       "\n",
       "                .geemap-dark .jupyter-button {\n",
       "                    --jp-layout-color3: #383838;\n",
       "                }\n",
       "\n",
       "                .geemap-colab {\n",
       "                    background-color: var(--colab-primary-surface-color, white);\n",
       "                }\n",
       "\n",
       "                .geemap-colab .jupyter-button {\n",
       "                    --jp-layout-color3: var(--colab-primary-surface-color, white);\n",
       "                }\n",
       "            </style>\n",
       "            "
      ],
      "text/plain": [
       "<IPython.core.display.HTML object>"
      ]
     },
     "metadata": {},
     "output_type": "display_data"
    },
    {
     "name": "stdout",
     "output_type": "stream",
     "text": [
      "\n",
      "Overall Collection Statistics:\n",
      "Min LST: {'LST_F_min': 90.34954365631643}\n",
      "Max LST: {'LST_F_max': 135.50139294700983}\n",
      "StdDev LST: {'LST_F_stdDev': 9.66952732669877}\n"
     ]
    }
   ],
   "source": [
    "# Calculate overall statistics for the entire collection (min, max, stdDev)\n",
    "collection_min = processed_collection.select('LST_F').reduce(ee.Reducer.min()).reduceRegion(\n",
    "    reducer=ee.Reducer.mean(),\n",
    "    geometry=ee_silver_city,\n",
    "    scale=30,\n",
    "    maxPixels=1e8,\n",
    "    bestEffort=True\n",
    ").getInfo()\n",
    "\n",
    "collection_max = processed_collection.select('LST_F').reduce(ee.Reducer.max()).reduceRegion(\n",
    "    reducer=ee.Reducer.mean(),\n",
    "    geometry=ee_silver_city,\n",
    "    scale=30,\n",
    "    maxPixels=1e8,\n",
    "    bestEffort=True\n",
    ").getInfo()\n",
    "\n",
    "collection_stddev = processed_collection.select('LST_F').reduce(ee.Reducer.stdDev()).reduceRegion(\n",
    "    reducer=ee.Reducer.mean(),\n",
    "    geometry=ee_silver_city,\n",
    "    scale=30,\n",
    "    maxPixels=1e8,\n",
    "    bestEffort=True\n",
    ").getInfo()\n",
    "\n",
    "# Print overall statistics\n",
    "print(\"\\nOverall Collection Statistics:\")\n",
    "print(f\"Min LST: {collection_min}\")\n",
    "print(f\"Max LST: {collection_max}\")\n",
    "print(f\"StdDev LST: {collection_stddev}\")"
   ]
  },
  {
   "cell_type": "code",
   "execution_count": null,
   "metadata": {},
   "outputs": [],
   "source": []
  },
  {
   "cell_type": "markdown",
   "metadata": {},
   "source": [
    "Per-Image Standard Deviation: For each image, the standard deviation shows the variability of LST across the Hurley area at a specific time. A low standard deviation means the temperatures are relatively uniform across the region, while a high standard deviation suggests there are large differences in temperature within that image, perhaps due to mixed land covers or varying microclimates.\n",
    "\n",
    "Overall Collection Standard Deviation: When calculated across the entire collection, the standard deviation reflects how much the mean LST changes over time. A low value indicates that the temperatures are fairly stable across the whole period, while a high standard deviation suggests significant temperature changes over time, such as seasonal variations or extreme weather events."
   ]
  },
  {
   "cell_type": "code",
   "execution_count": 41,
   "metadata": {},
   "outputs": [
    {
     "data": {
      "text/html": [
       "\n",
       "            <style>\n",
       "                .geemap-dark {\n",
       "                    --jp-widgets-color: white;\n",
       "                    --jp-widgets-label-color: white;\n",
       "                    --jp-ui-font-color1: white;\n",
       "                    --jp-layout-color2: #454545;\n",
       "                    background-color: #383838;\n",
       "                }\n",
       "\n",
       "                .geemap-dark .jupyter-button {\n",
       "                    --jp-layout-color3: #383838;\n",
       "                }\n",
       "\n",
       "                .geemap-colab {\n",
       "                    background-color: var(--colab-primary-surface-color, white);\n",
       "                }\n",
       "\n",
       "                .geemap-colab .jupyter-button {\n",
       "                    --jp-layout-color3: var(--colab-primary-surface-color, white);\n",
       "                }\n",
       "            </style>\n",
       "            "
      ],
      "text/plain": [
       "<IPython.core.display.HTML object>"
      ]
     },
     "metadata": {},
     "output_type": "display_data"
    },
    {
     "data": {
      "image/png": "[encoded data removed]",
      "text/plain": [
       "<Figure size 1400x800 with 1 Axes>"
      ]
     },
     "metadata": {},
     "output_type": "display_data"
    }
   ],
   "source": [
    "# Create the DataFrame\n",
    "data = {\n",
    "    'Date': [ee.Date(date).format(\"YYYY-MM-dd\").getInfo() for date in dates],\n",
    "    'Mean_LST': means,\n",
    "    'Min_LST': mins,\n",
    "    'Max_LST': maxs,\n",
    "    'StdDev_LST': std_devs\n",
    "}\n",
    "df = pd.DataFrame(data)\n",
    "df['Date'] = pd.to_datetime(df['Date'])\n",
    "\n",
    "# Overall collection statistics\n",
    "overall_min = 90.35\n",
    "overall_max =  135.50  \n",
    "overall_std_dev = 9.67\n",
    "overall_mean =  112.90\n",
    "\n",
    "# Set up the scatter plot\n",
    "plt.figure(figsize=(14, 8))\n",
    "sns.scatterplot(x='Date', y='Mean_LST', data=df, color='blue', label='Mean LST')\n",
    "\n",
    "# Add error bars for standard deviation\n",
    "plt.errorbar(df['Date'], df['Mean_LST'], yerr=df['StdDev_LST'], fmt='o', ecolor='gray', alpha=0.5, capsize=3)\n",
    "\n",
    "# Add shaded area for Min-Max range\n",
    "plt.fill_between(df['Date'], df['Min_LST'], df['Max_LST'], color='blue', alpha=0.2, label='Min-Max Range')\n",
    "\n",
    "# Add overall statistics as horizontal lines\n",
    "plt.axhline(overall_min, color='green', linestyle='--', label=f'average of the Min LST: {overall_min:.2f} °F')\n",
    "plt.axhline(overall_max, color='red', linestyle='--', label=f'average of the Max LST: {overall_max:.2f} °F')\n",
    "plt.axhline(overall_mean, color='orange', linestyle='--', label=f'average of the Mean LST: {overall_mean:.2f} °F')\n",
    "plt.axhline(overall_mean + overall_std_dev, color='purple', linestyle='--', alpha=0.5, label=f'average of the Mean ± Std Dev({overall_std_dev})')\n",
    "plt.axhline(overall_mean - overall_std_dev, color='purple', linestyle='--', alpha=0.5)\n",
    "\n",
    "# Customize the plot\n",
    "plt.xlabel('Date')\n",
    "plt.ylabel('LST (°F)')\n",
    "plt.title('Land Surface Temperature (LST) in Silver City, NM Over Time')\n",
    "plt.legend()\n",
    "plt.grid(True)\n",
    "plt.xticks(rotation=45)\n",
    "plt.tight_layout()\n",
    "\n",
    "# Show the plot\n",
    "plt.show()"
   ]
  },
  {
   "cell_type": "code",
   "execution_count": null,
   "metadata": {},
   "outputs": [],
   "source": [
    "\"\"\" # Compute the long-term baseline (mean of all images in the collection)\n",
    "baseline = processed_collection.mean()\n",
    "\n",
    "# Function to calculate the anomaly for each image\n",
    "def calculate_anomaly(image):\n",
    "    anomaly = image.select('LST_F').subtract(baseline.select('LST_F'))  # Subtract baseline pixel by pixel\n",
    "    return image.addBands(anomaly.rename('LST_Anomaly'))  # Add anomaly as a new band\n",
    "\n",
    "# Map the anomaly calculation across the processed collection\n",
    "anomaly_collection = processed_collection.map(calculate_anomaly)\n",
    "\n",
    "# Visualization parameters for anomalies\n",
    "anomaly_vis_params = {\n",
    "    'min': -20,  # Adjust based on expected range of anomalies\n",
    "    'max': 20,\n",
    "    'palette': ['blue', 'white', 'red'],  # Blue for cooler, red for warmer\n",
    "}\n",
    "\n",
    "# Add the mean anomaly layer to the map\n",
    "Map = geemap.Map()\n",
    "Map.center_object(ee_hurley, 12)\n",
    "\n",
    "# Visualize mean anomaly across the collection\n",
    "mean_anomaly = anomaly_collection.select('LST_Anomaly').mean()\n",
    "Map.addLayer(mean_anomaly, anomaly_vis_params, 'Mean Temperature Anomaly')\n",
    "Map.addLayer(ee_hurley, {}, 'Hurley Boundary')\n",
    "Map\n",
    " \"\"\""
   ]
  },
  {
   "cell_type": "code",
   "execution_count": null,
   "metadata": {},
   "outputs": [],
   "source": [
    "\"\"\" # Set up export parameters\n",
    "export_task = ee.batch.Export.image.toDrive(\n",
    "    image=mean_anomaly.select('LST_Anomaly'),  # Select the LST band\n",
    "    description='Hurley_LST_Anomaly',\n",
    "    folder='lst',  # Optional: specify a folder in Google Drive\n",
    "    fileNamePrefix='Hurley_LST_Anomaly',\n",
    "    region=ee_hurley,\n",
    "    scale=30,\n",
    "    crs='EPSG:4326',  # 'EPSG:32612',  # Use UTM Zone 12N to match the Hurley vectors\n",
    "    maxPixels=1e13\n",
    ")\n",
    "\n",
    "# Start the export task\n",
    "export_task.start()\n",
    "print(\"Exporting LST_Anomaly to Google Drive...\") \"\"\""
   ]
  },
  {
   "cell_type": "markdown",
   "metadata": {},
   "source": [
    "Hurley Area"
   ]
  },
  {
   "cell_type": "code",
   "execution_count": null,
   "metadata": {},
   "outputs": [],
   "source": [
    "(1874540.995237139 + 385529.09372809314)"
   ]
  },
  {
   "cell_type": "code",
   "execution_count": null,
   "metadata": {},
   "outputs": [],
   "source": [
    "2260070.088965232/4046.85642"
   ]
  },
  {
   "cell_type": "code",
   "execution_count": null,
   "metadata": {},
   "outputs": [],
   "source": [
    "558.4754818074895"
   ]
  },
  {
   "cell_type": "markdown",
   "metadata": {},
   "source": [
    "SC AREA"
   ]
  },
  {
   "cell_type": "code",
   "execution_count": null,
   "metadata": {},
   "outputs": [],
   "source": [
    "2787514.188/4046.85642"
   ]
  },
  {
   "cell_type": "markdown",
   "metadata": {},
   "source": [
    "Lordsburg Area"
   ]
  },
  {
   "cell_type": "code",
   "execution_count": null,
   "metadata": {},
   "outputs": [],
   "source": [
    "4747221.320008123/4046.85642"
   ]
  }
 ],
 "metadata": {
  "kernelspec": {
   "display_name": "dev_env",
   "language": "python",
   "name": "python3"
  },
  "language_info": {
   "codemirror_mode": {
    "name": "ipython",
    "version": 3
   },
   "file_extension": ".py",
   "mimetype": "text/x-python",
   "name": "python",
   "nbconvert_exporter": "python",
   "pygments_lexer": "ipython3",
   "version": "3.12.3"
  }
 },
 "nbformat": 4,
 "nbformat_minor": 2
}
