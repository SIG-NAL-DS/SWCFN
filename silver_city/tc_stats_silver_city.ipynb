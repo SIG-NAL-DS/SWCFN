{
 "cells": [
  {
   "cell_type": "code",
   "execution_count": 1,
   "metadata": {},
   "outputs": [],
   "source": [
    "import rasterio\n",
    "import numpy as np\n",
    "import geopandas as gpd\n",
    "import pandas as pd\n",
    "from rasterstats import zonal_stats\n",
    "import seaborn as sns\n",
    "import matplotlib.pyplot as plt\n",
    "from rasterio.warp import calculate_default_transform, reproject, Resampling\n",
    "from rasterstats import point_query\n",
    "from rasterio.features import geometry_mask\n",
    "\n"
   ]
  },
  {
   "cell_type": "code",
   "execution_count": 2,
   "metadata": {},
   "outputs": [],
   "source": [
    "# Define file path and canopy height threshold\n",
    "file_path = r\"C:\\Users\\bsf31\\Documents\\data\\NM\\meta\\mod_nodata\\canopy_height_silver_city_2023.tif\"\n",
    "canopy_threshold = 2  # Minimum height in meters for a pixel to be considered canopy"
   ]
  },
  {
   "cell_type": "code",
   "execution_count": 3,
   "metadata": {},
   "outputs": [],
   "source": [
    "src_file = r\"C:\\Users\\bsf31\\Documents\\data\\NM\\meta\\mod_nodata\\canopy_height_silver_city_2023.tif\"\n",
    "dst_file = r\"C:\\Users\\bsf31\\Documents\\data\\NM\\meta\\mod_nodata\\canopy_height_silver_city_2023_reprojected.tif\"\n",
    "dst_crs = 'EPSG:32612'  # UTM Zone 12N \n"
   ]
  },
  {
   "cell_type": "code",
   "execution_count": null,
   "metadata": {},
   "outputs": [],
   "source": [
    "\"\"\" # Reproject the raster\n",
    "with rasterio.open(src_file) as src:\n",
    "    transform, width, height = calculate_default_transform(\n",
    "        src.crs, dst_crs, src.width, src.height, *src.bounds)\n",
    "    kwargs = src.meta.copy()\n",
    "    kwargs.update({\n",
    "        'crs': dst_crs,\n",
    "        'transform': transform,\n",
    "        'width': width,\n",
    "        'height': height\n",
    "    })\n",
    "\n",
    "    with rasterio.open(dst_file, 'w', **kwargs) as dst:\n",
    "        for i in range(1, src.count + 1):\n",
    "            reproject(\n",
    "                source=rasterio.band(src, i),\n",
    "                destination=rasterio.band(dst, i),\n",
    "                src_transform=src.transform,\n",
    "                src_crs=src.crs,\n",
    "                dst_transform=transform,\n",
    "                dst_crs=dst_crs,\n",
    "                resampling=Resampling.nearest)\n",
    "\n",
    "print(\"Reprojection complete.\") \"\"\""
   ]
  },
  {
   "cell_type": "code",
   "execution_count": 5,
   "metadata": {},
   "outputs": [],
   "source": [
    "# Open the raster file\n",
    "with rasterio.open(dst_file) as src:\n",
    "    canopy_data = src.read(1)  # Read the first band\n",
    "    pixel_area = src.res[0] * src.res[1]  # Area of each pixel in square meters"
   ]
  },
  {
   "cell_type": "code",
   "execution_count": null,
   "metadata": {},
   "outputs": [],
   "source": [
    "pixel_area"
   ]
  },
  {
   "cell_type": "code",
   "execution_count": null,
   "metadata": {},
   "outputs": [],
   "source": [
    "with rasterio.open(dst_file) as src:\n",
    "    print(\"Resolution:\", src.res)"
   ]
  },
  {
   "cell_type": "code",
   "execution_count": 8,
   "metadata": {},
   "outputs": [],
   "source": [
    "# Mask canopy pixels above threshold\n",
    "canopy_mask = canopy_data > canopy_threshold"
   ]
  },
  {
   "cell_type": "code",
   "execution_count": 9,
   "metadata": {},
   "outputs": [],
   "source": [
    "# Calculate the total area of canopy cover\n",
    "canopy_area = np.sum(canopy_mask) * pixel_area  # Area in square meters\n",
    "canopy_area_hectares = canopy_area / 10000  # Convert to hectares"
   ]
  },
  {
   "cell_type": "code",
   "execution_count": 10,
   "metadata": {},
   "outputs": [],
   "source": [
    "canopy_heights = canopy_data[canopy_mask]  # Extract heights where canopy exists\n",
    "mean_height = np.mean(canopy_heights)\n",
    "median_height = np.median(canopy_heights)\n",
    "min_height = np.min(canopy_heights)\n",
    "max_height = np.max(canopy_heights)\n",
    "std_dev_height = np.std(canopy_heights)"
   ]
  },
  {
   "cell_type": "code",
   "execution_count": null,
   "metadata": {},
   "outputs": [],
   "source": [
    "print(f\"Total Canopy Area: {canopy_area:.2f} square meters ({canopy_area_hectares:.2f} hectares)\")\n",
    "print(\"Canopy Height Statistics:\")\n",
    "print(f\"Mean Height: {mean_height:.2f} meters\")\n",
    "print(f\"Median Height: {median_height:.2f} meters\")\n",
    "print(f\"Minimum Height: {min_height:.2f} meters\")\n",
    "print(f\"Maximum Height: {max_height:.2f} meters\")\n",
    "print(f\"Standard Deviation of Height: {std_dev_height:.2f} meters\")"
   ]
  },
  {
   "cell_type": "code",
   "execution_count": 12,
   "metadata": {},
   "outputs": [],
   "source": [
    "nm_path = r\"C:\\Users\\bsf31\\Documents\\data\\NM\\nm_vector.gpkg\"\n",
    "silver_city_gdf = gpd.read_file(nm_path, layer='silver_city_qgis')"
   ]
  },
  {
   "cell_type": "code",
   "execution_count": null,
   "metadata": {},
   "outputs": [],
   "source": [
    "silver_city_gdf"
   ]
  },
  {
   "cell_type": "code",
   "execution_count": 14,
   "metadata": {},
   "outputs": [],
   "source": [
    "def canopy_area(arr, mask):\n",
    "    # Use np.isfinite to ensure no nodata values in the calculation\n",
    "    valid_data = np.isfinite(arr) & (arr > canopy_threshold)\n",
    "    return np.sum(valid_data) * pixel_area"
   ]
  },
  {
   "cell_type": "code",
   "execution_count": 15,
   "metadata": {},
   "outputs": [],
   "source": [
    "# Calculate zonal statistics for each polygon in hurley_gdf\n",
    "stats = zonal_stats(\n",
    "    silver_city_gdf,\n",
    "    dst_file,\n",
    "    stats=[\"mean\", \"median\", \"min\", \"max\", \"std\"],\n",
    "    add_stats={'area': canopy_area},\n",
    "    prefix=\"canopy_\"\n",
    ")"
   ]
  },
  {
   "cell_type": "code",
   "execution_count": null,
   "metadata": {},
   "outputs": [],
   "source": [
    "stats"
   ]
  },
  {
   "cell_type": "code",
   "execution_count": 17,
   "metadata": {},
   "outputs": [],
   "source": [
    "zonal_df = pd.DataFrame(stats)\n",
    "\n"
   ]
  },
  {
   "cell_type": "code",
   "execution_count": null,
   "metadata": {},
   "outputs": [],
   "source": [
    "zonal_df"
   ]
  },
  {
   "cell_type": "code",
   "execution_count": 19,
   "metadata": {},
   "outputs": [],
   "source": [
    "silver_city_gdf = silver_city_gdf.join(zonal_df)\n"
   ]
  },
  {
   "cell_type": "code",
   "execution_count": null,
   "metadata": {},
   "outputs": [],
   "source": [
    "silver_city_gdf"
   ]
  },
  {
   "cell_type": "code",
   "execution_count": 21,
   "metadata": {},
   "outputs": [],
   "source": [
    "# Group by 'temp_name' to get aggregated canopy statistics\n",
    "grouped_stats = silver_city_gdf.groupby(\"name\").agg({\n",
    "    'canopy_mean': 'mean',\n",
    "    'canopy_median': 'mean',\n",
    "    'canopy_min': 'min',\n",
    "    'canopy_max': 'max',\n",
    "    'canopy_std': 'mean',\n",
    "    'canopy_area': 'sum'\n",
    "}).reset_index()"
   ]
  },
  {
   "cell_type": "code",
   "execution_count": null,
   "metadata": {},
   "outputs": [],
   "source": [
    "print(grouped_stats)"
   ]
  },
  {
   "cell_type": "code",
   "execution_count": null,
   "metadata": {},
   "outputs": [],
   "source": [
    "sns.barplot(x='name', y='canopy_area', data=grouped_stats)\n",
    "plt.title('Total Canopy Area by Region')\n",
    "plt.xlabel('Region')\n",
    "plt.ylabel('Canopy Area (m²)')\n",
    "plt.show()"
   ]
  },
  {
   "cell_type": "code",
   "execution_count": null,
   "metadata": {},
   "outputs": [],
   "source": [
    "sns.histplot(canopy_heights, bins=20, kde=True)\n",
    "plt.title('Distribution of Canopy Heights')\n",
    "plt.xlabel('Canopy Height (m)')\n",
    "plt.ylabel('Frequency')\n",
    "plt.show()\n"
   ]
  },
  {
   "cell_type": "code",
   "execution_count": null,
   "metadata": {},
   "outputs": [],
   "source": [
    "# %% Calculate total area for Hurley and North Hurley\n",
    "silver_city_gdf['total_area'] = silver_city_gdf.geometry.area  # Area in square meters\n",
    "total_area_hurley = silver_city_gdf.loc[silver_city_gdf['name'] == 'Hurley', 'total_area'].sum()\n",
    "total_area_north_hurley = silver_city_gdf.loc[silver_city_gdf['name'] == 'North Hurley', 'total_area'].sum()\n",
    "\n",
    "# %% Canopy Cover Percent for Each Region\n",
    "silver_city_gdf['canopy_cover_percent'] = (silver_city_gdf['canopy_area'] / silver_city_gdf['total_area']) * 100\n",
    "silver_city_gdf"
   ]
  },
  {
   "cell_type": "markdown",
   "metadata": {},
   "source": [
    "place\t        _count\t_sum\t_mean\t            _stdev\t            _min\t_max\t_range\n",
    "Hurley\t        156248\t548177\t3.5083777072346525\t2.798738801054911\t1\t    22\t    21\n",
    "North Hurley\t34987\t105295\t3.009546402949667\t2.165890087831071\t1\t    15\t    14"
   ]
  },
  {
   "cell_type": "markdown",
   "metadata": {},
   "source": [
    "temp_name\t_count\t_mean\t_min\t_max\t_range\n",
    "East-South\t87160\t3.509591556\t1\t22\t21\n",
    "Central\t93217\t3.50624886\t1\t16\t15\n",
    "North Hurley\t40343\t3.010063704\t1\t15\t14\n"
   ]
  },
  {
   "cell_type": "code",
   "execution_count": 26,
   "metadata": {},
   "outputs": [],
   "source": [
    "data = {\n",
    "    \"Region\": [\"Silver City\"],\n",
    "    \"Pixel_Count\": [34894965],\n",
    "    \"Mean_Height\": [2.94],\n",
    "    \"Min_Height\": [1],\n",
    "    \"Max_Height\": [21],\n",
    "    \"Range\": [20]\n",
    "}\n",
    "\n",
    "# Convert data to DataFrame\n",
    "df = pd.DataFrame(data)\n",
    "\n",
    "# Calculate canopy area by region (assuming 1m^2 per pixel)\n",
    "df['Canopy_Area_m2'] = df['Pixel_Count'] * 1  # each pixel represents 1m^2\n"
   ]
  },
  {
   "cell_type": "code",
   "execution_count": 27,
   "metadata": {},
   "outputs": [],
   "source": [
    "# Total canopy area\n",
    "total_canopy_area = df['Canopy_Area_m2'].sum()"
   ]
  },
  {
   "cell_type": "code",
   "execution_count": null,
   "metadata": {},
   "outputs": [],
   "source": [
    "# Plotting\n",
    "fig, ax = plt.subplots(2, 1, figsize=(10, 12))\n",
    "\n",
    "# Bar chart for canopy area by region\n",
    "ax[0].bar(df[\"Region\"], df[\"Canopy_Area_m2\"], color='lightgreen')\n",
    "ax[0].set_title(\"Canopy Area by Region\")\n",
    "ax[0].set_ylabel(\"Canopy Area (m²)\")\n",
    "ax[0].set_xlabel(\"Region\")\n",
    "# Line plot for canopy height stats by region\n",
    "ax[1].plot(df[\"Region\"], df[\"Mean_Height\"], marker='o', label='Mean Height (m)')\n",
    "ax[1].plot(df[\"Region\"], df[\"Min_Height\"], marker='o', linestyle='--', label='Min Height (m)')\n",
    "ax[1].plot(df[\"Region\"], df[\"Max_Height\"], marker='o', linestyle='--', label='Max Height (m)')\n",
    "ax[1].fill_between(df[\"Region\"], df[\"Min_Height\"], df[\"Max_Height\"], color='lightblue', alpha=0.3)\n",
    "ax[1].set_title(\"Canopy Height Statistics by Region\")\n",
    "ax[1].set_ylabel(\"Canopy Height (m)\")\n",
    "ax[1].set_xlabel(\"Region\")\n",
    "ax[1].legend()\n",
    "\n",
    "# Display the total canopy area on the plot\n",
    "fig.suptitle(f\"Total Canopy Area: {total_canopy_area} m²(also Canopy pixel count)\", fontsize=14)\n",
    "\n",
    "plt.tight_layout(rect=[0, 0.03, 1, 0.95])\n",
    "plt.show()"
   ]
  },
  {
   "cell_type": "code",
   "execution_count": 29,
   "metadata": {},
   "outputs": [],
   "source": [
    "# %% Calculate total area for Hurley and North Hurley\n",
    "silver_city_gdf['total_area'] = silver_city_gdf.geometry.area  # Area in square meters\n",
    "total_area_hurley = silver_city_gdf.loc[silver_city_gdf['name'] == 'Silver City', 'total_area'].sum()\n",
    "\n",
    "# %% Canopy Cover Percent for Each Region\n",
    "silver_city_gdf['canopy_cover_percent'] = (silver_city_gdf['canopy_area'] / silver_city_gdf['total_area']) * 100\n"
   ]
  },
  {
   "cell_type": "code",
   "execution_count": null,
   "metadata": {},
   "outputs": [],
   "source": [
    "silver_city_gdf"
   ]
  },
  {
   "cell_type": "code",
   "execution_count": null,
   "metadata": {},
   "outputs": [],
   "source": [
    "\n",
    "# %% Helper Function for Understory and Overstory Stats\n",
    "def calculate_region_understory_overstory_stats(geometry, canopy_raster, mask, transform, pixel_area):\n",
    "    \"\"\"Calculate understory and overstory stats for a specific polygon region.\"\"\"\n",
    "    # Create a mask for the region\n",
    "    region_mask = geometry_mask([geometry], transform=transform, invert=True, out_shape=canopy_raster.shape)\n",
    "    combined_mask = region_mask & mask\n",
    "\n",
    "    # Separate understory (1-3m) and overstory (>3m)\n",
    "    understory_mask = (canopy_raster > 1) & (canopy_raster <= 2) & combined_mask\n",
    "    overstory_mask = (canopy_raster > 2) & combined_mask\n",
    "\n",
    "    # Calculate areas\n",
    "    understory_area = np.sum(understory_mask) * pixel_area\n",
    "    overstory_area = np.sum(overstory_mask) * pixel_area\n",
    "\n",
    "    # Region total area\n",
    "    region_area = np.sum(region_mask) * pixel_area\n",
    "\n",
    "    # Percentages\n",
    "    understory_percent = (understory_area / region_area) * 100 if region_area > 0 else 0\n",
    "    overstory_percent = (overstory_area / region_area) * 100 if region_area > 0 else 0\n",
    "\n",
    "    return {\n",
    "        'understory_area': understory_area,\n",
    "        'understory_percent': understory_percent,\n",
    "        'overstory_area': overstory_area,\n",
    "        'overstory_percent': overstory_percent\n",
    "    }\n",
    "\n",
    "# %% Load Data\n",
    "with rasterio.open(dst_file) as src:\n",
    "    canopy_data = src.read(1)\n",
    "    transform = src.transform\n",
    "    pixel_area = src.res[0] * src.res[1]\n",
    "    canopy_mask = canopy_data > 0  # Assume canopy mask is non-zero values\n",
    "\n",
    "# %% Apply Stats Calculation to Each Region\n",
    "stats = []\n",
    "for _, row in silver_city_gdf.iterrows():\n",
    "    stats.append(calculate_region_understory_overstory_stats(\n",
    "        row.geometry, canopy_data, canopy_mask, transform, pixel_area))\n",
    "\n",
    "# Merge stats into GeoDataFrame\n",
    "stats_df = pd.DataFrame(stats)\n",
    "silver_city_gdf = pd.concat([silver_city_gdf, stats_df], axis=1)\n",
    "\n",
    "# %% Calculate Total Canopy Cover Percent\n",
    "silver_city_gdf['canopy_cover_percent'] = (\n",
    "    (silver_city_gdf['understory_area'] + silver_city_gdf['overstory_area']) / silver_city_gdf['total_area']) * 100\n",
    "\n",
    "# %% Summarize by Region\n",
    "summary_stats = silver_city_gdf.groupby('name').agg({\n",
    "    'canopy_cover_percent': 'mean',\n",
    "    'understory_area': 'sum',\n",
    "    'overstory_area': 'sum',\n",
    "    'understory_percent': 'mean',\n",
    "    'overstory_percent': 'mean'\n",
    "}).reset_index()\n",
    "\n",
    "# %% Visualization: Understory and Overstory Percent Cover\n",
    "fig, ax = plt.subplots(figsize=(10, 6))\n",
    "bar_width = 0.35\n",
    "index = np.arange(len(summary_stats))\n",
    "\n",
    "ax.bar(index, summary_stats['understory_percent'], bar_width, label='Understory (1-2m)')\n",
    "ax.bar(index + bar_width, summary_stats['overstory_percent'], bar_width, label='Overstory (>2m)')\n",
    "\n",
    "ax.set_title('Understory and Overstory Percent Cover by Region')\n",
    "ax.set_xlabel('Region')\n",
    "ax.set_ylabel('Percent Cover')\n",
    "ax.set_xticks(index + bar_width / 2)\n",
    "ax.set_xticklabels(summary_stats['name'])\n",
    "ax.legend()\n",
    "\n",
    "plt.tight_layout()\n",
    "plt.show()\n",
    "\n",
    "# %% Print Summary\n",
    "print(summary_stats)\n"
   ]
  },
  {
   "cell_type": "code",
   "execution_count": null,
   "metadata": {},
   "outputs": [],
   "source": [
    "fig, ax = plt.subplots(figsize=(10, 6))\n",
    "bar_width = 0.35\n",
    "index = np.arange(len(summary_stats))\n",
    "\n",
    "# Create the bars\n",
    "understory_bars = ax.bar(index, summary_stats['understory_percent'], bar_width, label='Understory (1-2m)')\n",
    "overstory_bars = ax.bar(index + bar_width, summary_stats['overstory_percent'], bar_width, label='Overstory (>2m)')\n",
    "\n",
    "# Add annotations\n",
    "for bar in understory_bars:\n",
    "    height = bar.get_height()\n",
    "    ax.text(\n",
    "        bar.get_x() + bar.get_width() / 2, height,  # Position text at center of the bar\n",
    "        f\"{height:.1f}%\",  # Format the text\n",
    "        ha='center', va='bottom', fontsize=10  # Alignment and font size\n",
    "    )\n",
    "\n",
    "for bar in overstory_bars:\n",
    "    height = bar.get_height()\n",
    "    ax.text(\n",
    "        bar.get_x() + bar.get_width() / 2, height,\n",
    "        f\"{height:.1f}%\",\n",
    "        ha='center', va='bottom', fontsize=10\n",
    "    )\n",
    "\n",
    "# Set plot labels and title\n",
    "ax.set_title('Understory and Overstory Percent Cover by Region')\n",
    "ax.set_xlabel('Region')\n",
    "ax.set_ylabel('Percent Cover')\n",
    "ax.set_xticks(index + bar_width / 2)\n",
    "ax.set_xticklabels(summary_stats['name'])\n",
    "ax.legend()\n",
    "\n",
    "plt.tight_layout()\n",
    "plt.show()\n"
   ]
  },
  {
   "cell_type": "code",
   "execution_count": null,
   "metadata": {},
   "outputs": [],
   "source": [
    "# %% Print Summary\n",
    "print(summary_stats)"
   ]
  },
  {
   "cell_type": "code",
   "execution_count": null,
   "metadata": {},
   "outputs": [],
   "source": [
    "summary_stats"
   ]
  },
  {
   "cell_type": "code",
   "execution_count": 28,
   "metadata": {},
   "outputs": [],
   "source": [
    "# %% Separate Understory (1-3 meters) and Overstory (>3 meters)\n",
    "def calculate_understory_overstory_stats(raster, mask):\n",
    "    understory_mask = (raster > 1) & (raster <= 3) & mask\n",
    "    overstory_mask = (raster > 3) & mask\n",
    "    \n",
    "    # Understory stats\n",
    "    understory_area = np.sum(understory_mask) * pixel_area\n",
    "    understory_mean = np.mean(raster[understory_mask]) if np.any(understory_mask) else 0\n",
    "    \n",
    "    # Overstory stats\n",
    "    overstory_area = np.sum(overstory_mask) * pixel_area\n",
    "    overstory_mean = np.mean(raster[overstory_mask]) if np.any(overstory_mask) else 0\n",
    "    \n",
    "    return {\n",
    "        'understory_area': understory_area,\n",
    "        'understory_mean': understory_mean,\n",
    "        'overstory_area': overstory_area,\n",
    "        'overstory_mean': overstory_mean\n",
    "    }"
   ]
  },
  {
   "cell_type": "code",
   "execution_count": 29,
   "metadata": {},
   "outputs": [],
   "source": [
    "\n",
    "# Apply function to the entire raster\n",
    "stats_by_layer = calculate_understory_overstory_stats(canopy_data, canopy_mask)"
   ]
  },
  {
   "cell_type": "code",
   "execution_count": null,
   "metadata": {},
   "outputs": [],
   "source": [
    "stats_by_layer"
   ]
  },
  {
   "cell_type": "code",
   "execution_count": null,
   "metadata": {},
   "outputs": [],
   "source": [
    "# %% Calculate Understory and Overstory Stats for Each Polygon\n",
    "def calculate_region_understory_overstory_stats(geometry, canopy_raster, mask, transform):\n",
    "    \"\"\"Calculate understory and overstory stats for a specific polygon region.\"\"\"\n",
    "    # Mask the raster by the geometry\n",
    "    region_mask = rasterio.features.geometry_mask(\n",
    "        [geometry], transform=transform, invert=True, out_shape=canopy_raster.shape)\n",
    "    \n",
    "    combined_mask = region_mask & mask  # Combine with canopy mask\n",
    "    \n",
    "    # Separate understory and overstory\n",
    "    understory_mask = (canopy_raster > 1) & (canopy_raster <= 3) & combined_mask\n",
    "    overstory_mask = (canopy_raster > 3) & combined_mask\n",
    "    \n",
    "    # Calculate areas\n",
    "    understory_area = np.sum(understory_mask) * pixel_area\n",
    "    overstory_area = np.sum(overstory_mask) * pixel_area\n",
    "    \n",
    "    # Percentages (relative to the region area)\n",
    "    region_area = np.sum(region_mask) * pixel_area\n",
    "    understory_percent = (understory_area / region_area) * 100 if region_area > 0 else 0\n",
    "    overstory_percent = (overstory_area / region_area) * 100 if region_area > 0 else 0\n",
    "    \n",
    "    return {\n",
    "        'understory_area': understory_area,\n",
    "        'understory_percent': understory_percent,\n",
    "        'overstory_area': overstory_area,\n",
    "        'overstory_percent': overstory_percent\n",
    "    }\n",
    "\n",
    "# %% Apply Stats Calculation to Each Region in the GeoDataFrame\n",
    "with rasterio.open(dst_file) as src:\n",
    "    canopy_data = src.read(1)\n",
    "    transform = src.transform\n",
    "\n",
    "    stats = []\n",
    "    for _, row in silver_city_gdf.iterrows():\n",
    "        stats.append(calculate_region_understory_overstory_stats(\n",
    "            row.geometry, canopy_data, canopy_mask, transform))\n",
    "\n",
    "# Convert stats to a DataFrame and merge with GeoDataFrame\n",
    "stats_df = pd.DataFrame(stats)\n",
    "silver_city_gdf = pd.concat([silver_city_gdf, stats_df], axis=1)\n",
    "\n",
    "# %% Recalculate Canopy Cover Percent\n",
    "silver_city_gdf['canopy_cover_percent'] = (\n",
    "    (silver_city_gdf['understory_area'] + silver_city_gdf['overstory_area']) / silver_city_gdf['total_area']) * 100\n",
    "\n",
    "# %% Group by Region and Summarize\n",
    "summary_stats = silver_city_gdf.groupby('name').agg({\n",
    "    'canopy_cover_percent': 'mean',\n",
    "    'understory_area': 'sum',\n",
    "    'overstory_area': 'sum',\n",
    "    'understory_percent': 'mean',\n",
    "    'overstory_percent': 'mean'\n",
    "}).reset_index()\n",
    "\n",
    "# %% Display Results\n",
    "print(summary_stats)\n"
   ]
  },
  {
   "cell_type": "code",
   "execution_count": null,
   "metadata": {},
   "outputs": [],
   "source": [
    "\n",
    "\n",
    "# %% Visualization of Understory and Overstory\n",
    "fig, ax = plt.subplots(figsize=(10, 6))\n",
    "bar_width = 0.35\n",
    "index = np.arange(len(summary_stats))\n",
    "\n",
    "ax.bar(index, summary_stats['understory_percent'], bar_width, label='Understory (1-3m)')\n",
    "ax.bar(index + bar_width, summary_stats['overstory_percent'], bar_width, label='Overstory (>3m)')\n",
    "\n",
    "ax.set_title('Understory and Overstory Percent Cover by Region')\n",
    "ax.set_xlabel('Region')\n",
    "ax.set_ylabel('Percent Cover')\n",
    "ax.set_xticks(index + bar_width / 2)\n",
    "ax.set_xticklabels(summary_stats['name'])\n",
    "ax.legend()\n",
    "\n",
    "plt.tight_layout()\n",
    "plt.show()\n",
    "\n",
    "# %% Summary Output\n",
    "print(summary_stats)\n"
   ]
  },
  {
   "cell_type": "markdown",
   "metadata": {},
   "source": [
    "C:\\Users\\bsf31\\miniconda3\n",
    "\n",
    "C:\\Users\\bsf31\\miniconda3\\Library\\bin\n",
    "\n",
    "C:\\Users\\bsf31\\miniconda3\\condabin\n",
    "\n",
    "C:\\Program Files\\Microsoft VS Code\\bin"
   ]
  },
  {
   "cell_type": "markdown",
   "metadata": {},
   "source": [
    "# Terminal Environment Changes\n",
    "\n",
    "## Extension: GitHub.copilot-chat\n",
    "\n",
    "Enables use of the `copilot-debug` command in the terminal.\n",
    "\n",
    "- `PATH=${env:PATH};c:\\Users\\bsf31\\AppData\\Roaming\\Code\\User\\globalStorage\\github.copilot-chat\\debugCommand`\n",
    "\n",
    "## Extension: vscode.git\n",
    "\n",
    "Enables the following features: git auth provider\n",
    "\n",
    "- `GIT_ASKPASS=c:\\Program Files\\Microsoft VS Code\\resources\\app\\extensions\\git\\dist\\askpass.sh`\n",
    "- `VSCODE_GIT_ASKPASS_NODE=C:\\Program Files\\Microsoft VS Code\\Code.exe`\n",
    "- `VSCODE_GIT_ASKPASS_EXTRA_ARGS=`\n",
    "- `VSCODE_GIT_ASKPASS_MAIN=c:\\Program Files\\Microsoft VS Code\\resources\\app\\extensions\\git\\dist\\askpass-main.js`\n",
    "- `VSCODE_GIT_IPC_HANDLE=\\\\.\\pipe\\vscode-git-6a112b088f-sock`\n",
    "\n",
    "## Extension: ms-python.python\n",
    "\n",
    "Activated environment for `~\\miniconda3\\python.exe`\n",
    "\n",
    "- `CONDA_DEFAULT_ENV=base`\n",
    "- `CONDA_EXE=C:/Users/bsf31/miniconda3/Scripts/conda.exe`\n",
    "- `CONDA_PREFIX=C:\\Users\\bsf31\\miniconda3`\n",
    "- `CONDA_PROMPT_MODIFIER=(base) `\n",
    "- `CONDA_PYTHON_EXE=C:/Users/bsf31/miniconda3/python.exe`\n",
    "- `CONDA_SHLVL=1`\n",
    "- `EXEPATH=C:\\Program Files\\Git\\bin`\n",
    "- `HOME=C:\\Users\\bsf31`\n",
    "- `MSYSTEM=MINGW64`\n",
    "- `PATH=C:\\Users\\bsf31\\miniconda3;C:\\Users\\bsf31\\miniconda3\\Library\\mingw-w64\\bin;C:\\Users\\bsf31\\miniconda3\\Library\\usr\\bin;C:\\Users\\bsf31\\miniconda3\\Library\\bin;C:\\Users\\bsf31\\miniconda3\\Scripts;C:\\Users\\bsf31\\miniconda3\\bin;C:\\Users\\bsf31\\miniconda3\\condabin;C:\\Program Files\\Git\\mingw64\\bin;C:\\Program Files\\Git\\usr\\bin;C:\\Users\\bsf31\\bin;C:\\WINDOWS\\system32;C:\\WINDOWS;C:\\WINDOWS\\System32\\Wbem;C:\\WINDOWS\\System32\\WindowsPowerShell\\v1.0;C:\\WINDOWS\\System32\\OpenSSH;C:\\Program Files\\dotnet;C:\\Program Files\\Git\\cmd;C:\\Program Files\\NVIDIA Corporation\\NVIDIA app\\NvDLISR;C:\\Program Files (x86)\\NVIDIA Corporation\\PhysX\\Common;C:\\Users\\bsf31\\.cargo\\bin;C:\\Users\\bsf31\\AppData\\Local\\Microsoft\\WindowsApps;${env:PATH}`\n",
    "- `PLINK_PROTOCOL=ssh`\n",
    "- `PWD=C:/Program Files/Microsoft VS Code`\n",
    "- `PYTHONIOENCODING=utf-8`\n",
    "- `PYTHONUNBUFFERED=1`\n",
    "- `SSL_CERT_FILE=C:\\Users\\bsf31\\miniconda3\\Library\\ssl\\cacert.pem`\n",
    "- `TERM=xterm-256color`\n",
    "- `_CE_CONDA=`\n",
    "- `_CE_M=`\n",
    "- `__CONDA_OPENSLL_CERT_FILE_SET=1`"
   ]
  }
 ],
 "metadata": {
  "kernelspec": {
   "display_name": "dev_env",
   "language": "python",
   "name": "python3"
  },
  "language_info": {
   "codemirror_mode": {
    "name": "ipython",
    "version": 3
   },
   "file_extension": ".py",
   "mimetype": "text/x-python",
   "name": "python",
   "nbconvert_exporter": "python",
   "pygments_lexer": "ipython3",
   "version": "3.12.3"
  }
 },
 "nbformat": 4,
 "nbformat_minor": 2
}
